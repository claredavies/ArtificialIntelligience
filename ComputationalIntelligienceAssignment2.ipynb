{
  "nbformat": 4,
  "nbformat_minor": 0,
  "metadata": {
    "colab": {
      "provenance": [],
      "collapsed_sections": [
        "hpi8nhdEk6CE",
        "3XRudRYzlJyF",
        "co_Q8nO2lNM3"
      ],
      "authorship_tag": "ABX9TyPb1wyRlmimR1LUT7nu0ukx",
      "include_colab_link": true
    },
    "kernelspec": {
      "name": "python3",
      "display_name": "Python 3"
    },
    "language_info": {
      "name": "python"
    }
  },
  "cells": [
    {
      "cell_type": "markdown",
      "metadata": {
        "id": "view-in-github",
        "colab_type": "text"
      },
      "source": [
        "<a href=\"https://colab.research.google.com/github/claredavies/ArtificialIntelligience/blob/main/ComputationalIntelligienceAssignment2.ipynb\" target=\"_parent\"><img src=\"https://colab.research.google.com/assets/colab-badge.svg\" alt=\"Open In Colab\"/></a>"
      ]
    },
    {
      "cell_type": "markdown",
      "source": [
        "# Import Libraries"
      ],
      "metadata": {
        "id": "hpi8nhdEk6CE"
      }
    },
    {
      "cell_type": "code",
      "source": [
        "import numpy\n",
        "import pandas as pd\n",
        "import random\n",
        "\n",
        "\"\"\"\n",
        "The y=target is to maximize this equation ASAP:\n",
        "    y = w1x1+w2x2+w3x3+w4x4+w5x5+6wx6\n",
        "    where (x1,x2,x3,x4,x5,x6)=(4,-2,3.5,5,-11,-4.7)\n",
        "    What are the best values for the 6 weights w1 to w6?\n",
        "    We are going to use the genetic algorithm for the best possible values after a number of generations.\n",
        "\"\"\"\n"
      ],
      "metadata": {
        "colab": {
          "base_uri": "https://localhost:8080/",
          "height": 0
        },
        "id": "OZzLF3xflZhg",
        "outputId": "0d73e94c-02a8-4ecf-dfa1-5ec85f5cae52"
      },
      "execution_count": 1,
      "outputs": [
        {
          "output_type": "execute_result",
          "data": {
            "text/plain": [
              "'\\nThe y=target is to maximize this equation ASAP:\\n    y = w1x1+w2x2+w3x3+w4x4+w5x5+6wx6\\n    where (x1,x2,x3,x4,x5,x6)=(4,-2,3.5,5,-11,-4.7)\\n    What are the best values for the 6 weights w1 to w6?\\n    We are going to use the genetic algorithm for the best possible values after a number of generations.\\n'"
            ],
            "application/vnd.google.colaboratory.intrinsic+json": {
              "type": "string"
            }
          },
          "metadata": {},
          "execution_count": 1
        }
      ]
    },
    {
      "cell_type": "code",
      "execution_count": 2,
      "metadata": {
        "id": "pfB57Nb2k2_K"
      },
      "outputs": [],
      "source": [
        "# genetic algorithm search of the one max optimization problem\n",
        "from numpy.random import randint\n",
        "from numpy.random import rand"
      ]
    },
    {
      "cell_type": "markdown",
      "source": [
        "# Functions"
      ],
      "metadata": {
        "id": "3XRudRYzlJyF"
      }
    },
    {
      "cell_type": "code",
      "source": [
        "def cal_pop_fitness(equation_inputs, pop):\n",
        "    # Calculating the fitness value of each solution in the current population.\n",
        "    # The fitness function caulcuates the sum of products between each input and its corresponding weight.\n",
        "    fitness = numpy.sum(pop*equation_inputs, axis=1)\n",
        "    return fitness"
      ],
      "metadata": {
        "id": "BoVHMQ1dnoVn"
      },
      "execution_count": 3,
      "outputs": []
    },
    {
      "cell_type": "code",
      "source": [
        "def select_mating_pool(pop, fitness, num_parents):\n",
        "    # Selecting the best individuals in the current generation as parents for producing the offspring of the next generation.\n",
        "    parents = numpy.empty((num_parents, pop.shape[1]))\n",
        "    for parent_num in range(num_parents):\n",
        "        max_fitness_idx = numpy.where(fitness == numpy.max(fitness))\n",
        "        max_fitness_idx = max_fitness_idx[0][0]\n",
        "        parents[parent_num, :] = pop[max_fitness_idx, :]\n",
        "        fitness[max_fitness_idx] = -99999999999\n",
        "    return parents"
      ],
      "metadata": {
        "id": "QhVQaN4anpgS"
      },
      "execution_count": 4,
      "outputs": []
    },
    {
      "cell_type": "code",
      "source": [
        "def crossover(parents, offspring_size):\n",
        "    offspring = numpy.empty(offspring_size)\n",
        "    # The point at which crossover takes place between two parents. Usually it is at the center.\n",
        "    crossover_point = numpy.uint8(offspring_size[1]/2)\n",
        "    for k in range(offspring_size[0]):\n",
        "        # Index of the first parent to mate.\n",
        "        parent1_idx = k%parents.shape[0]\n",
        "        # Index of the second parent to mate.\n",
        "        parent2_idx = (k+1)%parents.shape[0]\n",
        "        # The new offspring will have its first half of its genes taken from the first parent.\n",
        "        offspring[k, 0:crossover_point] = parents[parent1_idx, 0:crossover_point]\n",
        "        # The new offspring will have its second half of its genes taken from the second parent.\n",
        "        offspring[k, crossover_point:] = parents[parent2_idx, crossover_point:]\n",
        "    return offspring"
      ],
      "metadata": {
        "id": "1ipVyXBPnqt4"
      },
      "execution_count": 5,
      "outputs": []
    },
    {
      "cell_type": "code",
      "source": [
        "def mutation(offspring_crossover):\n",
        "    # Mutation changes a single gene in each offspring randomly.\n",
        "    for idx in range(offspring_crossover.shape[0]):\n",
        "        # The random value to be added to the gene.\n",
        "        random_value = numpy.random.uniform(-1.0, 1.0, 1)\n",
        "        offspring_crossover[idx, 4] = offspring_crossover[idx, 4] + random_value\n",
        "    return offspring_crossover"
      ],
      "metadata": {
        "id": "23fQJrUSnsOs"
      },
      "execution_count": 6,
      "outputs": []
    },
    {
      "cell_type": "markdown",
      "source": [
        "# Genetic Algorithm"
      ],
      "metadata": {
        "id": "co_Q8nO2lNM3"
      }
    },
    {
      "cell_type": "code",
      "source": [
        "# Inputs of the equation.\n",
        "equation_inputs = [4,-2,3.5,5,-11,-4.7]\n",
        "\n",
        "# Number of the weights we are looking to optimize.\n",
        "num_weights = 6\n",
        "\n",
        "\"\"\"\n",
        "Genetic algorithm parameters:\n",
        "    Mating pool size\n",
        "    Population size\n",
        "\"\"\"\n",
        "\n",
        "sol_per_pop = 8\n",
        "num_parents_mating = 4\n",
        "\n",
        "# Defining the population size.\n",
        "pop_size = (sol_per_pop,num_weights) # The population will have sol_per_pop chromosome where each chromosome has num_weights genes.\n",
        "\n",
        "#Creating the initial population.\n",
        "new_population = numpy.random.uniform(low=-4.0, high=4.0, size=pop_size)\n",
        "print(new_population)"
      ],
      "metadata": {
        "colab": {
          "base_uri": "https://localhost:8080/"
        },
        "id": "aXxrOT718wHx",
        "outputId": "bb733d8d-e783-4288-95f4-cf17f776fd64"
      },
      "execution_count": 7,
      "outputs": [
        {
          "output_type": "stream",
          "name": "stdout",
          "text": [
            "[[-3.07755121 -1.15218959 -3.09198927  1.56016492  2.93286405 -2.63164444]\n",
            " [-3.92407848 -0.57477096 -0.17982241 -1.74551137 -0.44493719 -2.20722075]\n",
            " [ 3.74589958  1.28143012 -3.35331461 -2.66043445  2.81726544  1.65176607]\n",
            " [-1.934991    1.75724524 -2.69190067  0.65703143  3.31507433  0.13270122]\n",
            " [ 2.96290152 -0.23718798 -3.85767334 -0.0079308   0.48277099  1.95335724]\n",
            " [-2.63731583  1.4145668   2.31945949 -2.4656567  -1.33325376  0.35072146]\n",
            " [ 3.47803198 -2.84049944  0.3258693   2.27388744 -0.97436805 -1.52546197]\n",
            " [-2.88577089 -2.00506123  0.86320134 -0.36559671  3.41421058 -2.66813887]]\n"
          ]
        }
      ]
    },
    {
      "cell_type": "code",
      "source": [
        "def evolutionary_algorithm(num_generations):\n",
        "  for generation in range(num_generations):\n",
        "      print(\"Generation : \", generation)\n",
        "      # Measing the fitness of each chromosome in the population.\n",
        "      fitness = cal_pop_fitness(equation_inputs, new_population)\n",
        "\n",
        "      # Selecting the best parents in the population for mating.\n",
        "      parents = select_mating_pool(new_population, fitness, \n",
        "                                        num_parents_mating)\n",
        "\n",
        "      # Generating next generation using crossover.\n",
        "      offspring_crossover = crossover(parents,\n",
        "                                        offspring_size=(pop_size[0]-parents.shape[0], num_weights))\n",
        "\n",
        "      # Adding some variations to the offsrping using mutation.\n",
        "      offspring_mutation = mutation(offspring_crossover)\n",
        "\n",
        "      # Creating the new population based on the parents and offspring.\n",
        "      new_population[0:parents.shape[0], :] = parents\n",
        "      new_population[parents.shape[0]:, :] = offspring_mutation\n",
        "\n",
        "      # The best result in the current iteration.\n",
        "      print(\"Best result : \", numpy.max(numpy.sum(new_population*equation_inputs, axis=1)))\n",
        "\n",
        "  # Getting the best solution after iterating finishing all generations.\n",
        "  #At first, the fitness is calculated for each solution in the final generation.\n",
        "  fitness = cal_pop_fitness(equation_inputs, new_population)\n",
        "  # Then return the index of that solution corresponding to the best fitness.\n",
        "  best_match_idx = numpy.where(fitness == numpy.max(fitness))\n",
        "\n",
        "  print(\"Finished Iterations\")\n",
        "  print(\"Best solution : \", new_population[best_match_idx, :])\n",
        "  print(\"Best solution fitness : \", fitness[best_match_idx])\n",
        "\n",
        "  return new_population[best_match_idx, :]"
      ],
      "metadata": {
        "id": "j7tuYPFk8wrf"
      },
      "execution_count": 8,
      "outputs": []
    },
    {
      "cell_type": "markdown",
      "source": [
        "# Inputs"
      ],
      "metadata": {
        "id": "KY8rKVcYA2qW"
      }
    },
    {
      "cell_type": "markdown",
      "source": [
        "Class Info"
      ],
      "metadata": {
        "id": "m5tfB5_3Dkvc"
      }
    },
    {
      "cell_type": "code",
      "source": [
        "#Creating Series\n",
        "class_series = pd.Series(['Class1', 'Class1', 'Class1', 'Class1','Class2', 'Class2', 'Class2', 'Class2'])\n",
        "subject_series = pd.Series(['Maths', 'English', 'Chemistry', 'History','Maths', 'English', 'History', 'Physics'])\n",
        "hours_series = pd.Series([3, 4, 5, 3, 2, 4, 5, 3])\n",
        "\n",
        "\n",
        "#Creating Dictionary\n",
        "frame = { 'Class': class_series, 'Subject': subject_series, 'Hours': hours_series }\n",
        "#Creating Dataframe\n",
        "class_subject_hours_dataframe = pd.DataFrame(frame)\n",
        "\n",
        "#Printing dataframe\n",
        "print(class_subject_hours_dataframe)"
      ],
      "metadata": {
        "colab": {
          "base_uri": "https://localhost:8080/"
        },
        "id": "pu560w_jCjrd",
        "outputId": "5c89bb66-28fc-48a2-df01-193f2689ee0c"
      },
      "execution_count": 9,
      "outputs": [
        {
          "output_type": "stream",
          "name": "stdout",
          "text": [
            "    Class    Subject  Hours\n",
            "0  Class1      Maths      3\n",
            "1  Class1    English      4\n",
            "2  Class1  Chemistry      5\n",
            "3  Class1    History      3\n",
            "4  Class2      Maths      2\n",
            "5  Class2    English      4\n",
            "6  Class2    History      5\n",
            "7  Class2    Physics      3\n"
          ]
        }
      ]
    },
    {
      "cell_type": "markdown",
      "source": [
        "Teacher Info"
      ],
      "metadata": {
        "id": "D0_HYWRBDnKb"
      }
    },
    {
      "cell_type": "code",
      "source": [
        "teacher_series = pd.Series(['ProfessorA', 'ProfessorA', 'ProfessorB', 'ProfessorB','ProfessorC', 'ProfessorC'])\n",
        "subject_series = pd.Series(['Maths', 'English', 'Chemistry', 'History','Maths', 'Physics'])\n",
        "\n",
        "#Creating Dictionary\n",
        "frame = { 'Teacher': teacher_series, 'Subject': subject_series}\n",
        "#Creating Dataframe\n",
        "teacher_subject_dataframe = pd.DataFrame(frame)\n",
        "\n",
        "teacher_subject_array = teacher_subject_dataframe.to_numpy()\n",
        "#Printing dataframe\n",
        "print(teacher_subject_array)"
      ],
      "metadata": {
        "colab": {
          "base_uri": "https://localhost:8080/"
        },
        "id": "b8bE0dQUDoWU",
        "outputId": "d049e689-feee-4d8f-e13f-0978c628b439"
      },
      "execution_count": 10,
      "outputs": [
        {
          "output_type": "stream",
          "name": "stdout",
          "text": [
            "[['ProfessorA' 'Maths']\n",
            " ['ProfessorA' 'English']\n",
            " ['ProfessorB' 'Chemistry']\n",
            " ['ProfessorB' 'History']\n",
            " ['ProfessorC' 'Maths']\n",
            " ['ProfessorC' 'Physics']]\n"
          ]
        }
      ]
    },
    {
      "cell_type": "markdown",
      "source": [
        "Define Timetable"
      ],
      "metadata": {
        "id": "RKEqX0fvEObt"
      }
    },
    {
      "cell_type": "code",
      "source": [
        "startTime = 10\n",
        "durationLesson = 1\n",
        "lunchTime = 12\n",
        "durationLunch = 1\n",
        "endTime = 15\n",
        "\n",
        "singleTimetable = []\n",
        "daysOfWeek = ['Mon','Tue','Wed', 'Thur']\n",
        "\n",
        "for day in daysOfWeek:\n",
        "  for time in range(startTime, endTime, durationLesson):\n",
        "    if time != lunchTime:\n",
        "      singleTimetable.append([day, time])\n",
        "\n",
        "print(singleTimetable)"
      ],
      "metadata": {
        "colab": {
          "base_uri": "https://localhost:8080/"
        },
        "id": "Z5xvAvndEPuH",
        "outputId": "96137664-a31a-4ac6-8da2-eac9a238be58"
      },
      "execution_count": 11,
      "outputs": [
        {
          "output_type": "stream",
          "name": "stdout",
          "text": [
            "[['Mon', 10], ['Mon', 11], ['Mon', 13], ['Mon', 14], ['Tue', 10], ['Tue', 11], ['Tue', 13], ['Tue', 14], ['Wed', 10], ['Wed', 11], ['Wed', 13], ['Wed', 14], ['Thur', 10], ['Thur', 11], ['Thur', 13], ['Thur', 14]]\n"
          ]
        }
      ]
    },
    {
      "cell_type": "code",
      "source": [
        "def create_timetables(class_subject_hours_dataframe, timetable):\n",
        "  all_timetables = []\n",
        "  blank_timetable = [None] * len(timetable)\n",
        "  number_class_timetables = class_subject_hours_dataframe.Class.nunique()\n",
        "\n",
        "  for x in range(number_class_timetables):\n",
        "    all_timetables.append(blank_timetable)\n",
        "\n",
        "  # print(all_timetables)\n",
        "  all_timetables_array = numpy.array(all_timetables)\n",
        "  return all_timetables_array"
      ],
      "metadata": {
        "id": "aYunxaTE4jxu"
      },
      "execution_count": 43,
      "outputs": []
    },
    {
      "cell_type": "code",
      "source": [
        "def make_array_1_hour_class(class_mask):\n",
        "  list_classes_1hr = []\n",
        "  for index, row in class_mask.iterrows():\n",
        "    number_hours_per_class = row['Hours']\n",
        "    for x in range(number_hours_per_class):\n",
        "      list_classes_1hr.append(row['Subject'])\n",
        "  list_finished = list_classes_1hr.copy()\n",
        "  return list_finished"
      ],
      "metadata": {
        "id": "4ORWx-RRxGwj"
      },
      "execution_count": 13,
      "outputs": []
    },
    {
      "cell_type": "code",
      "source": [
        "def generate_intial_population(class_subject_hours_dataframe, teacher_subject_dataframe, timetable, populationSize):\n",
        "  all_timetables = create_timetables(class_subject_hours_dataframe, timetable)\n",
        "  class_names = class_subject_hours_dataframe.Class.unique()\n",
        "  number_class_names = class_subject_hours_dataframe.Class.nunique()\n",
        "\n",
        "  trackClass = 0\n",
        "\n",
        "  for class_name in class_names:\n",
        "    mask = class_subject_hours_dataframe.loc[class_subject_hours_dataframe['Class'] == class_name]\n",
        "    list_classes_1hr = make_array_1_hour_class(mask)\n",
        "    \n",
        "    list_indices_single_timetable = [None] * len(timetable)\n",
        "    for i in range(len(list_indices_single_timetable)):\n",
        "      list_indices_single_timetable[i] = i\n",
        "   \n",
        "    # print(list_indices_single_timetable)\n",
        "\n",
        "    range_end_single_timetable = len(list_indices_single_timetable) - 1\n",
        "\n",
        "    for j in range((len(list_classes_1hr) - 1)):\n",
        "      random_num = random.randint(0, range_end_single_timetable)\n",
        "      # print(\"list_classes_1hr \" + str(list_classes_1hr))\n",
        "      # print(\"j (position): \" + str(j))\n",
        "      # print(\"random number: \" + str(random_num))\n",
        "\n",
        "      random_num_index_value = list_indices_single_timetable[random_num]\n",
        "      # print(\"value of random number index (in timetable): \" + str(random_num_index_value))\n",
        "      # print(\"list_indices_single_timetable :  \" + str(list_indices_single_timetable))\n",
        "\n",
        "      # print(all_timetables[trackClass][random_num_index_value])\n",
        "      # print(list_classes_1hr[j])\n",
        "      all_timetables[trackClass][random_num_index_value] = list_classes_1hr[j]\n",
        "  \n",
        "      list_indices_single_timetable.pop(random_num)\n",
        "      range_end_single_timetable = range_end_single_timetable - 1\n",
        "\n",
        "      # print(\"list_indices_single_timetable: \" + str(list_indices_single_timetable))\n",
        "\n",
        "\n",
        "      print(all_timetables)\n",
        "  \n",
        "    trackClass = trackClass + 1"
      ],
      "metadata": {
        "id": "1r7LJIuQ2_sT"
      },
      "execution_count": 80,
      "outputs": []
    },
    {
      "cell_type": "code",
      "source": [
        "generate_intial_population(class_subject_hours_dataframe, teacher_subject_dataframe, singleTimetable, 4)"
      ],
      "metadata": {
        "colab": {
          "base_uri": "https://localhost:8080/"
        },
        "id": "yagIzCk34Fy3",
        "outputId": "1a2e995c-6064-4b98-bf10-12b0bb76958c"
      },
      "execution_count": 81,
      "outputs": [
        {
          "output_type": "stream",
          "name": "stdout",
          "text": [
            "list_classes_1hr ['Maths', 'Maths', 'Maths', 'English', 'English', 'English', 'English', 'Chemistry', 'Chemistry', 'Chemistry', 'Chemistry', 'Chemistry', 'History', 'History', 'History']\n",
            "j (position): 0\n",
            "random number: 4\n",
            "value of random number index (in timetable): 4\n",
            "list_indices_single_timetable :  [0, 1, 2, 3, 4, 5, 6, 7, 8, 9, 10, 11, 12, 13, 14, 15]\n",
            "None\n",
            "Maths\n",
            "[[None None None None 'Maths' None None None None None None None None\n",
            "  None None None]\n",
            " [None None None None None None None None None None None None None None\n",
            "  None None]]\n",
            "list_classes_1hr ['Maths', 'Maths', 'Maths', 'English', 'English', 'English', 'English', 'Chemistry', 'Chemistry', 'Chemistry', 'Chemistry', 'Chemistry', 'History', 'History', 'History']\n",
            "j (position): 1\n",
            "random number: 13\n",
            "value of random number index (in timetable): 14\n",
            "list_indices_single_timetable :  [0, 1, 2, 3, 5, 6, 7, 8, 9, 10, 11, 12, 13, 14, 15]\n",
            "None\n",
            "Maths\n",
            "[[None None None None 'Maths' None None None None None None None None\n",
            "  None 'Maths' None]\n",
            " [None None None None None None None None None None None None None None\n",
            "  None None]]\n",
            "list_classes_1hr ['Maths', 'Maths', 'Maths', 'English', 'English', 'English', 'English', 'Chemistry', 'Chemistry', 'Chemistry', 'Chemistry', 'Chemistry', 'History', 'History', 'History']\n",
            "j (position): 2\n",
            "random number: 11\n",
            "value of random number index (in timetable): 12\n",
            "list_indices_single_timetable :  [0, 1, 2, 3, 5, 6, 7, 8, 9, 10, 11, 12, 13, 15]\n",
            "None\n",
            "Maths\n",
            "[[None None None None 'Maths' None None None None None None None 'Maths'\n",
            "  None 'Maths' None]\n",
            " [None None None None None None None None None None None None None None\n",
            "  None None]]\n",
            "list_classes_1hr ['Maths', 'Maths', 'Maths', 'English', 'English', 'English', 'English', 'Chemistry', 'Chemistry', 'Chemistry', 'Chemistry', 'Chemistry', 'History', 'History', 'History']\n",
            "j (position): 3\n",
            "random number: 4\n",
            "value of random number index (in timetable): 5\n",
            "list_indices_single_timetable :  [0, 1, 2, 3, 5, 6, 7, 8, 9, 10, 11, 13, 15]\n",
            "None\n",
            "English\n",
            "[[None None None None 'Maths' 'English' None None None None None None\n",
            "  'Maths' None 'Maths' None]\n",
            " [None None None None None None None None None None None None None None\n",
            "  None None]]\n",
            "list_classes_1hr ['Maths', 'Maths', 'Maths', 'English', 'English', 'English', 'English', 'Chemistry', 'Chemistry', 'Chemistry', 'Chemistry', 'Chemistry', 'History', 'History', 'History']\n",
            "j (position): 4\n",
            "random number: 1\n",
            "value of random number index (in timetable): 1\n",
            "list_indices_single_timetable :  [0, 1, 2, 3, 6, 7, 8, 9, 10, 11, 13, 15]\n",
            "None\n",
            "English\n",
            "[[None 'English' None None 'Maths' 'English' None None None None None\n",
            "  None 'Maths' None 'Maths' None]\n",
            " [None None None None None None None None None None None None None None\n",
            "  None None]]\n",
            "list_classes_1hr ['Maths', 'Maths', 'Maths', 'English', 'English', 'English', 'English', 'Chemistry', 'Chemistry', 'Chemistry', 'Chemistry', 'Chemistry', 'History', 'History', 'History']\n",
            "j (position): 5\n",
            "random number: 2\n",
            "value of random number index (in timetable): 3\n",
            "list_indices_single_timetable :  [0, 2, 3, 6, 7, 8, 9, 10, 11, 13, 15]\n",
            "None\n",
            "English\n",
            "[[None 'English' None 'English' 'Maths' 'English' None None None None\n",
            "  None None 'Maths' None 'Maths' None]\n",
            " [None None None None None None None None None None None None None None\n",
            "  None None]]\n",
            "list_classes_1hr ['Maths', 'Maths', 'Maths', 'English', 'English', 'English', 'English', 'Chemistry', 'Chemistry', 'Chemistry', 'Chemistry', 'Chemistry', 'History', 'History', 'History']\n",
            "j (position): 6\n",
            "random number: 0\n",
            "value of random number index (in timetable): 0\n",
            "list_indices_single_timetable :  [0, 2, 6, 7, 8, 9, 10, 11, 13, 15]\n",
            "None\n",
            "English\n",
            "[['English' 'English' None 'English' 'Maths' 'English' None None None\n",
            "  None None None 'Maths' None 'Maths' None]\n",
            " [None None None None None None None None None None None None None None\n",
            "  None None]]\n",
            "list_classes_1hr ['Maths', 'Maths', 'Maths', 'English', 'English', 'English', 'English', 'Chemistry', 'Chemistry', 'Chemistry', 'Chemistry', 'Chemistry', 'History', 'History', 'History']\n",
            "j (position): 7\n",
            "random number: 4\n",
            "value of random number index (in timetable): 9\n",
            "list_indices_single_timetable :  [2, 6, 7, 8, 9, 10, 11, 13, 15]\n",
            "None\n",
            "Chemistry\n",
            "[['English' 'English' None 'English' 'Maths' 'English' None None None\n",
            "  'Chemistry' None None 'Maths' None 'Maths' None]\n",
            " [None None None None None None None None None None None None None None\n",
            "  None None]]\n",
            "list_classes_1hr ['Maths', 'Maths', 'Maths', 'English', 'English', 'English', 'English', 'Chemistry', 'Chemistry', 'Chemistry', 'Chemistry', 'Chemistry', 'History', 'History', 'History']\n",
            "j (position): 8\n",
            "random number: 0\n",
            "value of random number index (in timetable): 2\n",
            "list_indices_single_timetable :  [2, 6, 7, 8, 10, 11, 13, 15]\n",
            "None\n",
            "Chemistry\n",
            "[['English' 'English' 'Chemistry' 'English' 'Maths' 'English' None None\n",
            "  None 'Chemistry' None None 'Maths' None 'Maths' None]\n",
            " [None None None None None None None None None None None None None None\n",
            "  None None]]\n",
            "list_classes_1hr ['Maths', 'Maths', 'Maths', 'English', 'English', 'English', 'English', 'Chemistry', 'Chemistry', 'Chemistry', 'Chemistry', 'Chemistry', 'History', 'History', 'History']\n",
            "j (position): 9\n",
            "random number: 6\n",
            "value of random number index (in timetable): 15\n",
            "list_indices_single_timetable :  [6, 7, 8, 10, 11, 13, 15]\n",
            "None\n",
            "Chemistry\n",
            "[['English' 'English' 'Chemistry' 'English' 'Maths' 'English' None None\n",
            "  None 'Chemistry' None None 'Maths' None 'Maths' 'Chemistry']\n",
            " [None None None None None None None None None None None None None None\n",
            "  None None]]\n",
            "list_classes_1hr ['Maths', 'Maths', 'Maths', 'English', 'English', 'English', 'English', 'Chemistry', 'Chemistry', 'Chemistry', 'Chemistry', 'Chemistry', 'History', 'History', 'History']\n",
            "j (position): 10\n",
            "random number: 2\n",
            "value of random number index (in timetable): 8\n",
            "list_indices_single_timetable :  [6, 7, 8, 10, 11, 13]\n",
            "None\n",
            "Chemistry\n",
            "[['English' 'English' 'Chemistry' 'English' 'Maths' 'English' None None\n",
            "  'Chemistry' 'Chemistry' None None 'Maths' None 'Maths' 'Chemistry']\n",
            " [None None None None None None None None None None None None None None\n",
            "  None None]]\n",
            "list_classes_1hr ['Maths', 'Maths', 'Maths', 'English', 'English', 'English', 'English', 'Chemistry', 'Chemistry', 'Chemistry', 'Chemistry', 'Chemistry', 'History', 'History', 'History']\n",
            "j (position): 11\n",
            "random number: 3\n",
            "value of random number index (in timetable): 11\n",
            "list_indices_single_timetable :  [6, 7, 10, 11, 13]\n",
            "None\n",
            "Chemistry\n",
            "[['English' 'English' 'Chemistry' 'English' 'Maths' 'English' None None\n",
            "  'Chemistry' 'Chemistry' None 'Chemistry' 'Maths' None 'Maths'\n",
            "  'Chemistry']\n",
            " [None None None None None None None None None None None None None None\n",
            "  None None]]\n",
            "list_classes_1hr ['Maths', 'Maths', 'Maths', 'English', 'English', 'English', 'English', 'Chemistry', 'Chemistry', 'Chemistry', 'Chemistry', 'Chemistry', 'History', 'History', 'History']\n",
            "j (position): 12\n",
            "random number: 1\n",
            "value of random number index (in timetable): 7\n",
            "list_indices_single_timetable :  [6, 7, 10, 13]\n",
            "None\n",
            "History\n",
            "[['English' 'English' 'Chemistry' 'English' 'Maths' 'English' None\n",
            "  'History' 'Chemistry' 'Chemistry' None 'Chemistry' 'Maths' None 'Maths'\n",
            "  'Chemistry']\n",
            " [None None None None None None None None None None None None None None\n",
            "  None None]]\n",
            "list_classes_1hr ['Maths', 'Maths', 'Maths', 'English', 'English', 'English', 'English', 'Chemistry', 'Chemistry', 'Chemistry', 'Chemistry', 'Chemistry', 'History', 'History', 'History']\n",
            "j (position): 13\n",
            "random number: 0\n",
            "value of random number index (in timetable): 6\n",
            "list_indices_single_timetable :  [6, 10, 13]\n",
            "None\n",
            "History\n",
            "[['English' 'English' 'Chemistry' 'English' 'Maths' 'English' 'History'\n",
            "  'History' 'Chemistry' 'Chemistry' None 'Chemistry' 'Maths' None 'Maths'\n",
            "  'Chemistry']\n",
            " [None None None None None None None None None None None None None None\n",
            "  None None]]\n",
            "SWITCHING\n",
            "list_classes_1hr ['Maths', 'Maths', 'English', 'English', 'English', 'English', 'History', 'History', 'History', 'History', 'History', 'Physics', 'Physics', 'Physics']\n",
            "j (position): 0\n",
            "random number: 5\n",
            "value of random number index (in timetable): 5\n",
            "list_indices_single_timetable :  [0, 1, 2, 3, 4, 5, 6, 7, 8, 9, 10, 11, 12, 13, 14, 15]\n",
            "None\n",
            "Maths\n",
            "[['English' 'English' 'Chemistry' 'English' 'Maths' 'English' 'History'\n",
            "  'History' 'Chemistry' 'Chemistry' None 'Chemistry' 'Maths' None 'Maths'\n",
            "  'Chemistry']\n",
            " [None None None None None 'Maths' None None None None None None None\n",
            "  None None None]]\n",
            "list_classes_1hr ['Maths', 'Maths', 'English', 'English', 'English', 'English', 'History', 'History', 'History', 'History', 'History', 'Physics', 'Physics', 'Physics']\n",
            "j (position): 1\n",
            "random number: 2\n",
            "value of random number index (in timetable): 2\n",
            "list_indices_single_timetable :  [0, 1, 2, 3, 4, 6, 7, 8, 9, 10, 11, 12, 13, 14, 15]\n",
            "None\n",
            "Maths\n",
            "[['English' 'English' 'Chemistry' 'English' 'Maths' 'English' 'History'\n",
            "  'History' 'Chemistry' 'Chemistry' None 'Chemistry' 'Maths' None 'Maths'\n",
            "  'Chemistry']\n",
            " [None None 'Maths' None None 'Maths' None None None None None None None\n",
            "  None None None]]\n",
            "list_classes_1hr ['Maths', 'Maths', 'English', 'English', 'English', 'English', 'History', 'History', 'History', 'History', 'History', 'Physics', 'Physics', 'Physics']\n",
            "j (position): 2\n",
            "random number: 11\n",
            "value of random number index (in timetable): 13\n",
            "list_indices_single_timetable :  [0, 1, 3, 4, 6, 7, 8, 9, 10, 11, 12, 13, 14, 15]\n",
            "None\n",
            "English\n",
            "[['English' 'English' 'Chemistry' 'English' 'Maths' 'English' 'History'\n",
            "  'History' 'Chemistry' 'Chemistry' None 'Chemistry' 'Maths' None 'Maths'\n",
            "  'Chemistry']\n",
            " [None None 'Maths' None None 'Maths' None None None None None None None\n",
            "  'English' None None]]\n",
            "list_classes_1hr ['Maths', 'Maths', 'English', 'English', 'English', 'English', 'History', 'History', 'History', 'History', 'History', 'Physics', 'Physics', 'Physics']\n",
            "j (position): 3\n",
            "random number: 5\n",
            "value of random number index (in timetable): 7\n",
            "list_indices_single_timetable :  [0, 1, 3, 4, 6, 7, 8, 9, 10, 11, 12, 14, 15]\n",
            "None\n",
            "English\n",
            "[['English' 'English' 'Chemistry' 'English' 'Maths' 'English' 'History'\n",
            "  'History' 'Chemistry' 'Chemistry' None 'Chemistry' 'Maths' None 'Maths'\n",
            "  'Chemistry']\n",
            " [None None 'Maths' None None 'Maths' None 'English' None None None None\n",
            "  None 'English' None None]]\n",
            "list_classes_1hr ['Maths', 'Maths', 'English', 'English', 'English', 'English', 'History', 'History', 'History', 'History', 'History', 'Physics', 'Physics', 'Physics']\n",
            "j (position): 4\n",
            "random number: 1\n",
            "value of random number index (in timetable): 1\n",
            "list_indices_single_timetable :  [0, 1, 3, 4, 6, 8, 9, 10, 11, 12, 14, 15]\n",
            "None\n",
            "English\n",
            "[['English' 'English' 'Chemistry' 'English' 'Maths' 'English' 'History'\n",
            "  'History' 'Chemistry' 'Chemistry' None 'Chemistry' 'Maths' None 'Maths'\n",
            "  'Chemistry']\n",
            " [None 'English' 'Maths' None None 'Maths' None 'English' None None None\n",
            "  None None 'English' None None]]\n",
            "list_classes_1hr ['Maths', 'Maths', 'English', 'English', 'English', 'English', 'History', 'History', 'History', 'History', 'History', 'Physics', 'Physics', 'Physics']\n",
            "j (position): 5\n",
            "random number: 0\n",
            "value of random number index (in timetable): 0\n",
            "list_indices_single_timetable :  [0, 3, 4, 6, 8, 9, 10, 11, 12, 14, 15]\n",
            "None\n",
            "English\n",
            "[['English' 'English' 'Chemistry' 'English' 'Maths' 'English' 'History'\n",
            "  'History' 'Chemistry' 'Chemistry' None 'Chemistry' 'Maths' None 'Maths'\n",
            "  'Chemistry']\n",
            " ['English' 'English' 'Maths' None None 'Maths' None 'English' None None\n",
            "  None None None 'English' None None]]\n",
            "list_classes_1hr ['Maths', 'Maths', 'English', 'English', 'English', 'English', 'History', 'History', 'History', 'History', 'History', 'Physics', 'Physics', 'Physics']\n",
            "j (position): 6\n",
            "random number: 6\n",
            "value of random number index (in timetable): 11\n",
            "list_indices_single_timetable :  [3, 4, 6, 8, 9, 10, 11, 12, 14, 15]\n",
            "None\n",
            "History\n",
            "[['English' 'English' 'Chemistry' 'English' 'Maths' 'English' 'History'\n",
            "  'History' 'Chemistry' 'Chemistry' None 'Chemistry' 'Maths' None 'Maths'\n",
            "  'Chemistry']\n",
            " ['English' 'English' 'Maths' None None 'Maths' None 'English' None None\n",
            "  None 'History' None 'English' None None]]\n",
            "list_classes_1hr ['Maths', 'Maths', 'English', 'English', 'English', 'English', 'History', 'History', 'History', 'History', 'History', 'Physics', 'Physics', 'Physics']\n",
            "j (position): 7\n",
            "random number: 0\n",
            "value of random number index (in timetable): 3\n",
            "list_indices_single_timetable :  [3, 4, 6, 8, 9, 10, 12, 14, 15]\n",
            "None\n",
            "History\n",
            "[['English' 'English' 'Chemistry' 'English' 'Maths' 'English' 'History'\n",
            "  'History' 'Chemistry' 'Chemistry' None 'Chemistry' 'Maths' None 'Maths'\n",
            "  'Chemistry']\n",
            " ['English' 'English' 'Maths' 'History' None 'Maths' None 'English' None\n",
            "  None None 'History' None 'English' None None]]\n",
            "list_classes_1hr ['Maths', 'Maths', 'English', 'English', 'English', 'English', 'History', 'History', 'History', 'History', 'History', 'Physics', 'Physics', 'Physics']\n",
            "j (position): 8\n",
            "random number: 1\n",
            "value of random number index (in timetable): 6\n",
            "list_indices_single_timetable :  [4, 6, 8, 9, 10, 12, 14, 15]\n",
            "None\n",
            "History\n",
            "[['English' 'English' 'Chemistry' 'English' 'Maths' 'English' 'History'\n",
            "  'History' 'Chemistry' 'Chemistry' None 'Chemistry' 'Maths' None 'Maths'\n",
            "  'Chemistry']\n",
            " ['English' 'English' 'Maths' 'History' None 'Maths' 'History' 'English'\n",
            "  None None None 'History' None 'English' None None]]\n",
            "list_classes_1hr ['Maths', 'Maths', 'English', 'English', 'English', 'English', 'History', 'History', 'History', 'History', 'History', 'Physics', 'Physics', 'Physics']\n",
            "j (position): 9\n",
            "random number: 6\n",
            "value of random number index (in timetable): 15\n",
            "list_indices_single_timetable :  [4, 8, 9, 10, 12, 14, 15]\n",
            "None\n",
            "History\n",
            "[['English' 'English' 'Chemistry' 'English' 'Maths' 'English' 'History'\n",
            "  'History' 'Chemistry' 'Chemistry' None 'Chemistry' 'Maths' None 'Maths'\n",
            "  'Chemistry']\n",
            " ['English' 'English' 'Maths' 'History' None 'Maths' 'History' 'English'\n",
            "  None None None 'History' None 'English' None 'History']]\n",
            "list_classes_1hr ['Maths', 'Maths', 'English', 'English', 'English', 'English', 'History', 'History', 'History', 'History', 'History', 'Physics', 'Physics', 'Physics']\n",
            "j (position): 10\n",
            "random number: 2\n",
            "value of random number index (in timetable): 9\n",
            "list_indices_single_timetable :  [4, 8, 9, 10, 12, 14]\n",
            "None\n",
            "History\n",
            "[['English' 'English' 'Chemistry' 'English' 'Maths' 'English' 'History'\n",
            "  'History' 'Chemistry' 'Chemistry' None 'Chemistry' 'Maths' None 'Maths'\n",
            "  'Chemistry']\n",
            " ['English' 'English' 'Maths' 'History' None 'Maths' 'History' 'English'\n",
            "  None 'History' None 'History' None 'English' None 'History']]\n",
            "list_classes_1hr ['Maths', 'Maths', 'English', 'English', 'English', 'English', 'History', 'History', 'History', 'History', 'History', 'Physics', 'Physics', 'Physics']\n",
            "j (position): 11\n",
            "random number: 0\n",
            "value of random number index (in timetable): 4\n",
            "list_indices_single_timetable :  [4, 8, 10, 12, 14]\n",
            "None\n",
            "Physics\n",
            "[['English' 'English' 'Chemistry' 'English' 'Maths' 'English' 'History'\n",
            "  'History' 'Chemistry' 'Chemistry' None 'Chemistry' 'Maths' None 'Maths'\n",
            "  'Chemistry']\n",
            " ['English' 'English' 'Maths' 'History' 'Physics' 'Maths' 'History'\n",
            "  'English' None 'History' None 'History' None 'English' None 'History']]\n",
            "list_classes_1hr ['Maths', 'Maths', 'English', 'English', 'English', 'English', 'History', 'History', 'History', 'History', 'History', 'Physics', 'Physics', 'Physics']\n",
            "j (position): 12\n",
            "random number: 3\n",
            "value of random number index (in timetable): 14\n",
            "list_indices_single_timetable :  [8, 10, 12, 14]\n",
            "None\n",
            "Physics\n",
            "[['English' 'English' 'Chemistry' 'English' 'Maths' 'English' 'History'\n",
            "  'History' 'Chemistry' 'Chemistry' None 'Chemistry' 'Maths' None 'Maths'\n",
            "  'Chemistry']\n",
            " ['English' 'English' 'Maths' 'History' 'Physics' 'Maths' 'History'\n",
            "  'English' None 'History' None 'History' None 'English' 'Physics'\n",
            "  'History']]\n",
            "SWITCHING\n"
          ]
        }
      ]
    },
    {
      "cell_type": "markdown",
      "source": [
        "# Execution"
      ],
      "metadata": {
        "id": "JPWnaA_ImUqh"
      }
    },
    {
      "cell_type": "code",
      "source": [
        "num_generations = 5\n",
        "\n",
        "evolutionary_algorithm(num_generations)"
      ],
      "metadata": {
        "colab": {
          "base_uri": "https://localhost:8080/"
        },
        "id": "uCYkdMU8maCU",
        "outputId": "cbc92b6c-31c3-4cde-985e-9f5631b9220a"
      },
      "execution_count": 38,
      "outputs": [
        {
          "output_type": "stream",
          "name": "stdout",
          "text": [
            "Generation :  0\n",
            "Best result :  134.30444802581837\n",
            "Generation :  1\n",
            "Best result :  134.30444802581837\n",
            "Generation :  2\n",
            "Best result :  138.95503532987385\n",
            "Generation :  3\n",
            "Best result :  142.72556515422528\n",
            "Generation :  4\n",
            "Best result :  150.93878864210043\n",
            "Finished Iterations\n",
            "Best solution :  [[[ -1.62969513  -2.97072974   2.30087151   2.18980049 -10.44629408\n",
            "    -3.74570684]]]\n",
            "Best solution fitness :  [150.93878864]\n"
          ]
        },
        {
          "output_type": "execute_result",
          "data": {
            "text/plain": [
              "array([[[ -1.62969513,  -2.97072974,   2.30087151,   2.18980049,\n",
              "         -10.44629408,  -3.74570684]]])"
            ]
          },
          "metadata": {},
          "execution_count": 38
        }
      ]
    }
  ]
}