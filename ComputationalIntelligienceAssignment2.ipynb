{
  "nbformat": 4,
  "nbformat_minor": 0,
  "metadata": {
    "colab": {
      "provenance": [],
      "collapsed_sections": [
        "hpi8nhdEk6CE",
        "3XRudRYzlJyF",
        "co_Q8nO2lNM3"
      ],
      "authorship_tag": "ABX9TyNcXtdGuwl/sGpyPoVkJ8yb",
      "include_colab_link": true
    },
    "kernelspec": {
      "name": "python3",
      "display_name": "Python 3"
    },
    "language_info": {
      "name": "python"
    }
  },
  "cells": [
    {
      "cell_type": "markdown",
      "metadata": {
        "id": "view-in-github",
        "colab_type": "text"
      },
      "source": [
        "<a href=\"https://colab.research.google.com/github/claredavies/ArtificialIntelligience/blob/main/ComputationalIntelligienceAssignment2.ipynb\" target=\"_parent\"><img src=\"https://colab.research.google.com/assets/colab-badge.svg\" alt=\"Open In Colab\"/></a>"
      ]
    },
    {
      "cell_type": "markdown",
      "source": [
        "# Import Libraries"
      ],
      "metadata": {
        "id": "hpi8nhdEk6CE"
      }
    },
    {
      "cell_type": "code",
      "source": [
        "import numpy\n",
        "import pandas as pd\n",
        "import random\n",
        "\n",
        "\"\"\"\n",
        "The y=target is to maximize this equation ASAP:\n",
        "    y = w1x1+w2x2+w3x3+w4x4+w5x5+6wx6\n",
        "    where (x1,x2,x3,x4,x5,x6)=(4,-2,3.5,5,-11,-4.7)\n",
        "    What are the best values for the 6 weights w1 to w6?\n",
        "    We are going to use the genetic algorithm for the best possible values after a number of generations.\n",
        "\"\"\"\n"
      ],
      "metadata": {
        "colab": {
          "base_uri": "https://localhost:8080/",
          "height": 0
        },
        "id": "OZzLF3xflZhg",
        "outputId": "bd3e8c5a-c927-4a08-d189-7cfab9305d49"
      },
      "execution_count": 1,
      "outputs": [
        {
          "output_type": "execute_result",
          "data": {
            "text/plain": [
              "'\\nThe y=target is to maximize this equation ASAP:\\n    y = w1x1+w2x2+w3x3+w4x4+w5x5+6wx6\\n    where (x1,x2,x3,x4,x5,x6)=(4,-2,3.5,5,-11,-4.7)\\n    What are the best values for the 6 weights w1 to w6?\\n    We are going to use the genetic algorithm for the best possible values after a number of generations.\\n'"
            ],
            "application/vnd.google.colaboratory.intrinsic+json": {
              "type": "string"
            }
          },
          "metadata": {},
          "execution_count": 1
        }
      ]
    },
    {
      "cell_type": "code",
      "execution_count": 2,
      "metadata": {
        "id": "pfB57Nb2k2_K"
      },
      "outputs": [],
      "source": [
        "# genetic algorithm search of the one max optimization problem\n",
        "from numpy.random import randint\n",
        "from numpy.random import rand"
      ]
    },
    {
      "cell_type": "markdown",
      "source": [
        "# Functions"
      ],
      "metadata": {
        "id": "3XRudRYzlJyF"
      }
    },
    {
      "cell_type": "code",
      "source": [
        "def crossover(parents, offspring_size):\n",
        "    offspring = numpy.empty(offspring_size)\n",
        "    # The point at which crossover takes place between two parents. Usually it is at the center.\n",
        "    crossover_point = numpy.uint8(offspring_size[1]/2)\n",
        "    for k in range(offspring_size[0]):\n",
        "        # Index of the first parent to mate.\n",
        "        parent1_idx = k%parents.shape[0]\n",
        "        # Index of the second parent to mate.\n",
        "        parent2_idx = (k+1)%parents.shape[0]\n",
        "        # The new offspring will have its first half of its genes taken from the first parent.\n",
        "        offspring[k, 0:crossover_point] = parents[parent1_idx, 0:crossover_point]\n",
        "        # The new offspring will have its second half of its genes taken from the second parent.\n",
        "        offspring[k, crossover_point:] = parents[parent2_idx, crossover_point:]\n",
        "    return offspring"
      ],
      "metadata": {
        "id": "1ipVyXBPnqt4"
      },
      "execution_count": 3,
      "outputs": []
    },
    {
      "cell_type": "code",
      "source": [
        "def mutation(offspring_crossover):\n",
        "    # Mutation changes a single gene in each offspring randomly.\n",
        "    for idx in range(offspring_crossover.shape[0]):\n",
        "        # The random value to be added to the gene.\n",
        "        random_value = numpy.random.uniform(-1.0, 1.0, 1)\n",
        "        offspring_crossover[idx, 4] = offspring_crossover[idx, 4] + random_value\n",
        "    return offspring_crossover"
      ],
      "metadata": {
        "id": "23fQJrUSnsOs"
      },
      "execution_count": 4,
      "outputs": []
    },
    {
      "cell_type": "markdown",
      "source": [
        "# Genetic Algorithm"
      ],
      "metadata": {
        "id": "co_Q8nO2lNM3"
      }
    },
    {
      "cell_type": "code",
      "source": [
        "# Inputs of the equation.\n",
        "equation_inputs = [4,-2,3.5,5,-11,-4.7]\n",
        "\n",
        "# Number of the weights we are looking to optimize.\n",
        "num_weights = 6\n",
        "\n",
        "\"\"\"\n",
        "Genetic algorithm parameters:\n",
        "    Mating pool size\n",
        "    Population size\n",
        "\"\"\"\n",
        "\n",
        "sol_per_pop = 8\n",
        "num_parents_mating = 4\n",
        "\n",
        "# Defining the population size.\n",
        "pop_size = (sol_per_pop,num_weights) # The population will have sol_per_pop chromosome where each chromosome has num_weights genes.\n",
        "\n",
        "#Creating the initial population.\n",
        "new_population = numpy.random.uniform(low=-4.0, high=4.0, size=pop_size)\n",
        "print(new_population)"
      ],
      "metadata": {
        "colab": {
          "base_uri": "https://localhost:8080/"
        },
        "id": "aXxrOT718wHx",
        "outputId": "64e4d3e2-2e30-4818-c758-7eb13d2f7c7f"
      },
      "execution_count": 5,
      "outputs": [
        {
          "output_type": "stream",
          "name": "stdout",
          "text": [
            "[[-1.55251828 -1.3979982  -1.20213281 -1.8012255   2.55766628  3.71146372]\n",
            " [-1.64227287 -3.38886576 -0.88735168 -1.34987763 -3.89244613 -1.83744973]\n",
            " [-2.9983706   3.22193208  2.57973894 -3.80212099  1.12189061  2.68381355]\n",
            " [-3.55145953 -3.03537685  2.41278174  0.69948298  0.25074664 -3.02056782]\n",
            " [ 3.60173967 -0.14695323  1.55157534 -3.34724826 -1.27263467  1.92846208]\n",
            " [-1.16020846 -2.6953081  -0.61584509  1.60358996  1.6721659   2.45313803]\n",
            " [ 0.28967207  2.66360769 -1.02542538 -2.45469532  1.90569564 -2.86702684]\n",
            " [ 0.95681415 -2.12077359 -0.80843791 -0.13272721  2.50684699  2.62444128]]\n"
          ]
        }
      ]
    },
    {
      "cell_type": "code",
      "source": [
        "def evolutionary_algorithm(num_generations):\n",
        "  for generation in range(num_generations):\n",
        "      print(\"Generation : \", generation)\n",
        "      # Measing the fitness of each chromosome in the population.\n",
        "      fitness = cal_pop_fitness(equation_inputs, new_population)\n",
        "\n",
        "      # Selecting the best parents in the population for mating.\n",
        "      parents = select_mating_pool(new_population, fitness, \n",
        "                                        num_parents_mating)\n",
        "\n",
        "      # Generating next generation using crossover.\n",
        "      offspring_crossover = crossover(parents,\n",
        "                                        offspring_size=(pop_size[0]-parents.shape[0], num_weights))\n",
        "\n",
        "      # Adding some variations to the offsrping using mutation.\n",
        "      offspring_mutation = mutation(offspring_crossover)\n",
        "\n",
        "      # Creating the new population based on the parents and offspring.\n",
        "      new_population[0:parents.shape[0], :] = parents\n",
        "      new_population[parents.shape[0]:, :] = offspring_mutation\n",
        "\n",
        "      # The best result in the current iteration.\n",
        "      print(\"Best result : \", numpy.max(numpy.sum(new_population*equation_inputs, axis=1)))\n",
        "\n",
        "  # Getting the best solution after iterating finishing all generations.\n",
        "  #At first, the fitness is calculated for each solution in the final generation.\n",
        "  fitness = cal_pop_fitness(equation_inputs, new_population)\n",
        "  # Then return the index of that solution corresponding to the best fitness.\n",
        "  best_match_idx = numpy.where(fitness == numpy.max(fitness))\n",
        "\n",
        "  print(\"Finished Iterations\")\n",
        "  print(\"Best solution : \", new_population[best_match_idx, :])\n",
        "  print(\"Best solution fitness : \", fitness[best_match_idx])\n",
        "\n",
        "  return new_population[best_match_idx, :]"
      ],
      "metadata": {
        "id": "j7tuYPFk8wrf"
      },
      "execution_count": 6,
      "outputs": []
    },
    {
      "cell_type": "markdown",
      "source": [
        "# Inputs"
      ],
      "metadata": {
        "id": "KY8rKVcYA2qW"
      }
    },
    {
      "cell_type": "markdown",
      "source": [
        "Class Info"
      ],
      "metadata": {
        "id": "m5tfB5_3Dkvc"
      }
    },
    {
      "cell_type": "code",
      "source": [
        "#Creating Series\n",
        "class_series = pd.Series(['Class1', 'Class1', 'Class1', 'Class1','Class2', 'Class2', 'Class2', 'Class2'])\n",
        "subject_series = pd.Series(['Maths', 'English', 'Chemistry', 'History','Maths', 'English', 'History', 'Physics'])\n",
        "hours_series = pd.Series([3, 4, 5, 3, 2, 4, 5, 3])\n",
        "\n",
        "\n",
        "#Creating Dictionary\n",
        "frame = { 'Class': class_series, 'Subject': subject_series, 'Hours': hours_series }\n",
        "#Creating Dataframe\n",
        "class_subject_hours_dataframe = pd.DataFrame(frame)\n",
        "\n",
        "#Printing dataframe\n",
        "print(class_subject_hours_dataframe)"
      ],
      "metadata": {
        "colab": {
          "base_uri": "https://localhost:8080/"
        },
        "id": "pu560w_jCjrd",
        "outputId": "6444ed37-a578-4d52-c9d7-a7899cfbf5d6"
      },
      "execution_count": 7,
      "outputs": [
        {
          "output_type": "stream",
          "name": "stdout",
          "text": [
            "    Class    Subject  Hours\n",
            "0  Class1      Maths      3\n",
            "1  Class1    English      4\n",
            "2  Class1  Chemistry      5\n",
            "3  Class1    History      3\n",
            "4  Class2      Maths      2\n",
            "5  Class2    English      4\n",
            "6  Class2    History      5\n",
            "7  Class2    Physics      3\n"
          ]
        }
      ]
    },
    {
      "cell_type": "markdown",
      "source": [
        "Teacher Info"
      ],
      "metadata": {
        "id": "D0_HYWRBDnKb"
      }
    },
    {
      "cell_type": "code",
      "source": [
        "teacher_series = pd.Series(['ProfessorA', 'ProfessorA', 'ProfessorB', 'ProfessorB','ProfessorC', 'ProfessorC'])\n",
        "subject_series = pd.Series(['Maths', 'English', 'Chemistry', 'History','Maths', 'Physics'])\n",
        "\n",
        "#Creating Dictionary\n",
        "frame = { 'Teacher': teacher_series, 'Subject': subject_series}\n",
        "#Creating Dataframe\n",
        "teacher_subject_dataframe = pd.DataFrame(frame)\n",
        "\n",
        "teacher_subject_array = teacher_subject_dataframe.to_numpy()\n",
        "#Printing dataframe\n",
        "print(teacher_subject_array)"
      ],
      "metadata": {
        "colab": {
          "base_uri": "https://localhost:8080/"
        },
        "id": "b8bE0dQUDoWU",
        "outputId": "fc9926b8-d534-47b9-e8f5-d47dd2e0af44"
      },
      "execution_count": 8,
      "outputs": [
        {
          "output_type": "stream",
          "name": "stdout",
          "text": [
            "[['ProfessorA' 'Maths']\n",
            " ['ProfessorA' 'English']\n",
            " ['ProfessorB' 'Chemistry']\n",
            " ['ProfessorB' 'History']\n",
            " ['ProfessorC' 'Maths']\n",
            " ['ProfessorC' 'Physics']]\n"
          ]
        }
      ]
    },
    {
      "cell_type": "markdown",
      "source": [
        "Define Timetable"
      ],
      "metadata": {
        "id": "RKEqX0fvEObt"
      }
    },
    {
      "cell_type": "code",
      "source": [
        "startTime = 10\n",
        "durationLesson = 1\n",
        "lunchTime = 12\n",
        "durationLunch = 1\n",
        "endTime = 15\n",
        "\n",
        "singleTimetable = []\n",
        "daysOfWeek = ['Mon','Tue','Wed', 'Thur']\n",
        "\n",
        "for day in daysOfWeek:\n",
        "  for time in range(startTime, endTime, durationLesson):\n",
        "    if time != lunchTime:\n",
        "      singleTimetable.append([day, time])\n",
        "\n",
        "print(singleTimetable)"
      ],
      "metadata": {
        "colab": {
          "base_uri": "https://localhost:8080/"
        },
        "id": "Z5xvAvndEPuH",
        "outputId": "46ed5611-59bf-4826-b20d-f7c038b4d0eb"
      },
      "execution_count": 9,
      "outputs": [
        {
          "output_type": "stream",
          "name": "stdout",
          "text": [
            "[['Mon', 10], ['Mon', 11], ['Mon', 13], ['Mon', 14], ['Tue', 10], ['Tue', 11], ['Tue', 13], ['Tue', 14], ['Wed', 10], ['Wed', 11], ['Wed', 13], ['Wed', 14], ['Thur', 10], ['Thur', 11], ['Thur', 13], ['Thur', 14]]\n"
          ]
        }
      ]
    },
    {
      "cell_type": "code",
      "source": [
        "def create_timetables(class_subject_hours_dataframe, timetable):\n",
        "  all_timetables = []\n",
        "  blank_timetable = [None] * len(timetable)\n",
        "  number_class_timetables = class_subject_hours_dataframe.Class.nunique()\n",
        "\n",
        "  for x in range(number_class_timetables):\n",
        "    all_timetables.append(blank_timetable)\n",
        "\n",
        "  # print(all_timetables)\n",
        "  all_timetables_array = numpy.array(all_timetables)\n",
        "  return all_timetables_array"
      ],
      "metadata": {
        "id": "aYunxaTE4jxu"
      },
      "execution_count": 10,
      "outputs": []
    },
    {
      "cell_type": "code",
      "source": [
        "def make_array_1_hour_class(class_mask):\n",
        "  list_classes_1hr = []\n",
        "  for index, row in class_mask.iterrows():\n",
        "    number_hours_per_class = row['Hours']\n",
        "    for x in range(number_hours_per_class):\n",
        "      list_classes_1hr.append(row['Subject'])\n",
        "  list_finished = list_classes_1hr.copy()\n",
        "  return list_finished"
      ],
      "metadata": {
        "id": "4ORWx-RRxGwj"
      },
      "execution_count": 11,
      "outputs": []
    },
    {
      "cell_type": "markdown",
      "source": [
        "# Genetic Fucntions Timetable"
      ],
      "metadata": {
        "id": "nqLicuesDQKw"
      }
    },
    {
      "cell_type": "code",
      "source": [
        "def generate_intial_population(class_subject_hours_dataframe, teacher_subject_dataframe, timetable, populationSize):\n",
        "  population = []\n",
        "  class_names = class_subject_hours_dataframe.Class.unique()\n",
        "  number_class_names = class_subject_hours_dataframe.Class.nunique()\n",
        "\n",
        "  for a in range(populationSize):\n",
        "    trackClass = 0\n",
        "    all_timetables = create_timetables(class_subject_hours_dataframe, timetable)\n",
        "    for class_name in class_names:\n",
        "      mask = class_subject_hours_dataframe.loc[class_subject_hours_dataframe['Class'] == class_name]\n",
        "      list_classes_1hr = make_array_1_hour_class(mask)\n",
        "      list_indices_single_timetable = [None] * len(timetable)\n",
        "\n",
        "      if(len(list_classes_1hr) > len(list_indices_single_timetable) ):\n",
        "        print(\"Not enough hours in timetable for class hours set!!\")\n",
        "        return\n",
        "\n",
        "      for i in range(len(list_indices_single_timetable)):\n",
        "        list_indices_single_timetable[i] = i\n",
        "    \n",
        "      range_end_single_timetable = len(list_indices_single_timetable) - 1\n",
        "\n",
        "      for j in range((len(list_classes_1hr) - 1)):\n",
        "        random_num = random.randint(0, range_end_single_timetable)\n",
        "\n",
        "        random_num_index_value = list_indices_single_timetable[random_num]\n",
        "        all_timetables[trackClass][random_num_index_value] = list_classes_1hr[j]\n",
        "    \n",
        "        list_indices_single_timetable.pop(random_num)\n",
        "        range_end_single_timetable = range_end_single_timetable - 1\n",
        "    \n",
        "      trackClass = trackClass + 1\n",
        "\n",
        "    population.append(all_timetables)\n",
        "  return population"
      ],
      "metadata": {
        "id": "1r7LJIuQ2_sT"
      },
      "execution_count": 12,
      "outputs": []
    },
    {
      "cell_type": "code",
      "source": [
        "def fitnessFunction(pop):\n",
        "  arrPop = numpy.array(pop)\n",
        "  num_representations = arrPop.shape[0]\n",
        "  NoClashesList = [None] * num_representations\n",
        " \n",
        "  print(\"no representations:  \" + str(num_representations))\n",
        "  for i in range(num_representations):\n",
        "    populationSelect = pop[i]\n",
        "    # print(populationSelect)\n",
        "    noClashes = calClashes(populationSelect)\n",
        "    NoClashesList[i] = noClashes\n",
        "    # print(\"no of clashes:  \" + str(noClashes))\n",
        "  # print(\"clash list: \" + str(NoClashesList))\n",
        "  return NoClashesList"
      ],
      "metadata": {
        "id": "3rM7AmYQH__D"
      },
      "execution_count": 13,
      "outputs": []
    },
    {
      "cell_type": "code",
      "source": [
        "def calClashes(pop):\n",
        "  num_timetable_slots = pop.shape[1]\n",
        "  num_classes = pop.shape[0]\n",
        "\n",
        "  clash = 0\n",
        "  for i in range(num_timetable_slots):\n",
        "    for j in range(1, num_classes):\n",
        "      if(pop[(j-1)][i] == pop[j][i]):\n",
        "        if(pop[(j-1)][i] != None):\n",
        "          clash = clash + 1\n",
        "          # print(\"there is a clash at index:  \" + str(i) + \"  for the subject:  \" + str(pop[(j-1)][i]))\n",
        "  # print(\"clashes found:  \" + str(clash))\n",
        "  return clash"
      ],
      "metadata": {
        "id": "Q5Llo6yuDa72"
      },
      "execution_count": 14,
      "outputs": []
    },
    {
      "cell_type": "code",
      "source": [
        "def recombine(parent1, parent2):\n",
        "  parent1Array = numpy.array(parent1)\n",
        "  parent2Array = numpy.array(parent2)\n",
        "\n",
        "  noTimetables = parent2Array.shape[0]\n",
        "\n",
        "  # print(\"parent 1: \" + str(parent1Array))\n",
        "  # print(\"parent 2: \" + str(parent2Array))\n",
        "\n",
        "  # print(\"shape: \" + str(parent2Array.shape))\n",
        "\n",
        "  crossOverIndex = int(parent1Array.shape[1]/2)\n",
        "  # print(\"crossoverIndex: \" + str(crossOverIndex))\n",
        "\n",
        "  for i in range(noTimetables):    \n",
        "    parent1FirstHalf = parent1Array[i][0:(crossOverIndex-1)]\n",
        "    parent1SecondHalf = parent1Array[i][crossOverIndex:(parent1.shape[1]-1)]\n",
        "    parent2FirstHalf = parent2Array[i][0:(crossOverIndex-1)]\n",
        "    parent2SecondHalf = parent2Array[i][crossOverIndex:(parent1.shape[1]-1)]\n",
        "\n",
        "    indicesListNotMatching = []\n",
        "    parent1ResultFirstHalf = parent1FirstHalf\n",
        "    parent1OriginalSecondHalfCopy = parent1SecondHalf\n",
        "    parent1ResultSecondHalf = parent2SecondHalf\n",
        "    length2ndHalf = len(parent2SecondHalf)\n",
        "\n",
        "    parent2ResultFirstHalf = parent2FirstHalf\n",
        "    parent2ResultSecondHalf = parent1SecondHalf\n",
        "\n",
        "    print(\"second half parent1:  \" + str(parent1SecondHalf))\n",
        "    print(\"second half parent2:  \" + str(parent1ResultSecondHalf))\n",
        "\n",
        "    for j in range(length2ndHalf):\n",
        "      print(\"j is:  \" + str(j))\n",
        "      print(\"Subject lookint for is : \" + str(parent1ResultSecondHalf[j]))\n",
        "      print(\"result second half: \" + str(parent1ResultSecondHalf))\n",
        "      print(\"parent 1 original second half copy: \" + str(parent1OriginalSecondHalfCopy))\n",
        "\n",
        "      if parent1ResultSecondHalf[j] not in parent1OriginalSecondHalfCopy:\n",
        "        indicesListNotMatching.append(j)\n",
        "        print(\"subject NOT found\")\n",
        "        print(\"indices not matching:  \" + str(indicesListNotMatching))\n",
        "        print(\"not in 2nd half:  \" + str(parent1ResultSecondHalf[j]))\n",
        "      else:\n",
        "        result = numpy.where(parent1OriginalSecondHalfCopy == parent1ResultSecondHalf[j])\n",
        "        parent1OriginalSecondHalfCopy = numpy.delete(parent1OriginalSecondHalfCopy, result[0][0])\n",
        "        print(\"subject found\")\n",
        "        print(\"original second half copy after deletion: \" + str(parent1OriginalSecondHalfCopy))\n",
        "    \n",
        "    print(\"Subjects missed 2nd half:  \" + str(parent1OriginalSecondHalfCopy))\n",
        "    print(\"Indices no match 2nd half:  \" + str(indicesListNotMatching))\n",
        "    for j in range(len(parent1OriginalSecondHalfCopy)):\n",
        "      parent1ResultSecondHalf[indicesListNotMatching[j]] = parent1OriginalSecondHalfCopy[j]\n",
        "\n",
        "    print(\"Final result 2nd half for first: \" + str(parent1ResultSecondHalf))\n",
        "\n",
        "    print(\"FINISHED TIMETABLE\")"
      ],
      "metadata": {
        "id": "GkINgbq0kZBg"
      },
      "execution_count": 70,
      "outputs": []
    },
    {
      "cell_type": "code",
      "source": [
        "def evolutionary_algo(class_subject_hours_dataframe, teacher_subject_dataframe, singleTimetable, intialPopultationSize):\n",
        "  population = generate_intial_population(class_subject_hours_dataframe, teacher_subject_dataframe, singleTimetable, intialPopultationSize)\n",
        "  fitness = fitnessFunction(population)\n",
        "\n",
        "  # print(\"fitness:  \" + str(fitness))\n",
        "  max_value = max(fitness)\n",
        "  max_index = fitness.index(max_value)\n",
        "  fitnessWithoutMax = fitness.copy()\n",
        "  fitnessWithoutMax[max_index] = 0\n",
        "  second_max_value = max(fitnessWithoutMax)\n",
        "  second_max_index = fitness.index(second_max_value)\n",
        "\n",
        "  firstParent = population[max_index]\n",
        "  secondParent =  population[second_max_index]\n",
        "\n",
        "  # print(\"max value:  \" + str(firstParent))\n",
        "  # print(\"2nd max value:  \" + str(secondParent))\n",
        "\n",
        "  recombine(firstParent, secondParent)"
      ],
      "metadata": {
        "id": "woUUCgYqVlSY"
      },
      "execution_count": 42,
      "outputs": []
    },
    {
      "cell_type": "code",
      "source": [
        "evolutionary_algo(class_subject_hours_dataframe, teacher_subject_dataframe, singleTimetable, 4)"
      ],
      "metadata": {
        "colab": {
          "base_uri": "https://localhost:8080/"
        },
        "id": "WwOV_xsVHs_v",
        "outputId": "171f02d3-2534-4ea8-8911-7c72cb5dbd49"
      },
      "execution_count": 74,
      "outputs": [
        {
          "output_type": "stream",
          "name": "stdout",
          "text": [
            "no representations:  4\n",
            "second half parent1:  ['English' None 'Maths' None 'Chemistry' 'Chemistry' 'English']\n",
            "second half parent2:  ['Chemistry' 'Chemistry' 'Maths' 'English' 'Maths' 'History' None]\n",
            "j is:  0\n",
            "Subject lookint for is : Chemistry\n",
            "result second half: ['Chemistry' 'Chemistry' 'Maths' 'English' 'Maths' 'History' None]\n",
            "parent 1 original second half copy: ['English' None 'Maths' None 'Chemistry' 'Chemistry' 'English']\n",
            "subject found\n",
            "original second half copy after deletion: ['English' None 'Maths' None 'Chemistry' 'English']\n",
            "j is:  1\n",
            "Subject lookint for is : Chemistry\n",
            "result second half: ['Chemistry' 'Chemistry' 'Maths' 'English' 'Maths' 'History' None]\n",
            "parent 1 original second half copy: ['English' None 'Maths' None 'Chemistry' 'English']\n",
            "subject found\n",
            "original second half copy after deletion: ['English' None 'Maths' None 'English']\n",
            "j is:  2\n",
            "Subject lookint for is : Maths\n",
            "result second half: ['Chemistry' 'Chemistry' 'Maths' 'English' 'Maths' 'History' None]\n",
            "parent 1 original second half copy: ['English' None 'Maths' None 'English']\n",
            "subject found\n",
            "original second half copy after deletion: ['English' None None 'English']\n",
            "j is:  3\n",
            "Subject lookint for is : English\n",
            "result second half: ['Chemistry' 'Chemistry' 'Maths' 'English' 'Maths' 'History' None]\n",
            "parent 1 original second half copy: ['English' None None 'English']\n",
            "subject found\n",
            "original second half copy after deletion: [None None 'English']\n",
            "j is:  4\n",
            "Subject lookint for is : Maths\n",
            "result second half: ['Chemistry' 'Chemistry' 'Maths' 'English' 'Maths' 'History' None]\n",
            "parent 1 original second half copy: [None None 'English']\n",
            "subject NOT found\n",
            "indices not matching:  [4]\n",
            "not in 2nd half:  Maths\n",
            "j is:  5\n",
            "Subject lookint for is : History\n",
            "result second half: ['Chemistry' 'Chemistry' 'Maths' 'English' 'Maths' 'History' None]\n",
            "parent 1 original second half copy: [None None 'English']\n",
            "subject NOT found\n",
            "indices not matching:  [4, 5]\n",
            "not in 2nd half:  History\n",
            "j is:  6\n",
            "Subject lookint for is : None\n",
            "result second half: ['Chemistry' 'Chemistry' 'Maths' 'English' 'Maths' 'History' None]\n",
            "parent 1 original second half copy: [None None 'English']\n",
            "subject found\n",
            "original second half copy after deletion: [None 'English']\n",
            "Subjects missed 2nd half:  [None 'English']\n",
            "Indices no match 2nd half:  [4, 5]\n",
            "Final result 2nd half for first: ['Chemistry' 'Chemistry' 'Maths' 'English' None 'English' None]\n",
            "FINISHED TIMETABLE\n",
            "second half parent1:  [None 'History' 'History' 'History' None 'History' 'English']\n",
            "second half parent2:  ['English' 'History' 'English' 'Maths' 'Physics' 'Physics' 'History']\n",
            "j is:  0\n",
            "Subject lookint for is : English\n",
            "result second half: ['English' 'History' 'English' 'Maths' 'Physics' 'Physics' 'History']\n",
            "parent 1 original second half copy: [None 'History' 'History' 'History' None 'History' 'English']\n",
            "subject found\n",
            "original second half copy after deletion: [None 'History' 'History' 'History' None 'History']\n",
            "j is:  1\n",
            "Subject lookint for is : History\n",
            "result second half: ['English' 'History' 'English' 'Maths' 'Physics' 'Physics' 'History']\n",
            "parent 1 original second half copy: [None 'History' 'History' 'History' None 'History']\n",
            "subject found\n",
            "original second half copy after deletion: [None 'History' 'History' None 'History']\n",
            "j is:  2\n",
            "Subject lookint for is : English\n",
            "result second half: ['English' 'History' 'English' 'Maths' 'Physics' 'Physics' 'History']\n",
            "parent 1 original second half copy: [None 'History' 'History' None 'History']\n",
            "subject NOT found\n",
            "indices not matching:  [2]\n",
            "not in 2nd half:  English\n",
            "j is:  3\n",
            "Subject lookint for is : Maths\n",
            "result second half: ['English' 'History' 'English' 'Maths' 'Physics' 'Physics' 'History']\n",
            "parent 1 original second half copy: [None 'History' 'History' None 'History']\n",
            "subject NOT found\n",
            "indices not matching:  [2, 3]\n",
            "not in 2nd half:  Maths\n",
            "j is:  4\n",
            "Subject lookint for is : Physics\n",
            "result second half: ['English' 'History' 'English' 'Maths' 'Physics' 'Physics' 'History']\n",
            "parent 1 original second half copy: [None 'History' 'History' None 'History']\n",
            "subject NOT found\n",
            "indices not matching:  [2, 3, 4]\n",
            "not in 2nd half:  Physics\n",
            "j is:  5\n",
            "Subject lookint for is : Physics\n",
            "result second half: ['English' 'History' 'English' 'Maths' 'Physics' 'Physics' 'History']\n",
            "parent 1 original second half copy: [None 'History' 'History' None 'History']\n",
            "subject NOT found\n",
            "indices not matching:  [2, 3, 4, 5]\n",
            "not in 2nd half:  Physics\n",
            "j is:  6\n",
            "Subject lookint for is : History\n",
            "result second half: ['English' 'History' 'English' 'Maths' 'Physics' 'Physics' 'History']\n",
            "parent 1 original second half copy: [None 'History' 'History' None 'History']\n",
            "subject found\n",
            "original second half copy after deletion: [None 'History' None 'History']\n",
            "Subjects missed 2nd half:  [None 'History' None 'History']\n",
            "Indices no match 2nd half:  [2, 3, 4, 5]\n",
            "Final result 2nd half for first: ['English' 'History' None 'History' None 'History' 'History']\n",
            "FINISHED TIMETABLE\n"
          ]
        }
      ]
    },
    {
      "cell_type": "markdown",
      "source": [
        "# Execution"
      ],
      "metadata": {
        "id": "JPWnaA_ImUqh"
      }
    },
    {
      "cell_type": "code",
      "source": [
        "num_generations = 5\n",
        "\n",
        "evolutionary_algorithm(num_generations)"
      ],
      "metadata": {
        "colab": {
          "base_uri": "https://localhost:8080/"
        },
        "id": "uCYkdMU8maCU",
        "outputId": "cbc92b6c-31c3-4cde-985e-9f5631b9220a"
      },
      "execution_count": 38,
      "outputs": [
        {
          "output_type": "stream",
          "name": "stdout",
          "text": [
            "Generation :  0\n",
            "Best result :  134.30444802581837\n",
            "Generation :  1\n",
            "Best result :  134.30444802581837\n",
            "Generation :  2\n",
            "Best result :  138.95503532987385\n",
            "Generation :  3\n",
            "Best result :  142.72556515422528\n",
            "Generation :  4\n",
            "Best result :  150.93878864210043\n",
            "Finished Iterations\n",
            "Best solution :  [[[ -1.62969513  -2.97072974   2.30087151   2.18980049 -10.44629408\n",
            "    -3.74570684]]]\n",
            "Best solution fitness :  [150.93878864]\n"
          ]
        },
        {
          "output_type": "execute_result",
          "data": {
            "text/plain": [
              "array([[[ -1.62969513,  -2.97072974,   2.30087151,   2.18980049,\n",
              "         -10.44629408,  -3.74570684]]])"
            ]
          },
          "metadata": {},
          "execution_count": 38
        }
      ]
    }
  ]
}