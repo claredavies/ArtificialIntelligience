{
  "nbformat": 4,
  "nbformat_minor": 0,
  "metadata": {
    "colab": {
      "provenance": [],
      "collapsed_sections": [
        "hpi8nhdEk6CE",
        "KY8rKVcYA2qW"
      ],
      "authorship_tag": "ABX9TyOko5e1DZH1ZI22ZFVKrbMl",
      "include_colab_link": true
    },
    "kernelspec": {
      "name": "python3",
      "display_name": "Python 3"
    },
    "language_info": {
      "name": "python"
    }
  },
  "cells": [
    {
      "cell_type": "markdown",
      "metadata": {
        "id": "view-in-github",
        "colab_type": "text"
      },
      "source": [
        "<a href=\"https://colab.research.google.com/github/claredavies/ArtificialIntelligience/blob/main/ComputationalIntelligienceAssignment2.ipynb\" target=\"_parent\"><img src=\"https://colab.research.google.com/assets/colab-badge.svg\" alt=\"Open In Colab\"/></a>"
      ]
    },
    {
      "cell_type": "markdown",
      "source": [
        "# Import Libraries"
      ],
      "metadata": {
        "id": "hpi8nhdEk6CE"
      }
    },
    {
      "cell_type": "code",
      "source": [
        "import numpy\n",
        "import pandas as pd\n",
        "import random\n",
        "\n",
        "\"\"\"\n",
        "The y=target is to maximize this equation ASAP:\n",
        "    y = w1x1+w2x2+w3x3+w4x4+w5x5+6wx6\n",
        "    where (x1,x2,x3,x4,x5,x6)=(4,-2,3.5,5,-11,-4.7)\n",
        "    What are the best values for the 6 weights w1 to w6?\n",
        "    We are going to use the genetic algorithm for the best possible values after a number of generations.\n",
        "\"\"\"\n"
      ],
      "metadata": {
        "colab": {
          "base_uri": "https://localhost:8080/",
          "height": 0
        },
        "id": "OZzLF3xflZhg",
        "outputId": "bbca2ed0-c441-492f-c19e-b32ca263ed34"
      },
      "execution_count": 1,
      "outputs": [
        {
          "output_type": "execute_result",
          "data": {
            "text/plain": [
              "'\\nThe y=target is to maximize this equation ASAP:\\n    y = w1x1+w2x2+w3x3+w4x4+w5x5+6wx6\\n    where (x1,x2,x3,x4,x5,x6)=(4,-2,3.5,5,-11,-4.7)\\n    What are the best values for the 6 weights w1 to w6?\\n    We are going to use the genetic algorithm for the best possible values after a number of generations.\\n'"
            ],
            "application/vnd.google.colaboratory.intrinsic+json": {
              "type": "string"
            }
          },
          "metadata": {},
          "execution_count": 1
        }
      ]
    },
    {
      "cell_type": "code",
      "execution_count": 2,
      "metadata": {
        "id": "pfB57Nb2k2_K"
      },
      "outputs": [],
      "source": [
        "# genetic algorithm search of the one max optimization problem\n",
        "from numpy.random import randint\n",
        "from numpy.random import rand"
      ]
    },
    {
      "cell_type": "markdown",
      "source": [
        "# Functions"
      ],
      "metadata": {
        "id": "3XRudRYzlJyF"
      }
    },
    {
      "cell_type": "code",
      "source": [
        "def mutation(offspring_crossover):\n",
        "    # Mutation changes a single gene in each offspring randomly.\n",
        "    for idx in range(offspring_crossover.shape[0]):\n",
        "        # The random value to be added to the gene.\n",
        "        random_value = numpy.random.uniform(-1.0, 1.0, 1)\n",
        "        offspring_crossover[idx, 4] = offspring_crossover[idx, 4] + random_value\n",
        "    return offspring_crossover"
      ],
      "metadata": {
        "id": "23fQJrUSnsOs"
      },
      "execution_count": 4,
      "outputs": []
    },
    {
      "cell_type": "markdown",
      "source": [
        "# Genetic Algorithm"
      ],
      "metadata": {
        "id": "co_Q8nO2lNM3"
      }
    },
    {
      "cell_type": "code",
      "source": [
        "# Inputs of the equation.\n",
        "equation_inputs = [4,-2,3.5,5,-11,-4.7]\n",
        "\n",
        "# Number of the weights we are looking to optimize.\n",
        "num_weights = 6\n",
        "\n",
        "\"\"\"\n",
        "Genetic algorithm parameters:\n",
        "    Mating pool size\n",
        "    Population size\n",
        "\"\"\"\n",
        "\n",
        "sol_per_pop = 8\n",
        "num_parents_mating = 4\n",
        "\n",
        "# Defining the population size.\n",
        "pop_size = (sol_per_pop,num_weights) # The population will have sol_per_pop chromosome where each chromosome has num_weights genes.\n",
        "\n",
        "#Creating the initial population.\n",
        "new_population = numpy.random.uniform(low=-4.0, high=4.0, size=pop_size)\n",
        "print(new_population)"
      ],
      "metadata": {
        "colab": {
          "base_uri": "https://localhost:8080/"
        },
        "id": "aXxrOT718wHx",
        "outputId": "4ca129a0-dcf5-4025-9e4b-1287b5d15b9b"
      },
      "execution_count": 5,
      "outputs": [
        {
          "output_type": "stream",
          "name": "stdout",
          "text": [
            "[[ 1.23145515  0.08330008  2.40681208  3.47293174 -1.73410159 -1.75130758]\n",
            " [-2.33322084 -1.17689238 -1.26356183 -1.24069434 -3.38813149 -3.55575632]\n",
            " [ 3.99451765  1.77643799  2.29347156  0.93170323  2.87812932  1.38458766]\n",
            " [-2.6973714   2.89210477 -3.65602294 -0.64348941 -1.05049031 -2.29093071]\n",
            " [ 3.30855161 -3.75580175  2.99310197 -0.78911688  3.4498672  -0.0634816 ]\n",
            " [-0.5919176   3.92421876 -1.29219629 -0.66768244  0.56349707 -0.04836104]\n",
            " [ 2.41652492 -0.78475898  1.21769088  0.40499584 -3.47510427 -1.63715361]\n",
            " [ 0.77352929 -2.86400888  3.9365859  -1.93601106 -2.03262492 -3.43941558]]\n"
          ]
        }
      ]
    },
    {
      "cell_type": "code",
      "source": [
        "def evolutionary_algorithm(num_generations):\n",
        "  for generation in range(num_generations):\n",
        "      print(\"Generation : \", generation)\n",
        "      # Measing the fitness of each chromosome in the population.\n",
        "      fitness = cal_pop_fitness(equation_inputs, new_population)\n",
        "\n",
        "      # Selecting the best parents in the population for mating.\n",
        "      parents = select_mating_pool(new_population, fitness, \n",
        "                                        num_parents_mating)\n",
        "\n",
        "      # Generating next generation using crossover.\n",
        "      offspring_crossover = crossover(parents,\n",
        "                                        offspring_size=(pop_size[0]-parents.shape[0], num_weights))\n",
        "\n",
        "      # Adding some variations to the offsrping using mutation.\n",
        "      offspring_mutation = mutation(offspring_crossover)\n",
        "\n",
        "      # Creating the new population based on the parents and offspring.\n",
        "      new_population[0:parents.shape[0], :] = parents\n",
        "      new_population[parents.shape[0]:, :] = offspring_mutation\n",
        "\n",
        "      # The best result in the current iteration.\n",
        "      print(\"Best result : \", numpy.max(numpy.sum(new_population*equation_inputs, axis=1)))\n",
        "\n",
        "  # Getting the best solution after iterating finishing all generations.\n",
        "  #At first, the fitness is calculated for each solution in the final generation.\n",
        "  fitness = cal_pop_fitness(equation_inputs, new_population)\n",
        "  # Then return the index of that solution corresponding to the best fitness.\n",
        "  best_match_idx = numpy.where(fitness == numpy.max(fitness))\n",
        "\n",
        "  print(\"Finished Iterations\")\n",
        "  print(\"Best solution : \", new_population[best_match_idx, :])\n",
        "  print(\"Best solution fitness : \", fitness[best_match_idx])\n",
        "\n",
        "  return new_population[best_match_idx, :]"
      ],
      "metadata": {
        "id": "j7tuYPFk8wrf"
      },
      "execution_count": 6,
      "outputs": []
    },
    {
      "cell_type": "markdown",
      "source": [
        "# Inputs"
      ],
      "metadata": {
        "id": "KY8rKVcYA2qW"
      }
    },
    {
      "cell_type": "markdown",
      "source": [
        "Class Info"
      ],
      "metadata": {
        "id": "m5tfB5_3Dkvc"
      }
    },
    {
      "cell_type": "code",
      "source": [
        "#Creating Series\n",
        "class_series = pd.Series(['Class1', 'Class1', 'Class1', 'Class1','Class2', 'Class2', 'Class2', 'Class2'])\n",
        "subject_series = pd.Series(['Maths', 'English', 'Chemistry', 'History','Maths', 'English', 'History', 'Physics'])\n",
        "hours_series = pd.Series([3, 4, 5, 3, 2, 4, 5, 3])\n",
        "\n",
        "\n",
        "#Creating Dictionary\n",
        "frame = { 'Class': class_series, 'Subject': subject_series, 'Hours': hours_series }\n",
        "#Creating Dataframe\n",
        "class_subject_hours_dataframe = pd.DataFrame(frame)\n",
        "\n",
        "#Printing dataframe\n",
        "print(class_subject_hours_dataframe)"
      ],
      "metadata": {
        "colab": {
          "base_uri": "https://localhost:8080/"
        },
        "id": "pu560w_jCjrd",
        "outputId": "2ee541cb-8d26-4b37-a040-63ed0a06ccf2"
      },
      "execution_count": 7,
      "outputs": [
        {
          "output_type": "stream",
          "name": "stdout",
          "text": [
            "    Class    Subject  Hours\n",
            "0  Class1      Maths      3\n",
            "1  Class1    English      4\n",
            "2  Class1  Chemistry      5\n",
            "3  Class1    History      3\n",
            "4  Class2      Maths      2\n",
            "5  Class2    English      4\n",
            "6  Class2    History      5\n",
            "7  Class2    Physics      3\n"
          ]
        }
      ]
    },
    {
      "cell_type": "markdown",
      "source": [
        "Teacher Info"
      ],
      "metadata": {
        "id": "D0_HYWRBDnKb"
      }
    },
    {
      "cell_type": "code",
      "source": [
        "teacher_series = pd.Series(['ProfessorA', 'ProfessorA', 'ProfessorB', 'ProfessorB','ProfessorC', 'ProfessorC'])\n",
        "subject_series = pd.Series(['Maths', 'English', 'Chemistry', 'History','Maths', 'Physics'])\n",
        "\n",
        "#Creating Dictionary\n",
        "frame = { 'Teacher': teacher_series, 'Subject': subject_series}\n",
        "#Creating Dataframe\n",
        "teacher_subject_dataframe = pd.DataFrame(frame)\n",
        "\n",
        "teacher_subject_array = teacher_subject_dataframe.to_numpy()\n",
        "#Printing dataframe\n",
        "print(teacher_subject_array)"
      ],
      "metadata": {
        "colab": {
          "base_uri": "https://localhost:8080/"
        },
        "id": "b8bE0dQUDoWU",
        "outputId": "fb4b2ff3-da04-4140-9556-c47d5f417926"
      },
      "execution_count": 8,
      "outputs": [
        {
          "output_type": "stream",
          "name": "stdout",
          "text": [
            "[['ProfessorA' 'Maths']\n",
            " ['ProfessorA' 'English']\n",
            " ['ProfessorB' 'Chemistry']\n",
            " ['ProfessorB' 'History']\n",
            " ['ProfessorC' 'Maths']\n",
            " ['ProfessorC' 'Physics']]\n"
          ]
        }
      ]
    },
    {
      "cell_type": "markdown",
      "source": [
        "Define Timetable"
      ],
      "metadata": {
        "id": "RKEqX0fvEObt"
      }
    },
    {
      "cell_type": "code",
      "source": [
        "startTime = 10\n",
        "durationLesson = 1\n",
        "lunchTime = 12\n",
        "durationLunch = 1\n",
        "endTime = 15\n",
        "\n",
        "singleTimetable = []\n",
        "daysOfWeek = ['Mon','Tue','Wed', 'Thur']\n",
        "\n",
        "for day in daysOfWeek:\n",
        "  for time in range(startTime, endTime, durationLesson):\n",
        "    if time != lunchTime:\n",
        "      singleTimetable.append([day, time])\n",
        "\n",
        "print(singleTimetable)"
      ],
      "metadata": {
        "colab": {
          "base_uri": "https://localhost:8080/"
        },
        "id": "Z5xvAvndEPuH",
        "outputId": "0e243703-636c-4e62-a29a-763226d254e1"
      },
      "execution_count": 9,
      "outputs": [
        {
          "output_type": "stream",
          "name": "stdout",
          "text": [
            "[['Mon', 10], ['Mon', 11], ['Mon', 13], ['Mon', 14], ['Tue', 10], ['Tue', 11], ['Tue', 13], ['Tue', 14], ['Wed', 10], ['Wed', 11], ['Wed', 13], ['Wed', 14], ['Thur', 10], ['Thur', 11], ['Thur', 13], ['Thur', 14]]\n"
          ]
        }
      ]
    },
    {
      "cell_type": "code",
      "source": [
        "def create_timetables(class_subject_hours_dataframe, timetable):\n",
        "  all_timetables = []\n",
        "  blank_timetable = [None] * len(timetable)\n",
        "  number_class_timetables = class_subject_hours_dataframe.Class.nunique()\n",
        "\n",
        "  for x in range(number_class_timetables):\n",
        "    all_timetables.append(blank_timetable)\n",
        "\n",
        "  # print(all_timetables)\n",
        "  all_timetables_array = numpy.array(all_timetables)\n",
        "  return all_timetables_array"
      ],
      "metadata": {
        "id": "aYunxaTE4jxu"
      },
      "execution_count": 10,
      "outputs": []
    },
    {
      "cell_type": "code",
      "source": [
        "def make_array_1_hour_class(class_mask):\n",
        "  list_classes_1hr = []\n",
        "  for index, row in class_mask.iterrows():\n",
        "    number_hours_per_class = row['Hours']\n",
        "    for x in range(number_hours_per_class):\n",
        "      list_classes_1hr.append(row['Subject'])\n",
        "  list_finished = list_classes_1hr.copy()\n",
        "  return list_finished"
      ],
      "metadata": {
        "id": "4ORWx-RRxGwj"
      },
      "execution_count": 11,
      "outputs": []
    },
    {
      "cell_type": "markdown",
      "source": [
        "# Genetic Fucntions Timetable"
      ],
      "metadata": {
        "id": "nqLicuesDQKw"
      }
    },
    {
      "cell_type": "code",
      "source": [
        "def generate_intial_population(class_subject_hours_dataframe, teacher_subject_dataframe, timetable, populationSize):\n",
        "  population = []\n",
        "  class_names = class_subject_hours_dataframe.Class.unique()\n",
        "  number_class_names = class_subject_hours_dataframe.Class.nunique()\n",
        "\n",
        "  for a in range(populationSize):\n",
        "    trackClass = 0\n",
        "    all_timetables = create_timetables(class_subject_hours_dataframe, timetable)\n",
        "    for class_name in class_names:\n",
        "      mask = class_subject_hours_dataframe.loc[class_subject_hours_dataframe['Class'] == class_name]\n",
        "      list_classes_1hr = make_array_1_hour_class(mask)\n",
        "      list_indices_single_timetable = [None] * len(timetable)\n",
        "\n",
        "      if(len(list_classes_1hr) > len(list_indices_single_timetable) ):\n",
        "        print(\"Not enough hours in timetable for class hours set!!\")\n",
        "        return\n",
        "\n",
        "      for i in range(len(list_indices_single_timetable)):\n",
        "        list_indices_single_timetable[i] = i\n",
        "    \n",
        "      range_end_single_timetable = len(list_indices_single_timetable) - 1\n",
        "\n",
        "      for j in range((len(list_classes_1hr) - 1)):\n",
        "        random_num = random.randint(0, range_end_single_timetable)\n",
        "\n",
        "        random_num_index_value = list_indices_single_timetable[random_num]\n",
        "        all_timetables[trackClass][random_num_index_value] = list_classes_1hr[j]\n",
        "    \n",
        "        list_indices_single_timetable.pop(random_num)\n",
        "        range_end_single_timetable = range_end_single_timetable - 1\n",
        "    \n",
        "      trackClass = trackClass + 1\n",
        "\n",
        "    population.append(all_timetables)\n",
        "  return population"
      ],
      "metadata": {
        "id": "1r7LJIuQ2_sT"
      },
      "execution_count": 12,
      "outputs": []
    },
    {
      "cell_type": "code",
      "source": [
        "def fitnessFunction(pop):\n",
        "  arrPop = numpy.array(pop)\n",
        "  num_representations = arrPop.shape[0]\n",
        "  NoClashesList = [None] * num_representations\n",
        " \n",
        "  print(\"no representations:  \" + str(num_representations))\n",
        "  for i in range(num_representations):\n",
        "    populationSelect = pop[i]\n",
        "    noClashes = calClashes(populationSelect)\n",
        "    NoClashesList[i] = noClashes\n",
        "\n",
        "  return NoClashesList"
      ],
      "metadata": {
        "id": "3rM7AmYQH__D"
      },
      "execution_count": 13,
      "outputs": []
    },
    {
      "cell_type": "code",
      "source": [
        "def calClashes(pop):\n",
        "  num_timetable_slots = pop.shape[1]\n",
        "  num_classes = pop.shape[0]\n",
        "\n",
        "  clash = 0\n",
        "  for i in range(num_timetable_slots):\n",
        "    for j in range(1, num_classes):\n",
        "      if(pop[(j-1)][i] == pop[j][i]):\n",
        "        if(pop[(j-1)][i] != None):\n",
        "          clash = clash + 1\n",
        "\n",
        "  return clash"
      ],
      "metadata": {
        "id": "Q5Llo6yuDa72"
      },
      "execution_count": 14,
      "outputs": []
    },
    {
      "cell_type": "code",
      "source": [
        "def recombine(parent1, parent2):\n",
        "  parent1Array = numpy.array(parent1)\n",
        "  parent2Array = numpy.array(parent2)\n",
        "\n",
        "  recombinationResults = []\n",
        "\n",
        "  noTimetables = parent2Array.shape[0]\n",
        "  crossOverIndex = int(parent1Array.shape[1]/2)\n",
        "\n",
        "  recombinedParent1Array = parent1Array.copy()\n",
        "  recombinedParent2Array = parent2Array.copy()\n",
        "\n",
        "  for i in range(noTimetables): \n",
        "    classRecombinationResults = []  \n",
        "    parent1FirstHalf = parent1Array[i][0:(crossOverIndex-1)]\n",
        "    parent1SecondHalf = parent1Array[i][(crossOverIndex-1):(parent1.shape[1])]\n",
        "    parent2FirstHalf = parent2Array[i][0:(crossOverIndex-1)]\n",
        "    parent2SecondHalf = parent2Array[i][(crossOverIndex-1):(parent2.shape[1])]\n",
        "\n",
        "    indicesListNotMatching1stParent = []\n",
        "    indicesListNotMatching2ndParent = []\n",
        "    length2ndHalf = len(parent2SecondHalf)\n",
        "\n",
        "    parent1OriginalSecondHalfCopy = parent1SecondHalf.copy()\n",
        "    parent1ResultSecondHalf = parent2SecondHalf.copy()\n",
        "\n",
        "    parent2OriginalSecondHalfCopy = parent2SecondHalf.copy()\n",
        "    parent2ResultSecondHalf = parent1SecondHalf.copy()\n",
        "\n",
        "    for j in range(length2ndHalf):\n",
        "      if parent1ResultSecondHalf[j] not in parent1OriginalSecondHalfCopy:\n",
        "        indicesListNotMatching1stParent.append(j)\n",
        "      else:\n",
        "        resultParent1 = numpy.where(parent1OriginalSecondHalfCopy == parent1ResultSecondHalf[j])\n",
        "        parent1OriginalSecondHalfCopy = numpy.delete(parent1OriginalSecondHalfCopy, resultParent1[0][0])\n",
        "\n",
        "    for k in range(len(parent1OriginalSecondHalfCopy)):\n",
        "      parent1ResultSecondHalf[indicesListNotMatching1stParent[k]] = parent1OriginalSecondHalfCopy[k]\n",
        "\n",
        "    for l in range(length2ndHalf):\n",
        "      if parent2ResultSecondHalf[l] not in parent2OriginalSecondHalfCopy:\n",
        "        indicesListNotMatching2ndParent.append(l)\n",
        "      else:\n",
        "        resultParent2 = numpy.where(parent2OriginalSecondHalfCopy == parent2ResultSecondHalf[l])\n",
        "        parent2OriginalSecondHalfCopy = numpy.delete(parent2OriginalSecondHalfCopy, resultParent2[0][0])\n",
        "\n",
        "    for m in range(len(parent2OriginalSecondHalfCopy)):\n",
        "      parent2ResultSecondHalf[indicesListNotMatching2ndParent[m]] = parent2OriginalSecondHalfCopy[m]\n",
        "\n",
        "    recombinedParent1 = numpy.concatenate((parent1FirstHalf, parent1ResultSecondHalf))\n",
        "    recombinedParent2 = numpy.concatenate((parent2FirstHalf, parent2ResultSecondHalf))\n",
        "\n",
        "    recombinedParent1Array[i] = recombinedParent1\n",
        "    recombinedParent2Array[i] = recombinedParent2\n",
        "\n",
        "  recombinationResults.append(recombinedParent1Array)\n",
        "  recombinationResults.append(recombinedParent2Array)\n",
        "\n",
        "  return recombinationResults"
      ],
      "metadata": {
        "id": "GkINgbq0kZBg"
      },
      "execution_count": 35,
      "outputs": []
    },
    {
      "cell_type": "code",
      "source": [
        "def mutation(recombinationResults):\n",
        "  randGen = random.randint(0, 5)\n",
        "  if randGen > 3:\n",
        "    print(\"Mutation\")\n",
        "    randStartInd = random.randint(0, len(recombinationResults[0][0]))\n",
        "    randEndInd = random.randint(0, len(recombinationResults[0][0]))\n",
        "    \n",
        "    for i in range(len(recombinationResults[0])):\n",
        "      startIndexValueParent1 = recombinationResults[0][i][randStartInd]\n",
        "      recombinationResults[0][i][randStartInd] = recombinationResults[0][i][randEndInd]\n",
        "      recombinationResults[0][i][randEndInd] = startIndexValueParent1\n",
        "\n",
        "      startIndexValueParent2 = recombinationResults[1][i][randStartInd]\n",
        "      recombinationResults[1][i][randStartInd] = recombinationResults[1][i][randEndInd]\n",
        "      recombinationResults[1][i][randEndInd] = recombinationResults[1][i][randStartInd]\n",
        "\n",
        "  return recombinationResults"
      ],
      "metadata": {
        "id": "dWw3VhGRXAex"
      },
      "execution_count": 54,
      "outputs": []
    },
    {
      "cell_type": "code",
      "source": [
        "def evolutionary_algo(class_subject_hours_dataframe, teacher_subject_dataframe, singleTimetable, intialPopultationSize):\n",
        "  population = generate_intial_population(class_subject_hours_dataframe, teacher_subject_dataframe, singleTimetable, intialPopultationSize)\n",
        "  fitness = fitnessFunction(population)\n",
        "\n",
        "  min_value = min(fitness)\n",
        "  min_index = fitness.index(min_value)\n",
        "  fitnessWithoutMin = fitness.copy()\n",
        "  fitnessWithoutMin[min_index] = 1000\n",
        "  second_min_value = min(fitnessWithoutMin)\n",
        "  second_min_index = fitness.index(second_min_value)\n",
        "\n",
        "  firstParent = population[min_index]\n",
        "  secondParent =  population[second_min_index]\n",
        "\n",
        "  print(\"Parent 1:  \" + str(firstParent))\n",
        "  print(\"Parent 2:  \" + str(secondParent))\n",
        "\n",
        "  recombinationParentResults = recombine(firstParent, secondParent)\n",
        "  print(\"Recombination results:  \" + str(recombinationParentResults))\n",
        "\n",
        "  recombinationParentResultsMutation = mutation(recombinationParentResults)\n",
        "  print(\"Mutation results:  \" + str(recombinationParentResultsMutation))\n",
        "\n",
        "  # Creating the new population based on the parents and offspring.\n",
        "      # new_population[0:parents.shape[0], :] = parents\n",
        "      # new_population[parents.shape[0]:, :] = offspring_mutation"
      ],
      "metadata": {
        "id": "woUUCgYqVlSY"
      },
      "execution_count": 56,
      "outputs": []
    },
    {
      "cell_type": "code",
      "source": [
        "evolutionary_algo(class_subject_hours_dataframe, teacher_subject_dataframe, singleTimetable, 4)"
      ],
      "metadata": {
        "colab": {
          "base_uri": "https://localhost:8080/"
        },
        "id": "WwOV_xsVHs_v",
        "outputId": "0a2b0119-8707-4cfa-deec-de8bdd0316ee"
      },
      "execution_count": 57,
      "outputs": [
        {
          "output_type": "stream",
          "name": "stdout",
          "text": [
            "no representations:  4\n",
            "Parent 1:  [['Chemistry' 'Maths' 'Maths' None 'Chemistry' 'History' 'English'\n",
            "  'Chemistry' 'Chemistry' 'Maths' 'Chemistry' 'English' 'English' None\n",
            "  'History' 'English']\n",
            " [None 'History' 'Physics' 'English' 'Maths' None 'History' 'History'\n",
            "  None 'History' 'History' 'English' 'Maths' 'English' 'English'\n",
            "  'Physics']]\n",
            "Parent 2:  [['History' 'Maths' 'English' 'Maths' None 'English' 'Chemistry'\n",
            "  'English' 'Chemistry' 'Chemistry' 'English' 'Chemistry' 'Chemistry'\n",
            "  'History' 'Maths' None]\n",
            " [None 'History' 'English' None 'English' 'English' 'History' 'Maths'\n",
            "  'Maths' 'History' 'History' 'English' None 'Physics' 'Physics'\n",
            "  'History']]\n",
            "Recombination results:  [array([['Chemistry', 'Maths', 'Maths', None, 'Chemistry', 'History',\n",
            "        'English', 'English', 'Chemistry', 'Chemistry', 'English',\n",
            "        'Chemistry', 'English', 'History', 'Maths', None],\n",
            "       [None, 'History', 'Physics', 'English', 'Maths', None, 'History',\n",
            "        'Maths', 'English', 'History', 'History', 'English', None,\n",
            "        'Physics', 'English', 'History']], dtype=object), array([['History', 'Maths', 'English', 'Maths', None, 'English',\n",
            "        'Chemistry', 'Chemistry', 'Chemistry', 'Maths', 'Chemistry',\n",
            "        'English', 'English', None, 'History', 'Chemistry'],\n",
            "       [None, 'History', 'English', None, 'English', 'English',\n",
            "        'History', 'History', None, 'History', 'History', 'English',\n",
            "        'Maths', 'Maths', 'Physics', 'Physics']], dtype=object)]\n",
            "Mutation\n",
            "Mutation results:  [array([['Chemistry', 'Maths', 'Maths', None, 'English', 'History',\n",
            "        'English', 'Chemistry', 'Chemistry', 'Chemistry', 'English',\n",
            "        'Chemistry', 'English', 'History', 'Maths', None],\n",
            "       [None, 'History', 'Physics', 'English', 'Maths', None, 'History',\n",
            "        'Maths', 'English', 'History', 'History', 'English', None,\n",
            "        'Physics', 'English', 'History']], dtype=object), array([['History', 'Maths', 'English', 'Maths', 'Chemistry', 'English',\n",
            "        'Chemistry', 'Chemistry', 'Chemistry', 'Maths', 'Chemistry',\n",
            "        'English', 'English', None, 'History', 'Chemistry'],\n",
            "       [None, 'History', 'English', None, 'History', 'English',\n",
            "        'History', 'History', None, 'History', 'History', 'English',\n",
            "        'Maths', 'Maths', 'Physics', 'Physics']], dtype=object)]\n"
          ]
        }
      ]
    },
    {
      "cell_type": "markdown",
      "source": [
        "# Execution"
      ],
      "metadata": {
        "id": "JPWnaA_ImUqh"
      }
    },
    {
      "cell_type": "code",
      "source": [
        "num_generations = 5\n",
        "\n",
        "evolutionary_algorithm(num_generations)"
      ],
      "metadata": {
        "colab": {
          "base_uri": "https://localhost:8080/"
        },
        "id": "uCYkdMU8maCU",
        "outputId": "cbc92b6c-31c3-4cde-985e-9f5631b9220a"
      },
      "execution_count": 38,
      "outputs": [
        {
          "output_type": "stream",
          "name": "stdout",
          "text": [
            "Generation :  0\n",
            "Best result :  134.30444802581837\n",
            "Generation :  1\n",
            "Best result :  134.30444802581837\n",
            "Generation :  2\n",
            "Best result :  138.95503532987385\n",
            "Generation :  3\n",
            "Best result :  142.72556515422528\n",
            "Generation :  4\n",
            "Best result :  150.93878864210043\n",
            "Finished Iterations\n",
            "Best solution :  [[[ -1.62969513  -2.97072974   2.30087151   2.18980049 -10.44629408\n",
            "    -3.74570684]]]\n",
            "Best solution fitness :  [150.93878864]\n"
          ]
        },
        {
          "output_type": "execute_result",
          "data": {
            "text/plain": [
              "array([[[ -1.62969513,  -2.97072974,   2.30087151,   2.18980049,\n",
              "         -10.44629408,  -3.74570684]]])"
            ]
          },
          "metadata": {},
          "execution_count": 38
        }
      ]
    }
  ]
}