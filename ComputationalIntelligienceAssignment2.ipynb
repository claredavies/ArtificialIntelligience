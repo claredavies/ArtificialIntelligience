{
  "nbformat": 4,
  "nbformat_minor": 0,
  "metadata": {
    "colab": {
      "provenance": [],
      "collapsed_sections": [
        "co_Q8nO2lNM3"
      ],
      "toc_visible": true,
      "authorship_tag": "ABX9TyPo7oymh+B4nLyFPrCBc0os",
      "include_colab_link": true
    },
    "kernelspec": {
      "name": "python3",
      "display_name": "Python 3"
    },
    "language_info": {
      "name": "python"
    }
  },
  "cells": [
    {
      "cell_type": "markdown",
      "metadata": {
        "id": "view-in-github",
        "colab_type": "text"
      },
      "source": [
        "<a href=\"https://colab.research.google.com/github/claredavies/ArtificialIntelligience/blob/main/ComputationalIntelligienceAssignment2.ipynb\" target=\"_parent\"><img src=\"https://colab.research.google.com/assets/colab-badge.svg\" alt=\"Open In Colab\"/></a>"
      ]
    },
    {
      "cell_type": "markdown",
      "source": [
        "# Import Libraries"
      ],
      "metadata": {
        "id": "hpi8nhdEk6CE"
      }
    },
    {
      "cell_type": "code",
      "source": [
        "import numpy\n",
        "import pandas as pd\n",
        "import random\n",
        "\n",
        "\"\"\"\n",
        "The y=target is to maximize this equation ASAP:\n",
        "    y = w1x1+w2x2+w3x3+w4x4+w5x5+6wx6\n",
        "    where (x1,x2,x3,x4,x5,x6)=(4,-2,3.5,5,-11,-4.7)\n",
        "    What are the best values for the 6 weights w1 to w6?\n",
        "    We are going to use the genetic algorithm for the best possible values after a number of generations.\n",
        "\"\"\"\n"
      ],
      "metadata": {
        "colab": {
          "base_uri": "https://localhost:8080/",
          "height": 53
        },
        "id": "OZzLF3xflZhg",
        "outputId": "c7dde8f2-e4a6-4977-fd6d-45e1265f47c8"
      },
      "execution_count": 1,
      "outputs": [
        {
          "output_type": "execute_result",
          "data": {
            "text/plain": [
              "'\\nThe y=target is to maximize this equation ASAP:\\n    y = w1x1+w2x2+w3x3+w4x4+w5x5+6wx6\\n    where (x1,x2,x3,x4,x5,x6)=(4,-2,3.5,5,-11,-4.7)\\n    What are the best values for the 6 weights w1 to w6?\\n    We are going to use the genetic algorithm for the best possible values after a number of generations.\\n'"
            ],
            "application/vnd.google.colaboratory.intrinsic+json": {
              "type": "string"
            }
          },
          "metadata": {},
          "execution_count": 1
        }
      ]
    },
    {
      "cell_type": "code",
      "execution_count": 2,
      "metadata": {
        "id": "pfB57Nb2k2_K"
      },
      "outputs": [],
      "source": [
        "# genetic algorithm search of the one max optimization problem\n",
        "from numpy.random import randint\n",
        "from numpy.random import rand"
      ]
    },
    {
      "cell_type": "markdown",
      "source": [
        "# Functions"
      ],
      "metadata": {
        "id": "3XRudRYzlJyF"
      }
    },
    {
      "cell_type": "code",
      "source": [
        "def cal_pop_fitness(equation_inputs, pop):\n",
        "    # Calculating the fitness value of each solution in the current population.\n",
        "    # The fitness function caulcuates the sum of products between each input and its corresponding weight.\n",
        "    fitness = numpy.sum(pop*equation_inputs, axis=1)\n",
        "    return fitness"
      ],
      "metadata": {
        "id": "BoVHMQ1dnoVn"
      },
      "execution_count": 3,
      "outputs": []
    },
    {
      "cell_type": "code",
      "source": [
        "def select_mating_pool(pop, fitness, num_parents):\n",
        "    # Selecting the best individuals in the current generation as parents for producing the offspring of the next generation.\n",
        "    parents = numpy.empty((num_parents, pop.shape[1]))\n",
        "    for parent_num in range(num_parents):\n",
        "        max_fitness_idx = numpy.where(fitness == numpy.max(fitness))\n",
        "        max_fitness_idx = max_fitness_idx[0][0]\n",
        "        parents[parent_num, :] = pop[max_fitness_idx, :]\n",
        "        fitness[max_fitness_idx] = -99999999999\n",
        "    return parents"
      ],
      "metadata": {
        "id": "QhVQaN4anpgS"
      },
      "execution_count": 4,
      "outputs": []
    },
    {
      "cell_type": "code",
      "source": [
        "def crossover(parents, offspring_size):\n",
        "    offspring = numpy.empty(offspring_size)\n",
        "    # The point at which crossover takes place between two parents. Usually it is at the center.\n",
        "    crossover_point = numpy.uint8(offspring_size[1]/2)\n",
        "    for k in range(offspring_size[0]):\n",
        "        # Index of the first parent to mate.\n",
        "        parent1_idx = k%parents.shape[0]\n",
        "        # Index of the second parent to mate.\n",
        "        parent2_idx = (k+1)%parents.shape[0]\n",
        "        # The new offspring will have its first half of its genes taken from the first parent.\n",
        "        offspring[k, 0:crossover_point] = parents[parent1_idx, 0:crossover_point]\n",
        "        # The new offspring will have its second half of its genes taken from the second parent.\n",
        "        offspring[k, crossover_point:] = parents[parent2_idx, crossover_point:]\n",
        "    return offspring"
      ],
      "metadata": {
        "id": "1ipVyXBPnqt4"
      },
      "execution_count": 5,
      "outputs": []
    },
    {
      "cell_type": "code",
      "source": [
        "def mutation(offspring_crossover):\n",
        "    # Mutation changes a single gene in each offspring randomly.\n",
        "    for idx in range(offspring_crossover.shape[0]):\n",
        "        # The random value to be added to the gene.\n",
        "        random_value = numpy.random.uniform(-1.0, 1.0, 1)\n",
        "        offspring_crossover[idx, 4] = offspring_crossover[idx, 4] + random_value\n",
        "    return offspring_crossover"
      ],
      "metadata": {
        "id": "23fQJrUSnsOs"
      },
      "execution_count": 6,
      "outputs": []
    },
    {
      "cell_type": "markdown",
      "source": [
        "# Genetic Algorithm"
      ],
      "metadata": {
        "id": "co_Q8nO2lNM3"
      }
    },
    {
      "cell_type": "code",
      "source": [
        "# Inputs of the equation.\n",
        "equation_inputs = [4,-2,3.5,5,-11,-4.7]\n",
        "\n",
        "# Number of the weights we are looking to optimize.\n",
        "num_weights = 6\n",
        "\n",
        "\"\"\"\n",
        "Genetic algorithm parameters:\n",
        "    Mating pool size\n",
        "    Population size\n",
        "\"\"\"\n",
        "\n",
        "sol_per_pop = 8\n",
        "num_parents_mating = 4\n",
        "\n",
        "# Defining the population size.\n",
        "pop_size = (sol_per_pop,num_weights) # The population will have sol_per_pop chromosome where each chromosome has num_weights genes.\n",
        "\n",
        "#Creating the initial population.\n",
        "new_population = numpy.random.uniform(low=-4.0, high=4.0, size=pop_size)\n",
        "print(new_population)"
      ],
      "metadata": {
        "colab": {
          "base_uri": "https://localhost:8080/"
        },
        "id": "aXxrOT718wHx",
        "outputId": "92e21136-b2ba-4fa3-d0c4-26125fb45ff8"
      },
      "execution_count": 7,
      "outputs": [
        {
          "output_type": "stream",
          "name": "stdout",
          "text": [
            "[[ 2.82998076  0.56491379  2.46734451 -0.64327775  1.00068816  1.40188912]\n",
            " [-0.84632743  1.99847029  2.09289437  1.07254084 -3.98794178  1.39785158]\n",
            " [ 1.4904307   2.61124774 -2.73153569 -1.02689185 -2.1357283  -0.2763408 ]\n",
            " [ 1.20957158 -2.39647984 -1.27251736  1.37405416 -3.28279581 -1.46577715]\n",
            " [ 0.47741207  1.64999606 -1.30644192 -3.08453457 -2.24141511  1.09566817]\n",
            " [ 1.88998884 -2.01925287  1.96017229  2.76852341  1.1636932  -2.42045205]\n",
            " [ 3.21069194  3.74463536  3.86023508 -2.39735438 -0.02833653  3.44782241]\n",
            " [-0.23271615 -2.70244606 -1.86206826  3.15511665 -0.87480665 -0.36423372]]\n"
          ]
        }
      ]
    },
    {
      "cell_type": "code",
      "source": [
        "def evolutionary_algorithm(num_generations):\n",
        "  for generation in range(num_generations):\n",
        "      print(\"Generation : \", generation)\n",
        "      # Measing the fitness of each chromosome in the population.\n",
        "      fitness = cal_pop_fitness(equation_inputs, new_population)\n",
        "\n",
        "      # Selecting the best parents in the population for mating.\n",
        "      parents = select_mating_pool(new_population, fitness, \n",
        "                                        num_parents_mating)\n",
        "\n",
        "      # Generating next generation using crossover.\n",
        "      offspring_crossover = crossover(parents,\n",
        "                                        offspring_size=(pop_size[0]-parents.shape[0], num_weights))\n",
        "\n",
        "      # Adding some variations to the offsrping using mutation.\n",
        "      offspring_mutation = mutation(offspring_crossover)\n",
        "\n",
        "      # Creating the new population based on the parents and offspring.\n",
        "      new_population[0:parents.shape[0], :] = parents\n",
        "      new_population[parents.shape[0]:, :] = offspring_mutation\n",
        "\n",
        "      # The best result in the current iteration.\n",
        "      print(\"Best result : \", numpy.max(numpy.sum(new_population*equation_inputs, axis=1)))\n",
        "\n",
        "  # Getting the best solution after iterating finishing all generations.\n",
        "  #At first, the fitness is calculated for each solution in the final generation.\n",
        "  fitness = cal_pop_fitness(equation_inputs, new_population)\n",
        "  # Then return the index of that solution corresponding to the best fitness.\n",
        "  best_match_idx = numpy.where(fitness == numpy.max(fitness))\n",
        "\n",
        "  print(\"Finished Iterations\")\n",
        "  print(\"Best solution : \", new_population[best_match_idx, :])\n",
        "  print(\"Best solution fitness : \", fitness[best_match_idx])\n",
        "\n",
        "  return new_population[best_match_idx, :]"
      ],
      "metadata": {
        "id": "j7tuYPFk8wrf"
      },
      "execution_count": 8,
      "outputs": []
    },
    {
      "cell_type": "markdown",
      "source": [
        "# Inputs"
      ],
      "metadata": {
        "id": "KY8rKVcYA2qW"
      }
    },
    {
      "cell_type": "markdown",
      "source": [
        "Class Info"
      ],
      "metadata": {
        "id": "m5tfB5_3Dkvc"
      }
    },
    {
      "cell_type": "code",
      "source": [
        "#Creating Series\n",
        "class_series = pd.Series(['Class1', 'Class1', 'Class1', 'Class1','Class2', 'Class2', 'Class2', 'Class2'])\n",
        "subject_series = pd.Series(['Maths', 'English', 'Chemistry', 'History','Maths', 'English', 'History', 'Physics'])\n",
        "hours_series = pd.Series([3, 4, 5, 3, 2, 4, 5, 3])\n",
        "\n",
        "\n",
        "#Creating Dictionary\n",
        "frame = { 'Class': class_series, 'Subject': subject_series, 'Hours': hours_series }\n",
        "#Creating Dataframe\n",
        "class_subject_hours_dataframe = pd.DataFrame(frame)\n",
        "\n",
        "#Printing dataframe\n",
        "print(class_subject_hours_dataframe)"
      ],
      "metadata": {
        "colab": {
          "base_uri": "https://localhost:8080/"
        },
        "id": "pu560w_jCjrd",
        "outputId": "84f9717d-1531-45f9-bf38-ced01d4075d6"
      },
      "execution_count": 9,
      "outputs": [
        {
          "output_type": "stream",
          "name": "stdout",
          "text": [
            "    Class    Subject  Hours\n",
            "0  Class1      Maths      3\n",
            "1  Class1    English      4\n",
            "2  Class1  Chemistry      5\n",
            "3  Class1    History      3\n",
            "4  Class2      Maths      2\n",
            "5  Class2    English      4\n",
            "6  Class2    History      5\n",
            "7  Class2    Physics      3\n"
          ]
        }
      ]
    },
    {
      "cell_type": "markdown",
      "source": [
        "Teacher Info"
      ],
      "metadata": {
        "id": "D0_HYWRBDnKb"
      }
    },
    {
      "cell_type": "code",
      "source": [
        "teacher_series = pd.Series(['ProfessorA', 'ProfessorA', 'ProfessorB', 'ProfessorB','ProfessorC', 'ProfessorC'])\n",
        "subject_series = pd.Series(['Maths', 'English', 'Chemistry', 'History','Maths', 'Physics'])\n",
        "\n",
        "#Creating Dictionary\n",
        "frame = { 'Teacher': teacher_series, 'Subject': subject_series}\n",
        "#Creating Dataframe\n",
        "teacher_subject_dataframe = pd.DataFrame(frame)\n",
        "\n",
        "teacher_subject_array = teacher_subject_dataframe.to_numpy()\n",
        "#Printing dataframe\n",
        "print(teacher_subject_array)"
      ],
      "metadata": {
        "colab": {
          "base_uri": "https://localhost:8080/"
        },
        "id": "b8bE0dQUDoWU",
        "outputId": "89c2fae4-3b50-430e-aad9-b4009b232914"
      },
      "execution_count": 10,
      "outputs": [
        {
          "output_type": "stream",
          "name": "stdout",
          "text": [
            "[['ProfessorA' 'Maths']\n",
            " ['ProfessorA' 'English']\n",
            " ['ProfessorB' 'Chemistry']\n",
            " ['ProfessorB' 'History']\n",
            " ['ProfessorC' 'Maths']\n",
            " ['ProfessorC' 'Physics']]\n"
          ]
        }
      ]
    },
    {
      "cell_type": "markdown",
      "source": [
        "Define Timetable"
      ],
      "metadata": {
        "id": "RKEqX0fvEObt"
      }
    },
    {
      "cell_type": "code",
      "source": [
        "startTime = 10\n",
        "durationLesson = 1\n",
        "lunchTime = 12\n",
        "durationLunch = 1\n",
        "endTime = 15\n",
        "\n",
        "singleTimetable = []\n",
        "daysOfWeek = ['Mon','Tue','Wed', 'Thur']\n",
        "\n",
        "for day in daysOfWeek:\n",
        "  for time in range(startTime, endTime, durationLesson):\n",
        "    if time != lunchTime:\n",
        "      singleTimetable.append([day, time])\n",
        "\n",
        "print(singleTimetable)"
      ],
      "metadata": {
        "colab": {
          "base_uri": "https://localhost:8080/"
        },
        "id": "Z5xvAvndEPuH",
        "outputId": "21cbed7a-0762-44cf-a162-d63b5e835b3f"
      },
      "execution_count": 11,
      "outputs": [
        {
          "output_type": "stream",
          "name": "stdout",
          "text": [
            "[['Mon', 10], ['Mon', 11], ['Mon', 13], ['Mon', 14], ['Tue', 10], ['Tue', 11], ['Tue', 13], ['Tue', 14], ['Wed', 10], ['Wed', 11], ['Wed', 13], ['Wed', 14], ['Thur', 10], ['Thur', 11], ['Thur', 13], ['Thur', 14]]\n"
          ]
        }
      ]
    },
    {
      "cell_type": "code",
      "source": [
        "def create_timetables(class_subject_hours_dataframe, timetable):\n",
        "  all_timetables = []\n",
        "  blank_timetable = [None] * len(timetable)\n",
        "  number_class_timetables = class_subject_hours_dataframe.Class.nunique()\n",
        "\n",
        "  for x in range(number_class_timetables):\n",
        "    all_timetables.append(blank_timetable)\n",
        "\n",
        "  # print(all_timetables)\n",
        "  all_timetables_array = numpy.array(all_timetables)\n",
        "  return all_timetables_array"
      ],
      "metadata": {
        "id": "aYunxaTE4jxu"
      },
      "execution_count": 12,
      "outputs": []
    },
    {
      "cell_type": "code",
      "source": [
        "def make_array_1_hour_class(class_mask):\n",
        "  list_classes_1hr = []\n",
        "  for index, row in class_mask.iterrows():\n",
        "    number_hours_per_class = row['Hours']\n",
        "    for x in range(number_hours_per_class):\n",
        "      list_classes_1hr.append(row['Subject'])\n",
        "  list_finished = list_classes_1hr.copy()\n",
        "  return list_finished"
      ],
      "metadata": {
        "id": "4ORWx-RRxGwj"
      },
      "execution_count": 13,
      "outputs": []
    },
    {
      "cell_type": "markdown",
      "source": [
        "# Genetic Fucntions Timetable"
      ],
      "metadata": {
        "id": "nqLicuesDQKw"
      }
    },
    {
      "cell_type": "code",
      "source": [
        "def generate_intial_population(class_subject_hours_dataframe, teacher_subject_dataframe, timetable, populationSize):\n",
        "  population = []\n",
        "  class_names = class_subject_hours_dataframe.Class.unique()\n",
        "  number_class_names = class_subject_hours_dataframe.Class.nunique()\n",
        "\n",
        "  for a in range(populationSize):\n",
        "    trackClass = 0\n",
        "    all_timetables = create_timetables(class_subject_hours_dataframe, timetable)\n",
        "    for class_name in class_names:\n",
        "      mask = class_subject_hours_dataframe.loc[class_subject_hours_dataframe['Class'] == class_name]\n",
        "      list_classes_1hr = make_array_1_hour_class(mask)\n",
        "      list_indices_single_timetable = [None] * len(timetable)\n",
        "\n",
        "      if(len(list_classes_1hr) > len(list_indices_single_timetable) ):\n",
        "        print(\"Not enough hours in timetable for class hours set!!\")\n",
        "        return\n",
        "\n",
        "      for i in range(len(list_indices_single_timetable)):\n",
        "        list_indices_single_timetable[i] = i\n",
        "    \n",
        "      range_end_single_timetable = len(list_indices_single_timetable) - 1\n",
        "\n",
        "      for j in range((len(list_classes_1hr) - 1)):\n",
        "        random_num = random.randint(0, range_end_single_timetable)\n",
        "\n",
        "        random_num_index_value = list_indices_single_timetable[random_num]\n",
        "        all_timetables[trackClass][random_num_index_value] = list_classes_1hr[j]\n",
        "    \n",
        "        list_indices_single_timetable.pop(random_num)\n",
        "        range_end_single_timetable = range_end_single_timetable - 1\n",
        "    \n",
        "      trackClass = trackClass + 1\n",
        "\n",
        "    population.append(all_timetables)\n",
        "  return population"
      ],
      "metadata": {
        "id": "1r7LJIuQ2_sT"
      },
      "execution_count": 14,
      "outputs": []
    },
    {
      "cell_type": "code",
      "source": [
        "def fitnessFunction(pop):\n",
        "  arrPop = numpy.array(pop)\n",
        "  num_representations = arrPop.shape[0]\n",
        "  NoClashesList = [None] * num_representations\n",
        " \n",
        "  print(\"no representations:  \" + str(num_representations))\n",
        "  for i in range(num_representations):\n",
        "    populationSelect = pop[i]\n",
        "    # print(populationSelect)\n",
        "    noClashes = calClashes(populationSelect)\n",
        "    NoClashesList[i] = noClashes\n",
        "    print(\"no of clashes:  \" + str(noClashes))\n",
        "  print(\"clash list: \" + str(NoClashesList))\n",
        "  return NoClashesList"
      ],
      "metadata": {
        "id": "3rM7AmYQH__D"
      },
      "execution_count": 89,
      "outputs": []
    },
    {
      "cell_type": "code",
      "source": [
        "def calClashes(pop):\n",
        "  num_timetable_slots = pop.shape[1]\n",
        "  num_classes = pop.shape[0]\n",
        "\n",
        "  clash = 0\n",
        "  for i in range(num_timetable_slots):\n",
        "    for j in range(1, num_classes):\n",
        "      if(pop[(j-1)][i] == pop[j][i]):\n",
        "        if(pop[(j-1)][i] != None):\n",
        "          clash = clash + 1\n",
        "          # print(\"there is a clash at index:  \" + str(i) + \"  for the subject:  \" + str(pop[(j-1)][i]))\n",
        "  # print(\"clashes found:  \" + str(clash))\n",
        "  return clash"
      ],
      "metadata": {
        "id": "Q5Llo6yuDa72"
      },
      "execution_count": 88,
      "outputs": []
    },
    {
      "cell_type": "code",
      "source": [
        "population = generate_intial_population(class_subject_hours_dataframe, teacher_subject_dataframe, singleTimetable, 4)\n",
        "print(population)"
      ],
      "metadata": {
        "colab": {
          "base_uri": "https://localhost:8080/"
        },
        "id": "yagIzCk34Fy3",
        "outputId": "98d7eea3-5030-450d-ed2a-12433d6dbfc2"
      },
      "execution_count": 82,
      "outputs": [
        {
          "output_type": "stream",
          "name": "stdout",
          "text": [
            "[array([['Maths', 'History', 'English', 'Maths', 'History', 'English',\n",
            "        'Chemistry', 'Maths', 'Chemistry', 'Chemistry', None, 'English',\n",
            "        'Chemistry', None, 'Chemistry', 'English'],\n",
            "       ['History', None, 'English', 'History', 'English', 'Maths', None,\n",
            "        'English', 'Physics', 'History', 'English', 'History', 'Maths',\n",
            "        'History', 'Physics', None]], dtype=object), array([['Chemistry', 'English', None, 'Maths', 'Chemistry', 'History',\n",
            "        'English', None, 'Chemistry', 'English', 'English', 'History',\n",
            "        'Chemistry', 'Maths', 'Chemistry', 'Maths'],\n",
            "       ['Physics', 'History', 'History', 'English', 'Physics', None,\n",
            "        None, 'Maths', 'History', 'History', None, 'English', 'History',\n",
            "        'Maths', 'English', 'English']], dtype=object), array([['Chemistry', 'Maths', 'History', 'English', 'Maths', 'Chemistry',\n",
            "        'History', 'Chemistry', None, 'Maths', 'English', 'English',\n",
            "        'English', None, 'Chemistry', 'Chemistry'],\n",
            "       ['History', 'English', 'Physics', None, 'Maths', 'History',\n",
            "        'English', 'Physics', None, 'History', 'English', 'English',\n",
            "        'History', None, 'History', 'Maths']], dtype=object), array([['English', 'Maths', 'Chemistry', 'Chemistry', 'History',\n",
            "        'Chemistry', 'History', 'English', 'English', 'Chemistry',\n",
            "        'English', None, None, 'Chemistry', 'Maths', 'Maths'],\n",
            "       ['History', 'History', 'Maths', 'History', 'English', 'History',\n",
            "        None, 'English', 'English', 'Maths', 'Physics', 'English',\n",
            "        'Physics', None, None, 'History']], dtype=object)]\n"
          ]
        }
      ]
    },
    {
      "cell_type": "code",
      "source": [
        "fitnessFunction(population)"
      ],
      "metadata": {
        "colab": {
          "base_uri": "https://localhost:8080/"
        },
        "id": "WwOV_xsVHs_v",
        "outputId": "3dad39af-311e-41aa-f0f9-5ad4b97b0a17"
      },
      "execution_count": 90,
      "outputs": [
        {
          "output_type": "stream",
          "name": "stdout",
          "text": [
            "no representations:  4\n",
            "no of clashes:  1\n",
            "no of clashes:  1\n",
            "no of clashes:  3\n",
            "no of clashes:  2\n",
            "clash list: [1, 1, 3, 2]\n"
          ]
        },
        {
          "output_type": "execute_result",
          "data": {
            "text/plain": [
              "[1, 1, 3, 2]"
            ]
          },
          "metadata": {},
          "execution_count": 90
        }
      ]
    },
    {
      "cell_type": "markdown",
      "source": [
        "# Execution"
      ],
      "metadata": {
        "id": "JPWnaA_ImUqh"
      }
    },
    {
      "cell_type": "code",
      "source": [
        "num_generations = 5\n",
        "\n",
        "evolutionary_algorithm(num_generations)"
      ],
      "metadata": {
        "colab": {
          "base_uri": "https://localhost:8080/"
        },
        "id": "uCYkdMU8maCU",
        "outputId": "cbc92b6c-31c3-4cde-985e-9f5631b9220a"
      },
      "execution_count": 38,
      "outputs": [
        {
          "output_type": "stream",
          "name": "stdout",
          "text": [
            "Generation :  0\n",
            "Best result :  134.30444802581837\n",
            "Generation :  1\n",
            "Best result :  134.30444802581837\n",
            "Generation :  2\n",
            "Best result :  138.95503532987385\n",
            "Generation :  3\n",
            "Best result :  142.72556515422528\n",
            "Generation :  4\n",
            "Best result :  150.93878864210043\n",
            "Finished Iterations\n",
            "Best solution :  [[[ -1.62969513  -2.97072974   2.30087151   2.18980049 -10.44629408\n",
            "    -3.74570684]]]\n",
            "Best solution fitness :  [150.93878864]\n"
          ]
        },
        {
          "output_type": "execute_result",
          "data": {
            "text/plain": [
              "array([[[ -1.62969513,  -2.97072974,   2.30087151,   2.18980049,\n",
              "         -10.44629408,  -3.74570684]]])"
            ]
          },
          "metadata": {},
          "execution_count": 38
        }
      ]
    }
  ]
}