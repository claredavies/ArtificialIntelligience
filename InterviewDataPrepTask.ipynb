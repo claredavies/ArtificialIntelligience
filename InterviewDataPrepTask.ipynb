{
  "nbformat": 4,
  "nbformat_minor": 0,
  "metadata": {
    "colab": {
      "provenance": [],
      "collapsed_sections": [
        "sYZduvOG-NLF",
        "EoXzzGoH-TNj",
        "FQZbeNe1_kLf",
        "STiXKaTkAxoi",
        "PMhJRMDGA3Zo",
        "uIzNIorrCei0",
        "Xy6ieu5cl7V6",
        "mVI-QhFtmxtn",
        "6wRa2qDPNvQy"
      ],
      "toc_visible": true,
      "authorship_tag": "ABX9TyOaHWIlSnXERDkQ8nqbehh8",
      "include_colab_link": true
    },
    "kernelspec": {
      "name": "python3",
      "display_name": "Python 3"
    },
    "language_info": {
      "name": "python"
    }
  },
  "cells": [
    {
      "cell_type": "markdown",
      "metadata": {
        "id": "view-in-github",
        "colab_type": "text"
      },
      "source": [
        "<a href=\"https://colab.research.google.com/github/claredavies/ArtificialIntelligience/blob/main/InterviewDataPrepTask.ipynb\" target=\"_parent\"><img src=\"https://colab.research.google.com/assets/colab-badge.svg\" alt=\"Open In Colab\"/></a>"
      ]
    },
    {
      "cell_type": "markdown",
      "source": [
        "# Libraries"
      ],
      "metadata": {
        "id": "sYZduvOG-NLF"
      }
    },
    {
      "cell_type": "code",
      "execution_count": 25,
      "metadata": {
        "id": "eza77N_D-KUM"
      },
      "outputs": [],
      "source": [
        "import numpy as np\n",
        "from google.colab import files\n",
        "import pandas as pd\n",
        "from matplotlib import pyplot as plt\n",
        "from pandas.api.types import is_numeric_dtype\n",
        "from pandas.api.types import is_string_dtype\n",
        "import re\n",
        "import socket"
      ]
    },
    {
      "cell_type": "code",
      "source": [
        "pd.set_option('display.max_rows', None)"
      ],
      "metadata": {
        "id": "oSin7yeuMauf"
      },
      "execution_count": 4,
      "outputs": []
    },
    {
      "cell_type": "markdown",
      "source": [
        "# Read in files"
      ],
      "metadata": {
        "id": "EoXzzGoH-TNj"
      }
    },
    {
      "cell_type": "code",
      "source": [
        "!git clone https://github.com/claredavies/InterviewTaskDataCleaning.git"
      ],
      "metadata": {
        "colab": {
          "base_uri": "https://localhost:8080/"
        },
        "id": "by8etXVk-lk3",
        "outputId": "64bbfd72-6371-4876-a632-7c6ec91e1476"
      },
      "execution_count": 5,
      "outputs": [
        {
          "output_type": "stream",
          "name": "stdout",
          "text": [
            "Cloning into 'InterviewTaskDataCleaning'...\n",
            "remote: Enumerating objects: 16, done.\u001b[K\n",
            "remote: Counting objects: 100% (16/16), done.\u001b[K\n",
            "remote: Compressing objects: 100% (14/14), done.\u001b[K\n",
            "remote: Total 16 (delta 4), reused 0 (delta 0), pack-reused 0\u001b[K\n",
            "Unpacking objects: 100% (16/16), done.\n"
          ]
        }
      ]
    },
    {
      "cell_type": "code",
      "source": [
        "%cd InterviewTaskDataCleaning"
      ],
      "metadata": {
        "colab": {
          "base_uri": "https://localhost:8080/"
        },
        "id": "1FyOSiFo_M7H",
        "outputId": "06b9812b-e2b1-443e-8039-5ff6405d2f76"
      },
      "execution_count": 6,
      "outputs": [
        {
          "output_type": "stream",
          "name": "stdout",
          "text": [
            "/content/InterviewTaskDataCleaning\n"
          ]
        }
      ]
    },
    {
      "cell_type": "code",
      "source": [
        "df = pd.read_csv('InputData.csv')\n",
        "df.head(3)"
      ],
      "metadata": {
        "colab": {
          "base_uri": "https://localhost:8080/",
          "height": 0
        },
        "id": "yGrn2o25-skt",
        "outputId": "ac1a20db-b7a2-4db6-cfef-61df62c25694"
      },
      "execution_count": 7,
      "outputs": [
        {
          "output_type": "execute_result",
          "data": {
            "text/plain": [
              "   Ref First_Name Last_Name                   Email Gender      IP_Address  \\\n",
              "0    1   Germayne   Simmons    gsimmons0@cdbaby.com   Male   24.48.223.251   \n",
              "1    2      Cosmo    Pleass   cpleass1@netscape.com   Male   108.87.136.28   \n",
              "2    3     Henrik      Boag  hboag2@bizjournals.com   Male  221.105.60.101   \n",
              "\n",
              "  Date_of_Birth  \n",
              "0    18/11/1959  \n",
              "1    08/11/1935  \n",
              "2    07/10/1989  "
            ],
            "text/html": [
              "\n",
              "  <div id=\"df-7190a9ab-8aaa-4cf4-9702-88210103a720\">\n",
              "    <div class=\"colab-df-container\">\n",
              "      <div>\n",
              "<style scoped>\n",
              "    .dataframe tbody tr th:only-of-type {\n",
              "        vertical-align: middle;\n",
              "    }\n",
              "\n",
              "    .dataframe tbody tr th {\n",
              "        vertical-align: top;\n",
              "    }\n",
              "\n",
              "    .dataframe thead th {\n",
              "        text-align: right;\n",
              "    }\n",
              "</style>\n",
              "<table border=\"1\" class=\"dataframe\">\n",
              "  <thead>\n",
              "    <tr style=\"text-align: right;\">\n",
              "      <th></th>\n",
              "      <th>Ref</th>\n",
              "      <th>First_Name</th>\n",
              "      <th>Last_Name</th>\n",
              "      <th>Email</th>\n",
              "      <th>Gender</th>\n",
              "      <th>IP_Address</th>\n",
              "      <th>Date_of_Birth</th>\n",
              "    </tr>\n",
              "  </thead>\n",
              "  <tbody>\n",
              "    <tr>\n",
              "      <th>0</th>\n",
              "      <td>1</td>\n",
              "      <td>Germayne</td>\n",
              "      <td>Simmons</td>\n",
              "      <td>gsimmons0@cdbaby.com</td>\n",
              "      <td>Male</td>\n",
              "      <td>24.48.223.251</td>\n",
              "      <td>18/11/1959</td>\n",
              "    </tr>\n",
              "    <tr>\n",
              "      <th>1</th>\n",
              "      <td>2</td>\n",
              "      <td>Cosmo</td>\n",
              "      <td>Pleass</td>\n",
              "      <td>cpleass1@netscape.com</td>\n",
              "      <td>Male</td>\n",
              "      <td>108.87.136.28</td>\n",
              "      <td>08/11/1935</td>\n",
              "    </tr>\n",
              "    <tr>\n",
              "      <th>2</th>\n",
              "      <td>3</td>\n",
              "      <td>Henrik</td>\n",
              "      <td>Boag</td>\n",
              "      <td>hboag2@bizjournals.com</td>\n",
              "      <td>Male</td>\n",
              "      <td>221.105.60.101</td>\n",
              "      <td>07/10/1989</td>\n",
              "    </tr>\n",
              "  </tbody>\n",
              "</table>\n",
              "</div>\n",
              "      <button class=\"colab-df-convert\" onclick=\"convertToInteractive('df-7190a9ab-8aaa-4cf4-9702-88210103a720')\"\n",
              "              title=\"Convert this dataframe to an interactive table.\"\n",
              "              style=\"display:none;\">\n",
              "        \n",
              "  <svg xmlns=\"http://www.w3.org/2000/svg\" height=\"24px\"viewBox=\"0 0 24 24\"\n",
              "       width=\"24px\">\n",
              "    <path d=\"M0 0h24v24H0V0z\" fill=\"none\"/>\n",
              "    <path d=\"M18.56 5.44l.94 2.06.94-2.06 2.06-.94-2.06-.94-.94-2.06-.94 2.06-2.06.94zm-11 1L8.5 8.5l.94-2.06 2.06-.94-2.06-.94L8.5 2.5l-.94 2.06-2.06.94zm10 10l.94 2.06.94-2.06 2.06-.94-2.06-.94-.94-2.06-.94 2.06-2.06.94z\"/><path d=\"M17.41 7.96l-1.37-1.37c-.4-.4-.92-.59-1.43-.59-.52 0-1.04.2-1.43.59L10.3 9.45l-7.72 7.72c-.78.78-.78 2.05 0 2.83L4 21.41c.39.39.9.59 1.41.59.51 0 1.02-.2 1.41-.59l7.78-7.78 2.81-2.81c.8-.78.8-2.07 0-2.86zM5.41 20L4 18.59l7.72-7.72 1.47 1.35L5.41 20z\"/>\n",
              "  </svg>\n",
              "      </button>\n",
              "      \n",
              "  <style>\n",
              "    .colab-df-container {\n",
              "      display:flex;\n",
              "      flex-wrap:wrap;\n",
              "      gap: 12px;\n",
              "    }\n",
              "\n",
              "    .colab-df-convert {\n",
              "      background-color: #E8F0FE;\n",
              "      border: none;\n",
              "      border-radius: 50%;\n",
              "      cursor: pointer;\n",
              "      display: none;\n",
              "      fill: #1967D2;\n",
              "      height: 32px;\n",
              "      padding: 0 0 0 0;\n",
              "      width: 32px;\n",
              "    }\n",
              "\n",
              "    .colab-df-convert:hover {\n",
              "      background-color: #E2EBFA;\n",
              "      box-shadow: 0px 1px 2px rgba(60, 64, 67, 0.3), 0px 1px 3px 1px rgba(60, 64, 67, 0.15);\n",
              "      fill: #174EA6;\n",
              "    }\n",
              "\n",
              "    [theme=dark] .colab-df-convert {\n",
              "      background-color: #3B4455;\n",
              "      fill: #D2E3FC;\n",
              "    }\n",
              "\n",
              "    [theme=dark] .colab-df-convert:hover {\n",
              "      background-color: #434B5C;\n",
              "      box-shadow: 0px 1px 3px 1px rgba(0, 0, 0, 0.15);\n",
              "      filter: drop-shadow(0px 1px 2px rgba(0, 0, 0, 0.3));\n",
              "      fill: #FFFFFF;\n",
              "    }\n",
              "  </style>\n",
              "\n",
              "      <script>\n",
              "        const buttonEl =\n",
              "          document.querySelector('#df-7190a9ab-8aaa-4cf4-9702-88210103a720 button.colab-df-convert');\n",
              "        buttonEl.style.display =\n",
              "          google.colab.kernel.accessAllowed ? 'block' : 'none';\n",
              "\n",
              "        async function convertToInteractive(key) {\n",
              "          const element = document.querySelector('#df-7190a9ab-8aaa-4cf4-9702-88210103a720');\n",
              "          const dataTable =\n",
              "            await google.colab.kernel.invokeFunction('convertToInteractive',\n",
              "                                                     [key], {});\n",
              "          if (!dataTable) return;\n",
              "\n",
              "          const docLinkHtml = 'Like what you see? Visit the ' +\n",
              "            '<a target=\"_blank\" href=https://colab.research.google.com/notebooks/data_table.ipynb>data table notebook</a>'\n",
              "            + ' to learn more about interactive tables.';\n",
              "          element.innerHTML = '';\n",
              "          dataTable['output_type'] = 'display_data';\n",
              "          await google.colab.output.renderOutput(dataTable, element);\n",
              "          const docLink = document.createElement('div');\n",
              "          docLink.innerHTML = docLinkHtml;\n",
              "          element.appendChild(docLink);\n",
              "        }\n",
              "      </script>\n",
              "    </div>\n",
              "  </div>\n",
              "  "
            ]
          },
          "metadata": {},
          "execution_count": 7
        }
      ]
    },
    {
      "cell_type": "markdown",
      "source": [
        "# Functions"
      ],
      "metadata": {
        "id": "m1xbAFdAGEux"
      }
    },
    {
      "cell_type": "code",
      "source": [
        "def boolCheckLengthOverLimitString(value, limit):\n",
        "  lengthFound = len(value)\n",
        "  if(lengthFound > limit):\n",
        "    return True\n",
        "  else:\n",
        "    return False"
      ],
      "metadata": {
        "id": "ffk6AfaOKBmi"
      },
      "execution_count": 8,
      "outputs": []
    },
    {
      "cell_type": "code",
      "source": [
        "def boolCheckLengthOverLimitInt(value, limit):\n",
        "  stringValue = str(value)\n",
        "  return boolCheckLengthOverLimitString(stringValue, limit)"
      ],
      "metadata": {
        "id": "ebP1vUyjKWCM"
      },
      "execution_count": 9,
      "outputs": []
    },
    {
      "cell_type": "code",
      "source": [
        "def checkCaseCorrect(string):\n",
        "  lengthWord = len(string)\n",
        "  if string[0].isupper() == False:\n",
        "    return False\n",
        "  for i in range(1, lengthWord):\n",
        "    if string[i].isupper() == True:\n",
        "      return False\n",
        "  return True"
      ],
      "metadata": {
        "id": "dyjqgweSQgVV"
      },
      "execution_count": 10,
      "outputs": []
    },
    {
      "cell_type": "code",
      "source": [
        "def checkOnlyCharacter(string):\n",
        "  lengthWord = len(string)\n",
        "  if string.isalpha() == False:\n",
        "    for i in range(0, lengthWord):\n",
        "      if string[i].isalpha() == False:\n",
        "        if(string[i].find(\"-\") == -1 or string[i].find(\"'\") == -1):\n",
        "          print(\"here\")\n",
        "          print(\"char: \" + str(string[i]))\n",
        "          return False\n",
        "    return True\n",
        "  else:\n",
        "    return True"
      ],
      "metadata": {
        "id": "R7lFM8ocUOWq"
      },
      "execution_count": 11,
      "outputs": []
    },
    {
      "cell_type": "code",
      "source": [
        "def checkIfSpacesBetweenWords(string):\n",
        "  res = bool(re.search(r\"\\s\", string))\n",
        "  return res"
      ],
      "metadata": {
        "id": "gEw1nnXsjurl"
      },
      "execution_count": 12,
      "outputs": []
    },
    {
      "cell_type": "code",
      "source": [
        "def checkMaleOrFemale(string):\n",
        "  lowercaseString = string.lower()\n",
        "  if lowercaseString == 'female':\n",
        "    return True\n",
        "  elif lowercaseString == 'male':\n",
        "    return True\n",
        "  else:\n",
        "    return False"
      ],
      "metadata": {
        "id": "uUyc1g16nWAf"
      },
      "execution_count": 22,
      "outputs": []
    },
    {
      "cell_type": "code",
      "source": [
        "def checkIfIPV4Valid(string):\n",
        "  try:\n",
        "      socket.inet_aton(string)\n",
        "      return True\n",
        "      # legal\n",
        "  except socket.error:\n",
        "    return False"
      ],
      "metadata": {
        "id": "vxv56EGgOucQ"
      },
      "execution_count": 26,
      "outputs": []
    },
    {
      "cell_type": "markdown",
      "source": [
        "# Check Duplicates"
      ],
      "metadata": {
        "id": "FQZbeNe1_kLf"
      }
    },
    {
      "cell_type": "code",
      "source": [
        "dfWithoutRef = df.drop('Ref', axis=1)\n",
        "dfWithoutRef.head(3)"
      ],
      "metadata": {
        "colab": {
          "base_uri": "https://localhost:8080/",
          "height": 0
        },
        "id": "jYxu7swd_mym",
        "outputId": "16e13dd9-0707-49b3-e1d1-029a06798d47"
      },
      "execution_count": 14,
      "outputs": [
        {
          "output_type": "execute_result",
          "data": {
            "text/plain": [
              "  First_Name Last_Name                   Email Gender      IP_Address  \\\n",
              "0   Germayne   Simmons    gsimmons0@cdbaby.com   Male   24.48.223.251   \n",
              "1      Cosmo    Pleass   cpleass1@netscape.com   Male   108.87.136.28   \n",
              "2     Henrik      Boag  hboag2@bizjournals.com   Male  221.105.60.101   \n",
              "\n",
              "  Date_of_Birth  \n",
              "0    18/11/1959  \n",
              "1    08/11/1935  \n",
              "2    07/10/1989  "
            ],
            "text/html": [
              "\n",
              "  <div id=\"df-27caf1a7-e1dc-46b2-b45c-7d4381f2082e\">\n",
              "    <div class=\"colab-df-container\">\n",
              "      <div>\n",
              "<style scoped>\n",
              "    .dataframe tbody tr th:only-of-type {\n",
              "        vertical-align: middle;\n",
              "    }\n",
              "\n",
              "    .dataframe tbody tr th {\n",
              "        vertical-align: top;\n",
              "    }\n",
              "\n",
              "    .dataframe thead th {\n",
              "        text-align: right;\n",
              "    }\n",
              "</style>\n",
              "<table border=\"1\" class=\"dataframe\">\n",
              "  <thead>\n",
              "    <tr style=\"text-align: right;\">\n",
              "      <th></th>\n",
              "      <th>First_Name</th>\n",
              "      <th>Last_Name</th>\n",
              "      <th>Email</th>\n",
              "      <th>Gender</th>\n",
              "      <th>IP_Address</th>\n",
              "      <th>Date_of_Birth</th>\n",
              "    </tr>\n",
              "  </thead>\n",
              "  <tbody>\n",
              "    <tr>\n",
              "      <th>0</th>\n",
              "      <td>Germayne</td>\n",
              "      <td>Simmons</td>\n",
              "      <td>gsimmons0@cdbaby.com</td>\n",
              "      <td>Male</td>\n",
              "      <td>24.48.223.251</td>\n",
              "      <td>18/11/1959</td>\n",
              "    </tr>\n",
              "    <tr>\n",
              "      <th>1</th>\n",
              "      <td>Cosmo</td>\n",
              "      <td>Pleass</td>\n",
              "      <td>cpleass1@netscape.com</td>\n",
              "      <td>Male</td>\n",
              "      <td>108.87.136.28</td>\n",
              "      <td>08/11/1935</td>\n",
              "    </tr>\n",
              "    <tr>\n",
              "      <th>2</th>\n",
              "      <td>Henrik</td>\n",
              "      <td>Boag</td>\n",
              "      <td>hboag2@bizjournals.com</td>\n",
              "      <td>Male</td>\n",
              "      <td>221.105.60.101</td>\n",
              "      <td>07/10/1989</td>\n",
              "    </tr>\n",
              "  </tbody>\n",
              "</table>\n",
              "</div>\n",
              "      <button class=\"colab-df-convert\" onclick=\"convertToInteractive('df-27caf1a7-e1dc-46b2-b45c-7d4381f2082e')\"\n",
              "              title=\"Convert this dataframe to an interactive table.\"\n",
              "              style=\"display:none;\">\n",
              "        \n",
              "  <svg xmlns=\"http://www.w3.org/2000/svg\" height=\"24px\"viewBox=\"0 0 24 24\"\n",
              "       width=\"24px\">\n",
              "    <path d=\"M0 0h24v24H0V0z\" fill=\"none\"/>\n",
              "    <path d=\"M18.56 5.44l.94 2.06.94-2.06 2.06-.94-2.06-.94-.94-2.06-.94 2.06-2.06.94zm-11 1L8.5 8.5l.94-2.06 2.06-.94-2.06-.94L8.5 2.5l-.94 2.06-2.06.94zm10 10l.94 2.06.94-2.06 2.06-.94-2.06-.94-.94-2.06-.94 2.06-2.06.94z\"/><path d=\"M17.41 7.96l-1.37-1.37c-.4-.4-.92-.59-1.43-.59-.52 0-1.04.2-1.43.59L10.3 9.45l-7.72 7.72c-.78.78-.78 2.05 0 2.83L4 21.41c.39.39.9.59 1.41.59.51 0 1.02-.2 1.41-.59l7.78-7.78 2.81-2.81c.8-.78.8-2.07 0-2.86zM5.41 20L4 18.59l7.72-7.72 1.47 1.35L5.41 20z\"/>\n",
              "  </svg>\n",
              "      </button>\n",
              "      \n",
              "  <style>\n",
              "    .colab-df-container {\n",
              "      display:flex;\n",
              "      flex-wrap:wrap;\n",
              "      gap: 12px;\n",
              "    }\n",
              "\n",
              "    .colab-df-convert {\n",
              "      background-color: #E8F0FE;\n",
              "      border: none;\n",
              "      border-radius: 50%;\n",
              "      cursor: pointer;\n",
              "      display: none;\n",
              "      fill: #1967D2;\n",
              "      height: 32px;\n",
              "      padding: 0 0 0 0;\n",
              "      width: 32px;\n",
              "    }\n",
              "\n",
              "    .colab-df-convert:hover {\n",
              "      background-color: #E2EBFA;\n",
              "      box-shadow: 0px 1px 2px rgba(60, 64, 67, 0.3), 0px 1px 3px 1px rgba(60, 64, 67, 0.15);\n",
              "      fill: #174EA6;\n",
              "    }\n",
              "\n",
              "    [theme=dark] .colab-df-convert {\n",
              "      background-color: #3B4455;\n",
              "      fill: #D2E3FC;\n",
              "    }\n",
              "\n",
              "    [theme=dark] .colab-df-convert:hover {\n",
              "      background-color: #434B5C;\n",
              "      box-shadow: 0px 1px 3px 1px rgba(0, 0, 0, 0.15);\n",
              "      filter: drop-shadow(0px 1px 2px rgba(0, 0, 0, 0.3));\n",
              "      fill: #FFFFFF;\n",
              "    }\n",
              "  </style>\n",
              "\n",
              "      <script>\n",
              "        const buttonEl =\n",
              "          document.querySelector('#df-27caf1a7-e1dc-46b2-b45c-7d4381f2082e button.colab-df-convert');\n",
              "        buttonEl.style.display =\n",
              "          google.colab.kernel.accessAllowed ? 'block' : 'none';\n",
              "\n",
              "        async function convertToInteractive(key) {\n",
              "          const element = document.querySelector('#df-27caf1a7-e1dc-46b2-b45c-7d4381f2082e');\n",
              "          const dataTable =\n",
              "            await google.colab.kernel.invokeFunction('convertToInteractive',\n",
              "                                                     [key], {});\n",
              "          if (!dataTable) return;\n",
              "\n",
              "          const docLinkHtml = 'Like what you see? Visit the ' +\n",
              "            '<a target=\"_blank\" href=https://colab.research.google.com/notebooks/data_table.ipynb>data table notebook</a>'\n",
              "            + ' to learn more about interactive tables.';\n",
              "          element.innerHTML = '';\n",
              "          dataTable['output_type'] = 'display_data';\n",
              "          await google.colab.output.renderOutput(dataTable, element);\n",
              "          const docLink = document.createElement('div');\n",
              "          docLink.innerHTML = docLinkHtml;\n",
              "          element.appendChild(docLink);\n",
              "        }\n",
              "      </script>\n",
              "    </div>\n",
              "  </div>\n",
              "  "
            ]
          },
          "metadata": {},
          "execution_count": 14
        }
      ]
    },
    {
      "cell_type": "code",
      "source": [
        "duplicate = df[dfWithoutRef.duplicated()]\n",
        "print(\"Duplicate Rows :\")\n",
        "print(duplicate)"
      ],
      "metadata": {
        "colab": {
          "base_uri": "https://localhost:8080/"
        },
        "id": "vQQGN6xiAKpb",
        "outputId": "054f8b23-0ac3-4e72-bcc5-369ada8d6aa3"
      },
      "execution_count": 15,
      "outputs": [
        {
          "output_type": "stream",
          "name": "stdout",
          "text": [
            "Duplicate Rows :\n",
            "Empty DataFrame\n",
            "Columns: [Ref, First_Name, Last_Name, Email, Gender, IP_Address, Date_of_Birth]\n",
            "Index: []\n"
          ]
        }
      ]
    },
    {
      "cell_type": "markdown",
      "source": [
        "# Check size - should be 1000"
      ],
      "metadata": {
        "id": "xPw5jvnbBU6_"
      }
    },
    {
      "cell_type": "code",
      "source": [
        "print(df.shape)"
      ],
      "metadata": {
        "colab": {
          "base_uri": "https://localhost:8080/"
        },
        "id": "V6ndF6SqBvOa",
        "outputId": "733e99e9-1632-4064-acc4-2e83a8908d41"
      },
      "execution_count": 16,
      "outputs": [
        {
          "output_type": "stream",
          "name": "stdout",
          "text": [
            "(1000, 7)\n"
          ]
        }
      ]
    },
    {
      "cell_type": "markdown",
      "source": [
        "# Check Ref Column"
      ],
      "metadata": {
        "id": "STiXKaTkAxoi"
      }
    },
    {
      "cell_type": "code",
      "source": [
        "# check numeric\n",
        "print(is_numeric_dtype(df['Ref']))\n",
        "\n",
        "# check all values unique\n",
        "print(df['Ref'].is_unique)"
      ],
      "metadata": {
        "colab": {
          "base_uri": "https://localhost:8080/"
        },
        "id": "TQtTkxzeH4eh",
        "outputId": "a5ba18ec-7353-489d-dd8e-5369a747d829"
      },
      "execution_count": 17,
      "outputs": [
        {
          "output_type": "stream",
          "name": "stdout",
          "text": [
            "True\n",
            "True\n"
          ]
        }
      ]
    },
    {
      "cell_type": "code",
      "source": [
        "# check each row\n",
        "for index, row in df.iterrows():\n",
        "    if boolCheckLengthOverLimitInt(row['Ref'], 8) == True:\n",
        "      print(row['Ref'])\n",
        "\n",
        "    if pd.isna(row['Ref']):\n",
        "      print(\"row number: \" + str(index))\n",
        "      print(row['Ref'])\n",
        "      print(\"null\")"
      ],
      "metadata": {
        "id": "N3A6y1tXJTeV"
      },
      "execution_count": 18,
      "outputs": []
    },
    {
      "cell_type": "markdown",
      "source": [
        "# Check First Name"
      ],
      "metadata": {
        "id": "PMhJRMDGA3Zo"
      }
    },
    {
      "cell_type": "markdown",
      "source": [
        "Check type (character only)"
      ],
      "metadata": {
        "id": "9KJNNBr_CCl4"
      }
    },
    {
      "cell_type": "code",
      "source": [
        "# check numeric\n",
        "print(is_string_dtype(df['First_Name']))"
      ],
      "metadata": {
        "colab": {
          "base_uri": "https://localhost:8080/"
        },
        "id": "qFx9JvcRLt6T",
        "outputId": "806f76e7-31db-4435-e963-f944ecffdc04"
      },
      "execution_count": 38,
      "outputs": [
        {
          "output_type": "stream",
          "name": "stdout",
          "text": [
            "True\n"
          ]
        }
      ]
    },
    {
      "cell_type": "code",
      "source": [
        "# check each row\n",
        "for index, row in df.iterrows():\n",
        "    if pd.isna(row['First_Name']):\n",
        "      print(\"Issue with null\")\n",
        "      print(\"row number: \" + str(index))\n",
        "      print(row['First_Name'])\n",
        "\n",
        "    else:\n",
        "      if boolCheckLengthOverLimitInt(row['First_Name'], 20) == True:\n",
        "        print(\"Issue with length\")\n",
        "        print(\"row number: \" + str(index))\n",
        "        print(row['First_Name'])\n",
        "\n",
        "      if(checkCaseCorrect(row['First_Name']) == False):\n",
        "        print(\"Issue with capitilisation\")\n",
        "        print(\"row number: \" + str(index))\n",
        "        print(row['First_Name'])\n",
        "    \n",
        "      # need to search for numbers within\n",
        "      if checkOnlyCharacter(row['First_Name']) == False:\n",
        "        print(\"Issue with characters\")\n",
        "        print(\"row number: \" + str(index))\n",
        "        print(row['First_Name'])"
      ],
      "metadata": {
        "colab": {
          "base_uri": "https://localhost:8080/"
        },
        "id": "dSE3O-dwK2Uo",
        "outputId": "df8f43fb-ffda-43b8-b3f0-ad9ee045f9cc"
      },
      "execution_count": 93,
      "outputs": [
        {
          "output_type": "stream",
          "name": "stdout",
          "text": [
            "Issue with capitilisation\n",
            "row number: 5\n",
            "christabel\n",
            "here\n",
            "char:  \n",
            "Issue with characters\n",
            "row number: 287\n",
            "Miof mela\n",
            "Issue with capitilisation\n",
            "row number: 422\n",
            "andonis\n",
            "Issue with capitilisation\n",
            "row number: 481\n",
            "1ain\n",
            "here\n",
            "char: 1\n",
            "Issue with characters\n",
            "row number: 481\n",
            "1ain\n",
            "here\n",
            "char: -\n",
            "Issue with characters\n",
            "row number: 494\n",
            "Marie-ann\n",
            "Issue with capitilisation\n",
            "row number: 553\n",
            "0wen\n",
            "here\n",
            "char: 0\n",
            "Issue with characters\n",
            "row number: 553\n",
            "0wen\n",
            "here\n",
            "char: -\n",
            "Issue with characters\n",
            "row number: 612\n",
            "Anne-marie\n",
            "here\n",
            "char: '\n",
            "Issue with characters\n",
            "row number: 762\n",
            "D'arcy\n",
            "here\n",
            "char: '\n",
            "Issue with characters\n",
            "row number: 815\n",
            "D'arcy\n",
            "Issue with null\n",
            "row number: 892\n",
            "nan\n"
          ]
        }
      ]
    },
    {
      "cell_type": "markdown",
      "source": [
        "# Check Second Name"
      ],
      "metadata": {
        "id": "uIzNIorrCei0"
      }
    },
    {
      "cell_type": "code",
      "source": [
        "# check numeric\n",
        "print(is_string_dtype(df['Last_Name']))"
      ],
      "metadata": {
        "id": "nyZklHbSasyV"
      },
      "execution_count": null,
      "outputs": []
    },
    {
      "cell_type": "code",
      "source": [
        "# check each row\n",
        "for index, row in df.iterrows():\n",
        "    if pd.isna(row['Last_Name']):\n",
        "      print(\"Issue with null\")\n",
        "      print(\"row number: \" + str(index))\n",
        "      print(row['Last_Name'])\n",
        "\n",
        "    else:\n",
        "      if boolCheckLengthOverLimitInt(row['Last_Name'], 40) == True:\n",
        "        print(\"Issue with length\")\n",
        "        print(\"row number: \" + str(index))\n",
        "        print(row['Last_Name'])\n",
        "\n",
        "      if(checkCaseCorrect(row['Last_Name']) == False):\n",
        "        print(\"Issue with capitilisation\")\n",
        "        print(\"row number: \" + str(index))\n",
        "        print(row['Last_Name'])\n",
        "    \n",
        "      # need to search for numbers within\n",
        "      if checkOnlyCharacter(row['Last_Name']) == False:\n",
        "        print(\"Issue with characters\")\n",
        "        print(\"row number: \" + str(index))\n",
        "        print(row['Last_Name'])\n",
        "\n",
        "      if checkIfSpacesBetweenWords(row['Last_Name']) == True:\n",
        "        print(\"Issue with spaces\")\n",
        "        print(\"row number: \" + str(index))\n",
        "        print(row['Last_Name'])"
      ],
      "metadata": {
        "colab": {
          "base_uri": "https://localhost:8080/"
        },
        "id": "I774C4rta1en",
        "outputId": "5bf35793-c9e8-498c-9f61-106553309061"
      },
      "execution_count": 108,
      "outputs": [
        {
          "output_type": "stream",
          "name": "stdout",
          "text": [
            "Issue with capitilisation\n",
            "row number: 5\n",
            "start\n",
            "Issue with null\n",
            "row number: 26\n",
            "nan\n",
            "Issue with capitilisation\n",
            "row number: 57\n",
            "McDermid\n",
            "Issue with capitilisation\n",
            "row number: 78\n",
            "O' Markey\n",
            "here\n",
            "char: '\n",
            "Issue with characters\n",
            "row number: 78\n",
            "O' Markey\n",
            "Issue with spaces\n",
            "row number: 78\n",
            "O' Markey\n",
            "Issue with capitilisation\n",
            "row number: 100\n",
            "Mc Corley\n",
            "here\n",
            "char:  \n",
            "Issue with characters\n",
            "row number: 100\n",
            "Mc Corley\n",
            "Issue with spaces\n",
            "row number: 100\n",
            "Mc Corley\n",
            "Issue with capitilisation\n",
            "row number: 110\n",
            "Le Pruvost\n",
            "here\n",
            "char:  \n",
            "Issue with characters\n",
            "row number: 110\n",
            "Le Pruvost\n",
            "Issue with spaces\n",
            "row number: 110\n",
            "Le Pruvost\n",
            "Issue with capitilisation\n",
            "row number: 127\n",
            "Le Franc\n",
            "here\n",
            "char:  \n",
            "Issue with characters\n",
            "row number: 127\n",
            "Le Franc\n",
            "Issue with spaces\n",
            "row number: 127\n",
            "Le Franc\n",
            "Issue with null\n",
            "row number: 173\n",
            "nan\n",
            "Issue with capitilisation\n",
            "row number: 179\n",
            "Van Geffen\n",
            "here\n",
            "char:  \n",
            "Issue with characters\n",
            "row number: 179\n",
            "Van Geffen\n",
            "Issue with spaces\n",
            "row number: 179\n",
            "Van Geffen\n",
            "here\n",
            "char: `\n",
            "Issue with characters\n",
            "row number: 191\n",
            "Hainey`\n",
            "Issue with capitilisation\n",
            "row number: 218\n",
            "McIlveen\n",
            "Issue with capitilisation\n",
            "row number: 240\n",
            "Mc Gee\n",
            "here\n",
            "char:  \n",
            "Issue with characters\n",
            "row number: 240\n",
            "Mc Gee\n",
            "Issue with spaces\n",
            "row number: 240\n",
            "Mc Gee\n",
            "here\n",
            "char: 1\n",
            "Issue with characters\n",
            "row number: 297\n",
            "Gambe11\n",
            "Issue with capitilisation\n",
            "row number: 298\n",
            "McEntegart\n",
            "Issue with capitilisation\n",
            "row number: 321\n",
            "O'Dare\n",
            "here\n",
            "char: '\n",
            "Issue with characters\n",
            "row number: 321\n",
            "O'Dare\n",
            "Issue with capitilisation\n",
            "row number: 367\n",
            "MacNeish\n",
            "Issue with capitilisation\n",
            "row number: 375\n",
            "Falconer-Taylor\n",
            "here\n",
            "char: -\n",
            "Issue with characters\n",
            "row number: 375\n",
            "Falconer-Taylor\n",
            "Issue with capitilisation\n",
            "row number: 407\n",
            "MacAiline\n",
            "Issue with capitilisation\n",
            "row number: 422\n",
            "cappel\n",
            "Issue with capitilisation\n",
            "row number: 455\n",
            "O'Cannan\n",
            "here\n",
            "char: '\n",
            "Issue with characters\n",
            "row number: 455\n",
            "O'Cannan\n",
            "Issue with capitilisation\n",
            "row number: 457\n",
            "McGray\n",
            "Issue with capitilisation\n",
            "row number: 470\n",
            "McKernan\n",
            "Issue with capitilisation\n",
            "row number: 506\n",
            "McLaverty\n",
            "Issue with capitilisation\n",
            "row number: 576\n",
            "MacKintosh\n",
            "Issue with capitilisation\n",
            "row number: 594\n",
            "MacNeely\n",
            "Issue with capitilisation\n",
            "row number: 627\n",
            "McGuckin\n",
            "Issue with capitilisation\n",
            "row number: 638\n",
            "Van Dijk\n",
            "here\n",
            "char:  \n",
            "Issue with characters\n",
            "row number: 638\n",
            "Van Dijk\n",
            "Issue with spaces\n",
            "row number: 638\n",
            "Van Dijk\n",
            "Issue with capitilisation\n",
            "row number: 642\n",
            "Surman Wells\n",
            "here\n",
            "char:  \n",
            "Issue with characters\n",
            "row number: 642\n",
            "Surman Wells\n",
            "Issue with spaces\n",
            "row number: 642\n",
            "Surman Wells\n",
            "Issue with capitilisation\n",
            "row number: 646\n",
            "O'Henehan\n",
            "here\n",
            "char: '\n",
            "Issue with characters\n",
            "row number: 646\n",
            "O'Henehan\n",
            "Issue with capitilisation\n",
            "row number: 685\n",
            "McGinlay\n",
            "Issue with capitilisation\n",
            "row number: 686\n",
            "McCloid\n",
            "Issue with capitilisation\n",
            "row number: 707\n",
            "Du Pre\n",
            "here\n",
            "char:  \n",
            "Issue with characters\n",
            "row number: 707\n",
            "Du Pre\n",
            "Issue with spaces\n",
            "row number: 707\n",
            "Du Pre\n",
            "Issue with capitilisation\n",
            "row number: 711\n",
            "McClure\n",
            "Issue with capitilisation\n",
            "row number: 718\n",
            "McKeag\n",
            "Issue with capitilisation\n",
            "row number: 726\n",
            "O'Deegan\n",
            "here\n",
            "char: '\n",
            "Issue with characters\n",
            "row number: 726\n",
            "O'Deegan\n",
            "Issue with capitilisation\n",
            "row number: 770\n",
            "De Metz\n",
            "here\n",
            "char:  \n",
            "Issue with characters\n",
            "row number: 770\n",
            "De Metz\n",
            "Issue with spaces\n",
            "row number: 770\n",
            "De Metz\n",
            "Issue with capitilisation\n",
            "row number: 779\n",
            "McDaid\n",
            "Issue with capitilisation\n",
            "row number: 782\n",
            "O'Doireidh\n",
            "here\n",
            "char: '\n",
            "Issue with characters\n",
            "row number: 782\n",
            "O'Doireidh\n",
            "Issue with capitilisation\n",
            "row number: 797\n",
            "McAlpin\n",
            "Issue with capitilisation\n",
            "row number: 814\n",
            "0'Dowgaine\n",
            "here\n",
            "char: 0\n",
            "Issue with characters\n",
            "row number: 814\n",
            "0'Dowgaine\n",
            "Issue with capitilisation\n",
            "row number: 833\n",
            "Di Ruggero\n",
            "here\n",
            "char:  \n",
            "Issue with characters\n",
            "row number: 833\n",
            "Di Ruggero\n",
            "Issue with spaces\n",
            "row number: 833\n",
            "Di Ruggero\n",
            "Issue with capitilisation\n",
            "row number: 840\n",
            "McWaters\n",
            "Issue with capitilisation\n",
            "row number: 845\n",
            "McTerlagh\n",
            "Issue with capitilisation\n",
            "row number: 858\n",
            "Lambert-Ciorwyn\n",
            "here\n",
            "char: -\n",
            "Issue with characters\n",
            "row number: 858\n",
            "Lambert-Ciorwyn\n",
            "Issue with capitilisation\n",
            "row number: 869\n",
            "McCambrois\n",
            "Issue with capitilisation\n",
            "row number: 889\n",
            "McFater\n",
            "Issue with capitilisation\n",
            "row number: 892\n",
            "Donny Dobell\n",
            "here\n",
            "char:  \n",
            "Issue with characters\n",
            "row number: 892\n",
            "Donny Dobell\n",
            "Issue with spaces\n",
            "row number: 892\n",
            "Donny Dobell\n",
            "Issue with capitilisation\n",
            "row number: 919\n",
            "Le Lievre\n",
            "here\n",
            "char:  \n",
            "Issue with characters\n",
            "row number: 919\n",
            "Le Lievre\n",
            "Issue with spaces\n",
            "row number: 919\n",
            "Le Lievre\n",
            "Issue with capitilisation\n",
            "row number: 927\n",
            "Le Ball\n",
            "here\n",
            "char:  \n",
            "Issue with characters\n",
            "row number: 927\n",
            "Le Ball\n",
            "Issue with spaces\n",
            "row number: 927\n",
            "Le Ball\n",
            "Issue with capitilisation\n",
            "row number: 937\n",
            "O'Curran\n",
            "here\n",
            "char: '\n",
            "Issue with characters\n",
            "row number: 937\n",
            "O'Curran\n",
            "Issue with capitilisation\n",
            "row number: 939\n",
            "De Cleyne\n",
            "here\n",
            "char:  \n",
            "Issue with characters\n",
            "row number: 939\n",
            "De Cleyne\n",
            "Issue with spaces\n",
            "row number: 939\n",
            "De Cleyne\n",
            "Issue with capitilisation\n",
            "row number: 966\n",
            "Hanbury-Brown\n",
            "here\n",
            "char: -\n",
            "Issue with characters\n",
            "row number: 966\n",
            "Hanbury-Brown\n",
            "Issue with capitilisation\n",
            "row number: 991\n",
            "McGinn\n"
          ]
        }
      ]
    },
    {
      "cell_type": "markdown",
      "source": [
        "# Check Email "
      ],
      "metadata": {
        "id": "Xy6ieu5cl7V6"
      }
    },
    {
      "cell_type": "code",
      "source": [
        "# check string\n",
        "print(is_string_dtype(df['Email']))"
      ],
      "metadata": {
        "id": "2ZtzDmrgl-yh"
      },
      "execution_count": null,
      "outputs": []
    },
    {
      "cell_type": "code",
      "source": [
        "# check each row\n",
        "for index, row in df.iterrows():\n",
        "\n",
        "  if boolCheckLengthOverLimitInt(row['Email'], 254) == True:\n",
        "    print(\"Issue with length\")\n",
        "    print(\"row number: \" + str(index))\n",
        "    print(row['Email'])"
      ],
      "metadata": {
        "id": "vi4bZ7HTmQIT"
      },
      "execution_count": 109,
      "outputs": []
    },
    {
      "cell_type": "markdown",
      "source": [
        "# Check Gender"
      ],
      "metadata": {
        "id": "mVI-QhFtmxtn"
      }
    },
    {
      "cell_type": "code",
      "source": [
        "# check each row\n",
        "for index, row in df.iterrows():\n",
        "  if pd.notna(row['Gender']):\n",
        "    if type(row['Gender']) == str:\n",
        "\n",
        "      if boolCheckLengthOverLimitInt(row['Gender'], 6) == True:\n",
        "        print(\"Issue with length\")\n",
        "        print(\"row number: \" + str(index))\n",
        "        print(row['Gender'])\n",
        "\n",
        "      if checkMaleOrFemale(row['Gender']) == False:\n",
        "        print(\"Issue with not being male or female\")\n",
        "        print(\"row number: \" + str(index))\n",
        "        print(row['Gender'])"
      ],
      "metadata": {
        "colab": {
          "base_uri": "https://localhost:8080/"
        },
        "id": "SJoH9HQOnId2",
        "outputId": "62c2a853-7bd8-495c-dfe5-578e54d74037"
      },
      "execution_count": 24,
      "outputs": [
        {
          "output_type": "stream",
          "name": "stdout",
          "text": [
            "Issue with not being male or female\n",
            "row number: 123\n",
            "1\n",
            "Issue with not being male or female\n",
            "row number: 157\n",
            "m \n",
            "Issue with not being male or female\n",
            "row number: 346\n",
            "1\n",
            "Issue with not being male or female\n",
            "row number: 353\n",
            "1\n",
            "Issue with not being male or female\n",
            "row number: 401\n",
            "fem \n",
            "Issue with not being male or female\n",
            "row number: 520\n",
            "2\n",
            "Issue with not being male or female\n",
            "row number: 585\n",
            "f \n"
          ]
        }
      ]
    },
    {
      "cell_type": "markdown",
      "source": [
        "# Check IP Address"
      ],
      "metadata": {
        "id": "6wRa2qDPNvQy"
      }
    },
    {
      "cell_type": "code",
      "source": [
        "for index, row in df.iterrows():\n",
        "  if pd.notna(row['IP_Address']):\n",
        "    if type(row['IP_Address']) == str:\n",
        "\n",
        "      if boolCheckLengthOverLimitInt(row['IP_Address'], 15) == True:\n",
        "        print(\"Issue with length\")\n",
        "        print(\"row number: \" + str(index))\n",
        "        print(row['IP_Address'])\n",
        "      \n",
        "      if checkIfIPV4Valid(row['IP_Address']) == False:\n",
        "        print(\"Issue with IPV4 validity\")\n",
        "        print(\"row number: \" + str(index))\n",
        "        print(row['IP_Address'])"
      ],
      "metadata": {
        "colab": {
          "base_uri": "https://localhost:8080/"
        },
        "id": "LP_g8hQSNyEk",
        "outputId": "1043dfcd-95d2-4f9d-923b-975b8a6c5b98"
      },
      "execution_count": 27,
      "outputs": [
        {
          "output_type": "stream",
          "name": "stdout",
          "text": [
            "Issue with length\n",
            "row number: 8\n",
            "1df6:b3b9:cdb7:d246:3fe9:7288:46ee:e528\n",
            "Issue with IPV4 validity\n",
            "row number: 8\n",
            "1df6:b3b9:cdb7:d246:3fe9:7288:46ee:e528\n",
            "Issue with length\n",
            "row number: 248\n",
            "3382:2b24:9d84:3f16:93ed:c969:7099:3ce9\n",
            "Issue with IPV4 validity\n",
            "row number: 248\n",
            "3382:2b24:9d84:3f16:93ed:c969:7099:3ce9\n",
            "Issue with IPV4 validity\n",
            "row number: 296\n",
            "216.257.82.213\n",
            "Issue with IPV4 validity\n",
            "row number: 694\n",
            "6.43.0.73.0\n",
            "Issue with length\n",
            "row number: 759\n",
            "cb7f:eb37:387f:6995:e521:3606:6fd7:9ade\n",
            "Issue with IPV4 validity\n",
            "row number: 759\n",
            "cb7f:eb37:387f:6995:e521:3606:6fd7:9ade\n",
            "Issue with length\n",
            "row number: 886\n",
            "81fa:e7bb:8612:f955:3aba:14d0:f1a5:a5ff\n",
            "Issue with IPV4 validity\n",
            "row number: 886\n",
            "81fa:e7bb:8612:f955:3aba:14d0:f1a5:a5ff\n"
          ]
        }
      ]
    },
    {
      "cell_type": "markdown",
      "source": [
        "# Check Date of Birth"
      ],
      "metadata": {
        "id": "tDwinK76Pi-f"
      }
    },
    {
      "cell_type": "code",
      "source": [
        "for index, row in df.iterrows():\n",
        "  if pd.notna(row['Date_of_Birth']):\n",
        "    if type(row['Date_of_Birth']) == str:\n",
        "\n",
        "      if boolCheckLengthOverLimitInt(row['Date_of_Birth'], 10) == True:\n",
        "        print(\"Issue with length\")\n",
        "        print(\"row number: \" + str(index))\n",
        "        print(row['Date_of_Birth'])"
      ],
      "metadata": {
        "id": "k_5iaB11Plgf"
      },
      "execution_count": null,
      "outputs": []
    }
  ]
}