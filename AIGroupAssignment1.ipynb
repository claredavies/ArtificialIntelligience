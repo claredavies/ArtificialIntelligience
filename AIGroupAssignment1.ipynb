{
  "cells": [
    {
      "cell_type": "markdown",
      "metadata": {
        "id": "view-in-github",
        "colab_type": "text"
      },
      "source": [
        "<a href=\"https://colab.research.google.com/github/claredavies/ArtificialIntelligience/blob/main/AIGroupAssignment1.ipynb\" target=\"_parent\"><img src=\"https://colab.research.google.com/assets/colab-badge.svg\" alt=\"Open In Colab\"/></a>"
      ]
    },
    {
      "cell_type": "markdown",
      "metadata": {
        "id": "AKUyZYrWno1P"
      },
      "source": [
        "# Import Libraries"
      ]
    },
    {
      "cell_type": "code",
      "execution_count": 1,
      "metadata": {
        "colab": {
          "base_uri": "https://localhost:8080/"
        },
        "id": "sj8yu7S_nvug",
        "outputId": "ec165a23-0705-4507-f3bf-1a7eba5443fa"
      },
      "outputs": [
        {
          "output_type": "stream",
          "name": "stdout",
          "text": [
            "Looking in indexes: https://pypi.org/simple, https://us-python.pkg.dev/colab-wheels/public/simple/\n",
            "Collecting scikit-fuzzy\n",
            "  Downloading scikit-fuzzy-0.4.2.tar.gz (993 kB)\n",
            "\u001b[K     |████████████████████████████████| 993 kB 4.4 MB/s \n",
            "\u001b[?25hRequirement already satisfied: numpy>=1.6.0 in /usr/local/lib/python3.7/dist-packages (from scikit-fuzzy) (1.21.6)\n",
            "Requirement already satisfied: scipy>=0.9.0 in /usr/local/lib/python3.7/dist-packages (from scikit-fuzzy) (1.7.3)\n",
            "Requirement already satisfied: networkx>=1.9.0 in /usr/local/lib/python3.7/dist-packages (from scikit-fuzzy) (2.6.3)\n",
            "Building wheels for collected packages: scikit-fuzzy\n",
            "  Building wheel for scikit-fuzzy (setup.py) ... \u001b[?25l\u001b[?25hdone\n",
            "  Created wheel for scikit-fuzzy: filename=scikit_fuzzy-0.4.2-py3-none-any.whl size=894089 sha256=a0802cccdd231d9478a39efdcc1b5f5c8b1cdef46f5fc24aa9d07e585347b0e9\n",
            "  Stored in directory: /root/.cache/pip/wheels/d5/74/fc/38588a3d2e3f34f74588e6daa3aa5b0a322bd6f9420a707131\n",
            "Successfully built scikit-fuzzy\n",
            "Installing collected packages: scikit-fuzzy\n",
            "Successfully installed scikit-fuzzy-0.4.2\n"
          ]
        }
      ],
      "source": [
        " !pip install -U scikit-fuzzy"
      ]
    },
    {
      "cell_type": "code",
      "execution_count": 2,
      "metadata": {
        "id": "Da-iKpF3nuMP"
      },
      "outputs": [],
      "source": [
        "import numpy as np\n",
        "import pandas as pd\n",
        "import skfuzzy as fuzz\n",
        "from skfuzzy import control as ctrl\n",
        "import matplotlib.pyplot as plt\n",
        "from google.colab import files\n",
        "from itertools import product"
      ]
    },
    {
      "cell_type": "markdown",
      "source": [
        "# Read in data"
      ],
      "metadata": {
        "id": "VnDt8AQSZ-z1"
      }
    },
    {
      "cell_type": "code",
      "source": [
        "uploaded = files.upload()\n",
        "df = pd.read_csv('DatasetAI.csv', sep=';', delimiter=None, header='infer', names=None, index_col=None)"
      ],
      "metadata": {
        "colab": {
          "base_uri": "https://localhost:8080/",
          "height": 73
        },
        "id": "iXUQ9L-xaC89",
        "outputId": "9c7debd3-378e-4d9f-adc0-0b66967c5b9b"
      },
      "execution_count": 3,
      "outputs": [
        {
          "output_type": "display_data",
          "data": {
            "text/plain": [
              "<IPython.core.display.HTML object>"
            ],
            "text/html": [
              "\n",
              "     <input type=\"file\" id=\"files-39e55894-d959-4dde-afb9-18ac6adeb02a\" name=\"files[]\" multiple disabled\n",
              "        style=\"border:none\" />\n",
              "     <output id=\"result-39e55894-d959-4dde-afb9-18ac6adeb02a\">\n",
              "      Upload widget is only available when the cell has been executed in the\n",
              "      current browser session. Please rerun this cell to enable.\n",
              "      </output>\n",
              "      <script>// Copyright 2017 Google LLC\n",
              "//\n",
              "// Licensed under the Apache License, Version 2.0 (the \"License\");\n",
              "// you may not use this file except in compliance with the License.\n",
              "// You may obtain a copy of the License at\n",
              "//\n",
              "//      http://www.apache.org/licenses/LICENSE-2.0\n",
              "//\n",
              "// Unless required by applicable law or agreed to in writing, software\n",
              "// distributed under the License is distributed on an \"AS IS\" BASIS,\n",
              "// WITHOUT WARRANTIES OR CONDITIONS OF ANY KIND, either express or implied.\n",
              "// See the License for the specific language governing permissions and\n",
              "// limitations under the License.\n",
              "\n",
              "/**\n",
              " * @fileoverview Helpers for google.colab Python module.\n",
              " */\n",
              "(function(scope) {\n",
              "function span(text, styleAttributes = {}) {\n",
              "  const element = document.createElement('span');\n",
              "  element.textContent = text;\n",
              "  for (const key of Object.keys(styleAttributes)) {\n",
              "    element.style[key] = styleAttributes[key];\n",
              "  }\n",
              "  return element;\n",
              "}\n",
              "\n",
              "// Max number of bytes which will be uploaded at a time.\n",
              "const MAX_PAYLOAD_SIZE = 100 * 1024;\n",
              "\n",
              "function _uploadFiles(inputId, outputId) {\n",
              "  const steps = uploadFilesStep(inputId, outputId);\n",
              "  const outputElement = document.getElementById(outputId);\n",
              "  // Cache steps on the outputElement to make it available for the next call\n",
              "  // to uploadFilesContinue from Python.\n",
              "  outputElement.steps = steps;\n",
              "\n",
              "  return _uploadFilesContinue(outputId);\n",
              "}\n",
              "\n",
              "// This is roughly an async generator (not supported in the browser yet),\n",
              "// where there are multiple asynchronous steps and the Python side is going\n",
              "// to poll for completion of each step.\n",
              "// This uses a Promise to block the python side on completion of each step,\n",
              "// then passes the result of the previous step as the input to the next step.\n",
              "function _uploadFilesContinue(outputId) {\n",
              "  const outputElement = document.getElementById(outputId);\n",
              "  const steps = outputElement.steps;\n",
              "\n",
              "  const next = steps.next(outputElement.lastPromiseValue);\n",
              "  return Promise.resolve(next.value.promise).then((value) => {\n",
              "    // Cache the last promise value to make it available to the next\n",
              "    // step of the generator.\n",
              "    outputElement.lastPromiseValue = value;\n",
              "    return next.value.response;\n",
              "  });\n",
              "}\n",
              "\n",
              "/**\n",
              " * Generator function which is called between each async step of the upload\n",
              " * process.\n",
              " * @param {string} inputId Element ID of the input file picker element.\n",
              " * @param {string} outputId Element ID of the output display.\n",
              " * @return {!Iterable<!Object>} Iterable of next steps.\n",
              " */\n",
              "function* uploadFilesStep(inputId, outputId) {\n",
              "  const inputElement = document.getElementById(inputId);\n",
              "  inputElement.disabled = false;\n",
              "\n",
              "  const outputElement = document.getElementById(outputId);\n",
              "  outputElement.innerHTML = '';\n",
              "\n",
              "  const pickedPromise = new Promise((resolve) => {\n",
              "    inputElement.addEventListener('change', (e) => {\n",
              "      resolve(e.target.files);\n",
              "    });\n",
              "  });\n",
              "\n",
              "  const cancel = document.createElement('button');\n",
              "  inputElement.parentElement.appendChild(cancel);\n",
              "  cancel.textContent = 'Cancel upload';\n",
              "  const cancelPromise = new Promise((resolve) => {\n",
              "    cancel.onclick = () => {\n",
              "      resolve(null);\n",
              "    };\n",
              "  });\n",
              "\n",
              "  // Wait for the user to pick the files.\n",
              "  const files = yield {\n",
              "    promise: Promise.race([pickedPromise, cancelPromise]),\n",
              "    response: {\n",
              "      action: 'starting',\n",
              "    }\n",
              "  };\n",
              "\n",
              "  cancel.remove();\n",
              "\n",
              "  // Disable the input element since further picks are not allowed.\n",
              "  inputElement.disabled = true;\n",
              "\n",
              "  if (!files) {\n",
              "    return {\n",
              "      response: {\n",
              "        action: 'complete',\n",
              "      }\n",
              "    };\n",
              "  }\n",
              "\n",
              "  for (const file of files) {\n",
              "    const li = document.createElement('li');\n",
              "    li.append(span(file.name, {fontWeight: 'bold'}));\n",
              "    li.append(span(\n",
              "        `(${file.type || 'n/a'}) - ${file.size} bytes, ` +\n",
              "        `last modified: ${\n",
              "            file.lastModifiedDate ? file.lastModifiedDate.toLocaleDateString() :\n",
              "                                    'n/a'} - `));\n",
              "    const percent = span('0% done');\n",
              "    li.appendChild(percent);\n",
              "\n",
              "    outputElement.appendChild(li);\n",
              "\n",
              "    const fileDataPromise = new Promise((resolve) => {\n",
              "      const reader = new FileReader();\n",
              "      reader.onload = (e) => {\n",
              "        resolve(e.target.result);\n",
              "      };\n",
              "      reader.readAsArrayBuffer(file);\n",
              "    });\n",
              "    // Wait for the data to be ready.\n",
              "    let fileData = yield {\n",
              "      promise: fileDataPromise,\n",
              "      response: {\n",
              "        action: 'continue',\n",
              "      }\n",
              "    };\n",
              "\n",
              "    // Use a chunked sending to avoid message size limits. See b/62115660.\n",
              "    let position = 0;\n",
              "    do {\n",
              "      const length = Math.min(fileData.byteLength - position, MAX_PAYLOAD_SIZE);\n",
              "      const chunk = new Uint8Array(fileData, position, length);\n",
              "      position += length;\n",
              "\n",
              "      const base64 = btoa(String.fromCharCode.apply(null, chunk));\n",
              "      yield {\n",
              "        response: {\n",
              "          action: 'append',\n",
              "          file: file.name,\n",
              "          data: base64,\n",
              "        },\n",
              "      };\n",
              "\n",
              "      let percentDone = fileData.byteLength === 0 ?\n",
              "          100 :\n",
              "          Math.round((position / fileData.byteLength) * 100);\n",
              "      percent.textContent = `${percentDone}% done`;\n",
              "\n",
              "    } while (position < fileData.byteLength);\n",
              "  }\n",
              "\n",
              "  // All done.\n",
              "  yield {\n",
              "    response: {\n",
              "      action: 'complete',\n",
              "    }\n",
              "  };\n",
              "}\n",
              "\n",
              "scope.google = scope.google || {};\n",
              "scope.google.colab = scope.google.colab || {};\n",
              "scope.google.colab._files = {\n",
              "  _uploadFiles,\n",
              "  _uploadFilesContinue,\n",
              "};\n",
              "})(self);\n",
              "</script> "
            ]
          },
          "metadata": {}
        },
        {
          "output_type": "stream",
          "name": "stdout",
          "text": [
            "Saving DatasetAI.csv to DatasetAI.csv\n"
          ]
        }
      ]
    },
    {
      "cell_type": "code",
      "source": [
        "print(df.info())"
      ],
      "metadata": {
        "colab": {
          "base_uri": "https://localhost:8080/"
        },
        "id": "i3CgXxFBbmD1",
        "outputId": "85fb48f8-8249-4175-a787-d9ac155ac003"
      },
      "execution_count": 4,
      "outputs": [
        {
          "output_type": "stream",
          "name": "stdout",
          "text": [
            "<class 'pandas.core.frame.DataFrame'>\n",
            "RangeIndex: 50 entries, 0 to 49\n",
            "Data columns (total 1 columns):\n",
            " #   Column   Non-Null Count  Dtype \n",
            "---  ------   --------------  ----- \n",
            " 0   x1,x2,y  50 non-null     object\n",
            "dtypes: object(1)\n",
            "memory usage: 528.0+ bytes\n",
            "None\n"
          ]
        }
      ]
    },
    {
      "cell_type": "markdown",
      "metadata": {
        "id": "3mbGp6kLoOe3"
      },
      "source": [
        "# Linguistic Labels"
      ]
    },
    {
      "cell_type": "code",
      "source": [
        "def createDF(range_values, k):\n",
        "  label_list = []\n",
        "  centroid_list = []\n",
        "  start_list = []\n",
        "  end_list = []\n",
        "\n",
        "  for x in range(1, (k+1), 1):\n",
        "    slot = (np.max(range_values) - np.min(range_values))/(k-1)\n",
        "    start_centroid = np.min(range_values)\n",
        "    if x == 0:\n",
        "      start = 0\n",
        "      centroid = start_centroid\n",
        "      end = start + slot\n",
        "\n",
        "    if x == k:\n",
        "      centroid = np.max(range_values)\n",
        "      end = k\n",
        "      start = end - slot\n",
        "\n",
        "    else:\n",
        "      centroid = start_centroid + (x-1)*slot\n",
        "      start = centroid - slot\n",
        "      end = centroid + slot\n",
        "\n",
        "    label_list.append(x)\n",
        "    centroid_list.append(centroid)\n",
        "    start_list.append(start)\n",
        "    end_list.append(end)\n",
        "  \n",
        "  df = pd.DataFrame(list(zip(label_list, centroid_list, start_list, end_list)),\n",
        "               columns =['label', 'centroid', 'start', 'end'])\n",
        "  \n",
        "  return df"
      ],
      "metadata": {
        "id": "c4mt7ZGuPQIy"
      },
      "execution_count": 13,
      "outputs": []
    },
    {
      "cell_type": "code",
      "source": [
        "x1 = np.arange(1, 6, 1)\n",
        "# np.min(x1)\n",
        "createDF(x1, 5)"
      ],
      "metadata": {
        "colab": {
          "base_uri": "https://localhost:8080/",
          "height": 206
        },
        "id": "YyoWCMn268yc",
        "outputId": "459c3606-62fb-45c9-bba2-13226970b605"
      },
      "execution_count": 14,
      "outputs": [
        {
          "output_type": "execute_result",
          "data": {
            "text/plain": [
              "   label  centroid  start  end\n",
              "0      1       1.0    0.0  2.0\n",
              "1      2       2.0    1.0  3.0\n",
              "2      3       3.0    2.0  4.0\n",
              "3      4       4.0    3.0  5.0\n",
              "4      5       5.0    4.0  5.0"
            ],
            "text/html": [
              "\n",
              "  <div id=\"df-c23bb097-f440-4269-916b-d315b08e4fe2\">\n",
              "    <div class=\"colab-df-container\">\n",
              "      <div>\n",
              "<style scoped>\n",
              "    .dataframe tbody tr th:only-of-type {\n",
              "        vertical-align: middle;\n",
              "    }\n",
              "\n",
              "    .dataframe tbody tr th {\n",
              "        vertical-align: top;\n",
              "    }\n",
              "\n",
              "    .dataframe thead th {\n",
              "        text-align: right;\n",
              "    }\n",
              "</style>\n",
              "<table border=\"1\" class=\"dataframe\">\n",
              "  <thead>\n",
              "    <tr style=\"text-align: right;\">\n",
              "      <th></th>\n",
              "      <th>label</th>\n",
              "      <th>centroid</th>\n",
              "      <th>start</th>\n",
              "      <th>end</th>\n",
              "    </tr>\n",
              "  </thead>\n",
              "  <tbody>\n",
              "    <tr>\n",
              "      <th>0</th>\n",
              "      <td>1</td>\n",
              "      <td>1.0</td>\n",
              "      <td>0.0</td>\n",
              "      <td>2.0</td>\n",
              "    </tr>\n",
              "    <tr>\n",
              "      <th>1</th>\n",
              "      <td>2</td>\n",
              "      <td>2.0</td>\n",
              "      <td>1.0</td>\n",
              "      <td>3.0</td>\n",
              "    </tr>\n",
              "    <tr>\n",
              "      <th>2</th>\n",
              "      <td>3</td>\n",
              "      <td>3.0</td>\n",
              "      <td>2.0</td>\n",
              "      <td>4.0</td>\n",
              "    </tr>\n",
              "    <tr>\n",
              "      <th>3</th>\n",
              "      <td>4</td>\n",
              "      <td>4.0</td>\n",
              "      <td>3.0</td>\n",
              "      <td>5.0</td>\n",
              "    </tr>\n",
              "    <tr>\n",
              "      <th>4</th>\n",
              "      <td>5</td>\n",
              "      <td>5.0</td>\n",
              "      <td>4.0</td>\n",
              "      <td>5.0</td>\n",
              "    </tr>\n",
              "  </tbody>\n",
              "</table>\n",
              "</div>\n",
              "      <button class=\"colab-df-convert\" onclick=\"convertToInteractive('df-c23bb097-f440-4269-916b-d315b08e4fe2')\"\n",
              "              title=\"Convert this dataframe to an interactive table.\"\n",
              "              style=\"display:none;\">\n",
              "        \n",
              "  <svg xmlns=\"http://www.w3.org/2000/svg\" height=\"24px\"viewBox=\"0 0 24 24\"\n",
              "       width=\"24px\">\n",
              "    <path d=\"M0 0h24v24H0V0z\" fill=\"none\"/>\n",
              "    <path d=\"M18.56 5.44l.94 2.06.94-2.06 2.06-.94-2.06-.94-.94-2.06-.94 2.06-2.06.94zm-11 1L8.5 8.5l.94-2.06 2.06-.94-2.06-.94L8.5 2.5l-.94 2.06-2.06.94zm10 10l.94 2.06.94-2.06 2.06-.94-2.06-.94-.94-2.06-.94 2.06-2.06.94z\"/><path d=\"M17.41 7.96l-1.37-1.37c-.4-.4-.92-.59-1.43-.59-.52 0-1.04.2-1.43.59L10.3 9.45l-7.72 7.72c-.78.78-.78 2.05 0 2.83L4 21.41c.39.39.9.59 1.41.59.51 0 1.02-.2 1.41-.59l7.78-7.78 2.81-2.81c.8-.78.8-2.07 0-2.86zM5.41 20L4 18.59l7.72-7.72 1.47 1.35L5.41 20z\"/>\n",
              "  </svg>\n",
              "      </button>\n",
              "      \n",
              "  <style>\n",
              "    .colab-df-container {\n",
              "      display:flex;\n",
              "      flex-wrap:wrap;\n",
              "      gap: 12px;\n",
              "    }\n",
              "\n",
              "    .colab-df-convert {\n",
              "      background-color: #E8F0FE;\n",
              "      border: none;\n",
              "      border-radius: 50%;\n",
              "      cursor: pointer;\n",
              "      display: none;\n",
              "      fill: #1967D2;\n",
              "      height: 32px;\n",
              "      padding: 0 0 0 0;\n",
              "      width: 32px;\n",
              "    }\n",
              "\n",
              "    .colab-df-convert:hover {\n",
              "      background-color: #E2EBFA;\n",
              "      box-shadow: 0px 1px 2px rgba(60, 64, 67, 0.3), 0px 1px 3px 1px rgba(60, 64, 67, 0.15);\n",
              "      fill: #174EA6;\n",
              "    }\n",
              "\n",
              "    [theme=dark] .colab-df-convert {\n",
              "      background-color: #3B4455;\n",
              "      fill: #D2E3FC;\n",
              "    }\n",
              "\n",
              "    [theme=dark] .colab-df-convert:hover {\n",
              "      background-color: #434B5C;\n",
              "      box-shadow: 0px 1px 3px 1px rgba(0, 0, 0, 0.15);\n",
              "      filter: drop-shadow(0px 1px 2px rgba(0, 0, 0, 0.3));\n",
              "      fill: #FFFFFF;\n",
              "    }\n",
              "  </style>\n",
              "\n",
              "      <script>\n",
              "        const buttonEl =\n",
              "          document.querySelector('#df-c23bb097-f440-4269-916b-d315b08e4fe2 button.colab-df-convert');\n",
              "        buttonEl.style.display =\n",
              "          google.colab.kernel.accessAllowed ? 'block' : 'none';\n",
              "\n",
              "        async function convertToInteractive(key) {\n",
              "          const element = document.querySelector('#df-c23bb097-f440-4269-916b-d315b08e4fe2');\n",
              "          const dataTable =\n",
              "            await google.colab.kernel.invokeFunction('convertToInteractive',\n",
              "                                                     [key], {});\n",
              "          if (!dataTable) return;\n",
              "\n",
              "          const docLinkHtml = 'Like what you see? Visit the ' +\n",
              "            '<a target=\"_blank\" href=https://colab.research.google.com/notebooks/data_table.ipynb>data table notebook</a>'\n",
              "            + ' to learn more about interactive tables.';\n",
              "          element.innerHTML = '';\n",
              "          dataTable['output_type'] = 'display_data';\n",
              "          await google.colab.output.renderOutput(dataTable, element);\n",
              "          const docLink = document.createElement('div');\n",
              "          docLink.innerHTML = docLinkHtml;\n",
              "          element.appendChild(docLink);\n",
              "        }\n",
              "      </script>\n",
              "    </div>\n",
              "  </div>\n",
              "  "
            ]
          },
          "metadata": {},
          "execution_count": 14
        }
      ]
    },
    {
      "cell_type": "code",
      "execution_count": 119,
      "metadata": {
        "id": "7vn2v3OrneXb"
      },
      "outputs": [],
      "source": [
        "# Generate universe variables\n",
        "#   * Quality and service on subjective ranges [0, 10]\n",
        "#   * Tip has a range of [0, 25] in units of percentage points\n",
        "x1 = np.arange(1, 6, 1)\n",
        "x2 = np.arange(1, 6, 1)\n",
        "y  = np.arange(1, 6, 1)\n",
        "\n",
        "# Generate fuzzy membership functions\n",
        "# start point, y point, end point\n",
        "x1_s_centroid = 1\n",
        "x1_s = fuzz.trimf(x1, [0, x1_s_centroid, 2])\n",
        "x1_ms_centroid = 2\n",
        "x1_ms = fuzz.trimf(x1, [1, x1_ms_centroid, 3])\n",
        "x1_m_centroid = 3\n",
        "x1_m = fuzz.trimf(x1, [2, x1_m_centroid, 4])\n",
        "x1_ml_centroid = 4\n",
        "x1_ml = fuzz.trimf(x1, [3, x1_ml_centroid , 5])\n",
        "x1_l_centroid = 5\n",
        "x1_l = fuzz.trimf(x1, [4, x1_l_centroid, 5])\n",
        "\n",
        "x2_s = fuzz.trimf(x2, [0, 1, 2])\n",
        "x2_ms = fuzz.trimf(x2, [1, 2, 3])\n",
        "x2_m = fuzz.trimf(x2, [2, 3, 4])\n",
        "x2_ml = fuzz.trimf(x2, [3, 4 , 5])\n",
        "x2_l = fuzz.trimf(x2, [4, 5, 5])\n",
        "\n",
        "y_s = fuzz.trimf(y, [0, 1, 2])\n",
        "y_ms = fuzz.trimf(y, [1, 2, 3])\n",
        "y_m = fuzz.trimf(y, [2, 3, 4])\n",
        "y_ml = fuzz.trimf(y, [3, 4 , 5])\n",
        "y_l = fuzz.trimf(y, [4, 5, 5])"
      ]
    },
    {
      "cell_type": "code",
      "source": [
        "slot = (np.max(x1) - np.min(x1))/5\n",
        "print(slot)"
      ],
      "metadata": {
        "colab": {
          "base_uri": "https://localhost:8080/"
        },
        "id": "W8kvTkCkO0LT",
        "outputId": "4801281c-7d6f-49de-e4ef-80cdadcff311"
      },
      "execution_count": 123,
      "outputs": [
        {
          "output_type": "stream",
          "name": "stdout",
          "text": [
            "0.8\n"
          ]
        }
      ]
    },
    {
      "cell_type": "markdown",
      "source": [
        "# Visualize these universes and membership functions"
      ],
      "metadata": {
        "id": "KAipuGnFNEpx"
      }
    },
    {
      "cell_type": "code",
      "source": [
        "# Visualize these universes and membership functions\n",
        "fig, (ax0, ax1, ax2) = plt.subplots(nrows=3, figsize=(8, 9))\n",
        "\n",
        "ax0.plot(x1, x1_s, 'b', linewidth=1.5, label='s')\n",
        "ax0.plot(x1, x1_ms, 'g', linewidth=1.5, label='ms')\n",
        "ax0.plot(x1, x1_m, 'r', linewidth=1.5, label='m')\n",
        "ax0.plot(x1, x1_ml, 'c', linewidth=1.5, label='ml')\n",
        "ax0.plot(x1, x1_l, 'k', linewidth=1.5, label='l')\n",
        "ax0.set_title('x1')\n",
        "ax0.legend()\n",
        "\n",
        "\n",
        "ax1.plot(x2, x2_s, 'b', linewidth=1.5, label='s')\n",
        "ax1.plot(x2, x2_ms, 'g', linewidth=1.5, label='ms')\n",
        "ax1.plot(x2, x2_m, 'r', linewidth=1.5, label='m')\n",
        "ax1.plot(x2, x2_ml, 'c', linewidth=1.5, label='ml')\n",
        "ax1.plot(x2, x2_l, 'k', linewidth=1.5, label='l')\n",
        "ax1.set_title('x2')\n",
        "ax1.legend()\n",
        "\n",
        "ax2.plot(y, y_s, 'b', linewidth=1.5, label='s')\n",
        "ax2.plot(y, y_ms, 'g', linewidth=1.5, label='ms')\n",
        "ax2.plot(y, y_m, 'r', linewidth=1.5, label='m')\n",
        "ax2.plot(y, y_ml, 'c', linewidth=1.5, label='ml')\n",
        "ax2.plot(y, y_l, 'k', linewidth=1.5, label='l')\n",
        "ax2.set_title('y')\n",
        "ax2.legend()\n",
        "\n",
        "# Turn off top/right axes\n",
        "for ax in (ax0, ax1, ax2):\n",
        "    ax.spines['top'].set_visible(False)\n",
        "    ax.spines['right'].set_visible(False)\n",
        "    ax.get_xaxis().tick_bottom()\n",
        "    ax.get_yaxis().tick_left()\n",
        "\n",
        "plt.tight_layout()"
      ],
      "metadata": {
        "id": "_9PChuh1NBkB"
      },
      "execution_count": null,
      "outputs": []
    },
    {
      "cell_type": "code",
      "source": [
        "#create dataframe\n",
        "df_x1 = pd.DataFrame()\n",
        "df_x2 = pd.DataFrame()\n",
        "df_y = pd.DataFrame()"
      ],
      "metadata": {
        "id": "M0-TB4iCDwUC"
      },
      "execution_count": 109,
      "outputs": []
    },
    {
      "cell_type": "code",
      "source": [
        "print(df_x1.head())"
      ],
      "metadata": {
        "colab": {
          "base_uri": "https://localhost:8080/"
        },
        "id": "eAdiVC9DFAEe",
        "outputId": "8446f80f-1e4e-4943-b700-3d5515a3e544"
      },
      "execution_count": 115,
      "outputs": [
        {
          "output_type": "stream",
          "name": "stdout",
          "text": [
            "Empty DataFrame\n",
            "Columns: []\n",
            "Index: []\n"
          ]
        }
      ]
    },
    {
      "cell_type": "markdown",
      "source": [
        "# Create primary and secondary tables"
      ],
      "metadata": {
        "id": "myYJog_36YrR"
      }
    },
    {
      "cell_type": "code",
      "source": [
        "data = [['s', 's'], ['ms', 'ms'], ['m', 'm'],['ml', 'ml'],['l', 'l']]\n",
        "df = pd.DataFrame(data, columns=['x1', 'x2'])\n"
      ],
      "metadata": {
        "id": "N2Uktn3q33BI"
      },
      "execution_count": 54,
      "outputs": []
    },
    {
      "cell_type": "code",
      "source": [
        "print(df)"
      ],
      "metadata": {
        "colab": {
          "base_uri": "https://localhost:8080/"
        },
        "id": "5CC0ZHyd49QJ",
        "outputId": "06961aae-bb8f-4b88-9fc3-347127a89f7e"
      },
      "execution_count": 55,
      "outputs": [
        {
          "output_type": "stream",
          "name": "stdout",
          "text": [
            "   x1  x2\n",
            "0   s   s\n",
            "1  ms  ms\n",
            "2   m   m\n",
            "3  ml  ml\n",
            "4   l   l\n"
          ]
        }
      ]
    },
    {
      "cell_type": "markdown",
      "source": [
        "Generate all combinations of the catergorical variables"
      ],
      "metadata": {
        "id": "vaCai-_Z5xUp"
      }
    },
    {
      "cell_type": "code",
      "source": [
        "# apply product method\n",
        "result_list = list(product(df['x1'], df['x2']))"
      ],
      "metadata": {
        "id": "HDUY-NT55B6D"
      },
      "execution_count": 56,
      "outputs": []
    },
    {
      "cell_type": "markdown",
      "source": [
        "Turn combination list into dataframe and add y column"
      ],
      "metadata": {
        "id": "Hzgdktsr567Y"
      }
    },
    {
      "cell_type": "code",
      "source": [
        "df = pd.DataFrame (result_list, columns = ['x1', 'x2'])\n",
        "df[\"y\"] = np.nan"
      ],
      "metadata": {
        "id": "6T_a-K475On8"
      },
      "execution_count": 57,
      "outputs": []
    },
    {
      "cell_type": "markdown",
      "source": [
        "Create primary and secondary tables"
      ],
      "metadata": {
        "id": "8ZUu-qLM6GyE"
      }
    },
    {
      "cell_type": "code",
      "source": [
        "df_main = df.copy()\n",
        "df_secondary = df.copy()"
      ],
      "metadata": {
        "id": "soOJEJN-6AEE"
      },
      "execution_count": 59,
      "outputs": []
    },
    {
      "cell_type": "code",
      "source": [
        "print(df_main)"
      ],
      "metadata": {
        "colab": {
          "base_uri": "https://localhost:8080/"
        },
        "id": "0XTK78UH6PGZ",
        "outputId": "59b83e5d-d7da-4e13-912e-58f4f9ad76aa"
      },
      "execution_count": 60,
      "outputs": [
        {
          "output_type": "stream",
          "name": "stdout",
          "text": [
            "    x1  x2   y\n",
            "0    s   s NaN\n",
            "1    s  ms NaN\n",
            "2    s   m NaN\n",
            "3    s  ml NaN\n",
            "4    s   l NaN\n",
            "5   ms   s NaN\n",
            "6   ms  ms NaN\n",
            "7   ms   m NaN\n",
            "8   ms  ml NaN\n",
            "9   ms   l NaN\n",
            "10   m   s NaN\n",
            "11   m  ms NaN\n",
            "12   m   m NaN\n",
            "13   m  ml NaN\n",
            "14   m   l NaN\n",
            "15  ml   s NaN\n",
            "16  ml  ms NaN\n",
            "17  ml   m NaN\n",
            "18  ml  ml NaN\n",
            "19  ml   l NaN\n",
            "20   l   s NaN\n",
            "21   l  ms NaN\n",
            "22   l   m NaN\n",
            "23   l  ml NaN\n",
            "24   l   l NaN\n"
          ]
        }
      ]
    },
    {
      "cell_type": "markdown",
      "metadata": {
        "id": "yYxCX7qppiX4"
      },
      "source": [
        "# Fuzzy Rules"
      ]
    },
    {
      "cell_type": "markdown",
      "source": [
        "![image.png](data:image/png;base64,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)"
      ],
      "metadata": {
        "id": "n57v2xN6g-Lg"
      }
    },
    {
      "cell_type": "markdown",
      "source": [
        "![image.png](data:image/png;base64,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)"
      ],
      "metadata": {
        "id": "55UkwqkvinHc"
      }
    }
  ],
  "metadata": {
    "colab": {
      "collapsed_sections": [],
      "provenance": [],
      "authorship_tag": "ABX9TyM8RLketddvG4TGXSKfW+us",
      "include_colab_link": true
    },
    "kernelspec": {
      "display_name": "Python 3",
      "name": "python3"
    },
    "language_info": {
      "name": "python"
    }
  },
  "nbformat": 4,
  "nbformat_minor": 0
}